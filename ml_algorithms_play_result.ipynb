{
 "cells": [
  {
   "cell_type": "markdown",
   "metadata": {},
   "source": [
    "# So my notes got messed up and I got to work soon\n",
    "I messed up the pushed to the repo and deleted the file with my notes/comments so long story short\n",
    "\n",
    "I ran Random Forest, XGBoost, and SVC.\n",
    "\n",
    "While reviewing I found some issues with my categorical encoding so I'll fix and let it run while on drill\n",
    "and also run SVC again cause I stopped after 4 hours"
   ]
  },
  {
   "cell_type": "code",
   "execution_count": 1,
   "metadata": {},
   "outputs": [
    {
     "name": "stderr",
     "output_type": "stream",
     "text": [
      "2024-12-06 20:08:44.610986: I tensorflow/core/util/port.cc:153] oneDNN custom operations are on. You may see slightly different numerical results due to floating-point round-off errors from different computation orders. To turn them off, set the environment variable `TF_ENABLE_ONEDNN_OPTS=0`.\n",
      "2024-12-06 20:08:44.682437: E external/local_xla/xla/stream_executor/cuda/cuda_fft.cc:485] Unable to register cuFFT factory: Attempting to register factory for plugin cuFFT when one has already been registered\n",
      "2024-12-06 20:08:44.705326: E external/local_xla/xla/stream_executor/cuda/cuda_dnn.cc:8454] Unable to register cuDNN factory: Attempting to register factory for plugin cuDNN when one has already been registered\n",
      "2024-12-06 20:08:44.711950: E external/local_xla/xla/stream_executor/cuda/cuda_blas.cc:1452] Unable to register cuBLAS factory: Attempting to register factory for plugin cuBLAS when one has already been registered\n",
      "2024-12-06 20:08:44.757461: I tensorflow/core/platform/cpu_feature_guard.cc:210] This TensorFlow binary is optimized to use available CPU instructions in performance-critical operations.\n",
      "To enable the following instructions: AVX2 AVX_VNNI FMA, in other operations, rebuild TensorFlow with the appropriate compiler flags.\n",
      "2024-12-06 20:08:45.718720: W tensorflow/compiler/tf2tensorrt/utils/py_utils.cc:38] TF-TRT Warning: Could not find TensorRT\n"
     ]
    }
   ],
   "source": [
    "import pandas as pd\n",
    "import numpy as np \n",
    "import glob\n",
    "import os\n",
    "import matplotlib.pyplot as plt\n",
    "from sklearn.model_selection import train_test_split\n",
    "from sklearn.preprocessing import StandardScaler, LabelEncoder\n",
    "from sklearn import ensemble\n",
    "from sklearn.metrics import confusion_matrix, ConfusionMatrixDisplay\n",
    "from sklearn.cluster import KMeans\n",
    "from category_encoders import BinaryEncoder\n",
    "import tensorflow as tf\n",
    "from tensorflow import keras\n",
    "from keras import metrics\n",
    "import xgboost as xgb\n",
    "from sklearn.metrics import mean_squared_error as MSE \n",
    "from sklearn.model_selection import cross_val_score\n",
    "from sklearn.model_selection import RepeatedKFold\n",
    "from sklearn.metrics import accuracy_score, classification_report\n",
    "\n",
    "\n"
   ]
  },
  {
   "cell_type": "code",
   "execution_count": 2,
   "metadata": {},
   "outputs": [
    {
     "name": "stdout",
     "output_type": "stream",
     "text": [
      "\u001b[H\u001b[2J"
     ]
    },
    {
     "data": {
      "text/plain": [
       "0"
      ]
     },
     "execution_count": 2,
     "metadata": {},
     "output_type": "execute_result"
    }
   ],
   "source": [
    "os.system('clear') \n"
   ]
  },
  {
   "cell_type": "code",
   "execution_count": 3,
   "metadata": {},
   "outputs": [
    {
     "name": "stderr",
     "output_type": "stream",
     "text": [
      "/tmp/ipykernel_17234/3810129578.py:2: DtypeWarning: Columns (27,92,93) have mixed types. Specify dtype option on import or set low_memory=False.\n",
      "  predata = pd.read_csv(\"/home/eduardogh99/datasci207/talkin-ball-with-Santerre/training_data.csv\")\n"
     ]
    }
   ],
   "source": [
    "# Predata is used to make changes on the fly\n",
    "predata = pd.read_csv(\"/home/eduardogh99/datasci207/talkin-ball-with-Santerre/training_data.csv\")"
   ]
  },
  {
   "cell_type": "code",
   "execution_count": 4,
   "metadata": {},
   "outputs": [
    {
     "name": "stdout",
     "output_type": "stream",
     "text": [
      "Rows: 1068473\n",
      "Columns: 167\n"
     ]
    }
   ],
   "source": [
    "# Quick Check\n",
    "rows = predata.shape[0]\n",
    "cols = predata.shape[1]\n",
    "print(f\"Rows: {rows}\")\n",
    "print(f\"Columns: {cols}\")"
   ]
  },
  {
   "cell_type": "code",
   "execution_count": 5,
   "metadata": {},
   "outputs": [
    {
     "data": {
      "text/html": [
       "<div>\n",
       "<style scoped>\n",
       "    .dataframe tbody tr th:only-of-type {\n",
       "        vertical-align: middle;\n",
       "    }\n",
       "\n",
       "    .dataframe tbody tr th {\n",
       "        vertical-align: top;\n",
       "    }\n",
       "\n",
       "    .dataframe thead th {\n",
       "        text-align: right;\n",
       "    }\n",
       "</style>\n",
       "<table border=\"1\" class=\"dataframe\">\n",
       "  <thead>\n",
       "    <tr style=\"text-align: right;\">\n",
       "      <th></th>\n",
       "      <th>PitchNo</th>\n",
       "      <th>Date</th>\n",
       "      <th>Time</th>\n",
       "      <th>PAofInning</th>\n",
       "      <th>PitchofPA</th>\n",
       "      <th>Pitcher</th>\n",
       "      <th>PitcherId</th>\n",
       "      <th>PitcherThrows</th>\n",
       "      <th>PitcherTeam</th>\n",
       "      <th>Batter</th>\n",
       "      <th>...</th>\n",
       "      <th>ThrowTrajectoryZc1</th>\n",
       "      <th>ThrowTrajectoryZc2</th>\n",
       "      <th>PitchReleaseConfidence</th>\n",
       "      <th>PitchLocationConfidence</th>\n",
       "      <th>PitchMovementConfidence</th>\n",
       "      <th>HitLaunchConfidence</th>\n",
       "      <th>HitLandingConfidence</th>\n",
       "      <th>CatcherThrowCatchConfidence</th>\n",
       "      <th>CatcherThrowReleaseConfidence</th>\n",
       "      <th>CatcherThrowLocationConfidence</th>\n",
       "    </tr>\n",
       "  </thead>\n",
       "  <tbody>\n",
       "    <tr>\n",
       "      <th>0</th>\n",
       "      <td>1</td>\n",
       "      <td>2024-03-02</td>\n",
       "      <td>13:32:53.75</td>\n",
       "      <td>1.0</td>\n",
       "      <td>1.0</td>\n",
       "      <td>Quinn, JT</td>\n",
       "      <td>1.000234e+09</td>\n",
       "      <td>Right</td>\n",
       "      <td>OLE_REB</td>\n",
       "      <td>Wilmes, Ben</td>\n",
       "      <td>...</td>\n",
       "      <td>NaN</td>\n",
       "      <td>NaN</td>\n",
       "      <td>High</td>\n",
       "      <td>High</td>\n",
       "      <td>High</td>\n",
       "      <td>NaN</td>\n",
       "      <td>NaN</td>\n",
       "      <td>NaN</td>\n",
       "      <td>NaN</td>\n",
       "      <td>NaN</td>\n",
       "    </tr>\n",
       "    <tr>\n",
       "      <th>1</th>\n",
       "      <td>2</td>\n",
       "      <td>2024-03-02</td>\n",
       "      <td>13:33:10.55</td>\n",
       "      <td>1.0</td>\n",
       "      <td>2.0</td>\n",
       "      <td>Quinn, JT</td>\n",
       "      <td>1.000234e+09</td>\n",
       "      <td>Right</td>\n",
       "      <td>OLE_REB</td>\n",
       "      <td>Wilmes, Ben</td>\n",
       "      <td>...</td>\n",
       "      <td>NaN</td>\n",
       "      <td>NaN</td>\n",
       "      <td>High</td>\n",
       "      <td>High</td>\n",
       "      <td>High</td>\n",
       "      <td>NaN</td>\n",
       "      <td>NaN</td>\n",
       "      <td>NaN</td>\n",
       "      <td>NaN</td>\n",
       "      <td>NaN</td>\n",
       "    </tr>\n",
       "    <tr>\n",
       "      <th>2</th>\n",
       "      <td>3</td>\n",
       "      <td>2024-03-02</td>\n",
       "      <td>13:33:23.01</td>\n",
       "      <td>1.0</td>\n",
       "      <td>3.0</td>\n",
       "      <td>Quinn, JT</td>\n",
       "      <td>1.000234e+09</td>\n",
       "      <td>Right</td>\n",
       "      <td>OLE_REB</td>\n",
       "      <td>Wilmes, Ben</td>\n",
       "      <td>...</td>\n",
       "      <td>NaN</td>\n",
       "      <td>NaN</td>\n",
       "      <td>High</td>\n",
       "      <td>High</td>\n",
       "      <td>High</td>\n",
       "      <td>Medium</td>\n",
       "      <td>Low</td>\n",
       "      <td>NaN</td>\n",
       "      <td>NaN</td>\n",
       "      <td>NaN</td>\n",
       "    </tr>\n",
       "    <tr>\n",
       "      <th>3</th>\n",
       "      <td>4</td>\n",
       "      <td>2024-03-02</td>\n",
       "      <td>13:33:44.31</td>\n",
       "      <td>1.0</td>\n",
       "      <td>4.0</td>\n",
       "      <td>Quinn, JT</td>\n",
       "      <td>1.000234e+09</td>\n",
       "      <td>Right</td>\n",
       "      <td>OLE_REB</td>\n",
       "      <td>Wilmes, Ben</td>\n",
       "      <td>...</td>\n",
       "      <td>NaN</td>\n",
       "      <td>NaN</td>\n",
       "      <td>High</td>\n",
       "      <td>High</td>\n",
       "      <td>High</td>\n",
       "      <td>High</td>\n",
       "      <td>Low</td>\n",
       "      <td>NaN</td>\n",
       "      <td>NaN</td>\n",
       "      <td>NaN</td>\n",
       "    </tr>\n",
       "    <tr>\n",
       "      <th>4</th>\n",
       "      <td>5</td>\n",
       "      <td>2024-03-02</td>\n",
       "      <td>13:34:08.96</td>\n",
       "      <td>1.0</td>\n",
       "      <td>5.0</td>\n",
       "      <td>Quinn, JT</td>\n",
       "      <td>1.000234e+09</td>\n",
       "      <td>Right</td>\n",
       "      <td>OLE_REB</td>\n",
       "      <td>Wilmes, Ben</td>\n",
       "      <td>...</td>\n",
       "      <td>NaN</td>\n",
       "      <td>NaN</td>\n",
       "      <td>High</td>\n",
       "      <td>High</td>\n",
       "      <td>High</td>\n",
       "      <td>NaN</td>\n",
       "      <td>NaN</td>\n",
       "      <td>NaN</td>\n",
       "      <td>NaN</td>\n",
       "      <td>NaN</td>\n",
       "    </tr>\n",
       "  </tbody>\n",
       "</table>\n",
       "<p>5 rows × 167 columns</p>\n",
       "</div>"
      ],
      "text/plain": [
       "   PitchNo        Date         Time  PAofInning  PitchofPA    Pitcher  \\\n",
       "0        1  2024-03-02  13:32:53.75         1.0        1.0  Quinn, JT   \n",
       "1        2  2024-03-02  13:33:10.55         1.0        2.0  Quinn, JT   \n",
       "2        3  2024-03-02  13:33:23.01         1.0        3.0  Quinn, JT   \n",
       "3        4  2024-03-02  13:33:44.31         1.0        4.0  Quinn, JT   \n",
       "4        5  2024-03-02  13:34:08.96         1.0        5.0  Quinn, JT   \n",
       "\n",
       "      PitcherId PitcherThrows PitcherTeam       Batter  ...  \\\n",
       "0  1.000234e+09         Right     OLE_REB  Wilmes, Ben  ...   \n",
       "1  1.000234e+09         Right     OLE_REB  Wilmes, Ben  ...   \n",
       "2  1.000234e+09         Right     OLE_REB  Wilmes, Ben  ...   \n",
       "3  1.000234e+09         Right     OLE_REB  Wilmes, Ben  ...   \n",
       "4  1.000234e+09         Right     OLE_REB  Wilmes, Ben  ...   \n",
       "\n",
       "   ThrowTrajectoryZc1 ThrowTrajectoryZc2 PitchReleaseConfidence  \\\n",
       "0                 NaN                NaN                   High   \n",
       "1                 NaN                NaN                   High   \n",
       "2                 NaN                NaN                   High   \n",
       "3                 NaN                NaN                   High   \n",
       "4                 NaN                NaN                   High   \n",
       "\n",
       "  PitchLocationConfidence  PitchMovementConfidence HitLaunchConfidence  \\\n",
       "0                    High                     High                 NaN   \n",
       "1                    High                     High                 NaN   \n",
       "2                    High                     High              Medium   \n",
       "3                    High                     High                High   \n",
       "4                    High                     High                 NaN   \n",
       "\n",
       "   HitLandingConfidence  CatcherThrowCatchConfidence  \\\n",
       "0                   NaN                          NaN   \n",
       "1                   NaN                          NaN   \n",
       "2                   Low                          NaN   \n",
       "3                   Low                          NaN   \n",
       "4                   NaN                          NaN   \n",
       "\n",
       "   CatcherThrowReleaseConfidence CatcherThrowLocationConfidence  \n",
       "0                            NaN                            NaN  \n",
       "1                            NaN                            NaN  \n",
       "2                            NaN                            NaN  \n",
       "3                            NaN                            NaN  \n",
       "4                            NaN                            NaN  \n",
       "\n",
       "[5 rows x 167 columns]"
      ]
     },
     "execution_count": 5,
     "metadata": {},
     "output_type": "execute_result"
    }
   ],
   "source": [
    "# Quick Check\n",
    "predata.head(5)"
   ]
  },
  {
   "cell_type": "code",
   "execution_count": 6,
   "metadata": {},
   "outputs": [
    {
     "name": "stdout",
     "output_type": "stream",
     "text": [
      "Rows: 1052670\n",
      "Columns: 16\n"
     ]
    }
   ],
   "source": [
    "# Copying Needed For Analysis\n",
    "required_columns = ['TaggedPitchType', 'AutoPitchType', 'RelSpeed', 'RelHeight', 'VertRelAngle', 'HorzRelAngle',\n",
    "                      'SpinRate', 'SpinAxis', 'Tilt', 'Extension','InducedVertBreak', 'HorzBreak', 'VertApprAngle', 'HorzApprAngle', 'PlayResult', 'PitchCall']\n",
    "data = predata.dropna(subset=required_columns)\n",
    "data = data[['TaggedPitchType', 'AutoPitchType', 'RelSpeed', 'RelHeight', 'VertRelAngle', 'HorzRelAngle',\n",
    "             'SpinRate', 'SpinAxis', 'Tilt', 'Extension','InducedVertBreak', 'HorzBreak', 'VertApprAngle', 'HorzApprAngle', 'PlayResult', 'PitchCall']]\n",
    "\n",
    "rows = data.shape[0]\n",
    "cols = data.shape[1]\n",
    "print(f\"Rows: {rows}\")\n",
    "print(f\"Columns: {cols}\")"
   ]
  },
  {
   "cell_type": "code",
   "execution_count": 7,
   "metadata": {},
   "outputs": [
    {
     "data": {
      "text/plain": [
       "Undefined         871662\n",
       "Out               101674\n",
       "Single             41992\n",
       "Double             12472\n",
       "HomeRun             7686\n",
       "Error               4908\n",
       "FieldersChoice      4523\n",
       "Sacrifice           4298\n",
       "StolenBase          1626\n",
       "Triple              1306\n",
       "CaughtStealing       522\n",
       "error                  1\n",
       "Name: PlayResult, dtype: int64"
      ]
     },
     "execution_count": 7,
     "metadata": {},
     "output_type": "execute_result"
    }
   ],
   "source": [
    "data['PlayResult'].value_counts()"
   ]
  },
  {
   "cell_type": "code",
   "execution_count": 8,
   "metadata": {},
   "outputs": [
    {
     "data": {
      "text/plain": [
       "BallCalled              393718\n",
       "StrikeCalled            187478\n",
       "InPlay                  178872\n",
       "FoulBallNotFieldable    109924\n",
       "StrikeSwinging          106589\n",
       "FoulBall                 47783\n",
       "BallinDirt               10878\n",
       "HitByPitch                9125\n",
       "Undefined                 5244\n",
       "FoulBallFieldable         2967\n",
       "BallIntentional             91\n",
       "StrkeSwinging                1\n",
       "Name: PitchCall, dtype: int64"
      ]
     },
     "execution_count": 8,
     "metadata": {},
     "output_type": "execute_result"
    }
   ],
   "source": [
    "data['PitchCall'].value_counts()"
   ]
  },
  {
   "cell_type": "code",
   "execution_count": 9,
   "metadata": {},
   "outputs": [],
   "source": [
    "data['TargetVariable'] = data['PlayResult'] + data['PitchCall']"
   ]
  },
  {
   "cell_type": "code",
   "execution_count": 10,
   "metadata": {},
   "outputs": [
    {
     "data": {
      "text/plain": [
       "UndefinedBallCalled                   392373\n",
       "UndefinedStrikeCalled                 187074\n",
       "UndefinedFoulBallNotFieldable         109913\n",
       "UndefinedStrikeSwinging               106276\n",
       "OutInPlay                             101661\n",
       "UndefinedFoulBall                      47781\n",
       "SingleInPlay                           41992\n",
       "DoubleInPlay                           12472\n",
       "UndefinedBallinDirt                    10794\n",
       "UndefinedHitByPitch                     9120\n",
       "HomeRunInPlay                           7686\n",
       "UndefinedUndefined                      5244\n",
       "ErrorInPlay                             4902\n",
       "FieldersChoiceInPlay                    4523\n",
       "SacrificeInPlay                         4298\n",
       "UndefinedFoulBallFieldable              2966\n",
       "TripleInPlay                            1306\n",
       "StolenBaseBallCalled                    1083\n",
       "StolenBaseStrikeCalled                   270\n",
       "CaughtStealingBallCalled                 259\n",
       "StolenBaseStrikeSwinging                 188\n",
       "CaughtStealingStrikeCalled               127\n",
       "CaughtStealingStrikeSwinging             118\n",
       "UndefinedBallIntentional                  89\n",
       "StolenBaseBallinDirt                      72\n",
       "UndefinedInPlay                           31\n",
       "CaughtStealingBallinDirt                  12\n",
       "OutStrikeCalled                            7\n",
       "CaughtStealingFoulBallNotFieldable         6\n",
       "StolenBaseHitByPitch                       5\n",
       "OutStrikeSwinging                          5\n",
       "StolenBaseFoulBallNotFieldable             4\n",
       "ErrorBallCalled                            3\n",
       "ErrorStrikeSwinging                        2\n",
       "StolenBaseBallIntentional                  2\n",
       "StolenBaseFoulBall                         2\n",
       "ErrorFoulBallNotFieldable                  1\n",
       "errorInPlay                                1\n",
       "OutFoulBallFieldable                       1\n",
       "UndefinedStrkeSwinging                     1\n",
       "Name: TargetVariable, dtype: int64"
      ]
     },
     "execution_count": 10,
     "metadata": {},
     "output_type": "execute_result"
    }
   ],
   "source": [
    "data = data.drop(['PlayResult'], axis=1)\n",
    "data = data.drop(['PitchCall'], axis=1)\n",
    "data['TargetVariable'].value_counts()"
   ]
  },
  {
   "cell_type": "code",
   "execution_count": 11,
   "metadata": {},
   "outputs": [],
   "source": [
    "others  = data['TargetVariable'].value_counts()\n",
    "others = list(others[others > 10].index)\n",
    "data['TargetVariable'] = data['TargetVariable'].apply(lambda x: x if x in others else 'Others')"
   ]
  },
  {
   "cell_type": "code",
   "execution_count": 12,
   "metadata": {},
   "outputs": [
    {
     "name": "stdout",
     "output_type": "stream",
     "text": [
      "Number of Classes:  28\n",
      "Counts:  UndefinedBallCalled              392373\n",
      "UndefinedStrikeCalled            187074\n",
      "UndefinedFoulBallNotFieldable    109913\n",
      "UndefinedStrikeSwinging          106276\n",
      "OutInPlay                        101661\n",
      "UndefinedFoulBall                 47781\n",
      "SingleInPlay                      41992\n",
      "DoubleInPlay                      12472\n",
      "UndefinedBallinDirt               10794\n",
      "UndefinedHitByPitch                9120\n",
      "HomeRunInPlay                      7686\n",
      "UndefinedUndefined                 5244\n",
      "ErrorInPlay                        4902\n",
      "FieldersChoiceInPlay               4523\n",
      "SacrificeInPlay                    4298\n",
      "UndefinedFoulBallFieldable         2966\n",
      "TripleInPlay                       1306\n",
      "StolenBaseBallCalled               1083\n",
      "StolenBaseStrikeCalled              270\n",
      "CaughtStealingBallCalled            259\n",
      "StolenBaseStrikeSwinging            188\n",
      "CaughtStealingStrikeCalled          127\n",
      "CaughtStealingStrikeSwinging        118\n",
      "UndefinedBallIntentional             89\n",
      "StolenBaseBallinDirt                 72\n",
      "Others                               40\n",
      "UndefinedInPlay                      31\n",
      "CaughtStealingBallinDirt             12\n",
      "Name: TargetVariable, dtype: int64\n"
     ]
    }
   ],
   "source": [
    "print('Number of Classes: ', data['TargetVariable'].nunique())\n",
    "print('Counts: ', data['TargetVariable'].value_counts())\n"
   ]
  },
  {
   "cell_type": "code",
   "execution_count": 13,
   "metadata": {},
   "outputs": [
    {
     "data": {
      "text/html": [
       "<div>\n",
       "<style scoped>\n",
       "    .dataframe tbody tr th:only-of-type {\n",
       "        vertical-align: middle;\n",
       "    }\n",
       "\n",
       "    .dataframe tbody tr th {\n",
       "        vertical-align: top;\n",
       "    }\n",
       "\n",
       "    .dataframe thead th {\n",
       "        text-align: right;\n",
       "    }\n",
       "</style>\n",
       "<table border=\"1\" class=\"dataframe\">\n",
       "  <thead>\n",
       "    <tr style=\"text-align: right;\">\n",
       "      <th></th>\n",
       "      <th>TaggedPitchType</th>\n",
       "      <th>AutoPitchType</th>\n",
       "      <th>RelSpeed</th>\n",
       "      <th>RelHeight</th>\n",
       "      <th>VertRelAngle</th>\n",
       "      <th>HorzRelAngle</th>\n",
       "      <th>SpinRate</th>\n",
       "      <th>SpinAxis</th>\n",
       "      <th>Tilt</th>\n",
       "      <th>Extension</th>\n",
       "      <th>InducedVertBreak</th>\n",
       "      <th>HorzBreak</th>\n",
       "      <th>VertApprAngle</th>\n",
       "      <th>HorzApprAngle</th>\n",
       "      <th>TargetVariable</th>\n",
       "    </tr>\n",
       "  </thead>\n",
       "  <tbody>\n",
       "    <tr>\n",
       "      <th>0</th>\n",
       "      <td>Slider</td>\n",
       "      <td>Slider</td>\n",
       "      <td>86.34831</td>\n",
       "      <td>6.89596</td>\n",
       "      <td>-5.087035</td>\n",
       "      <td>-0.556059</td>\n",
       "      <td>2514.190308</td>\n",
       "      <td>69.694698</td>\n",
       "      <td>8:15</td>\n",
       "      <td>5.20061</td>\n",
       "      <td>-1.26150</td>\n",
       "      <td>-6.71201</td>\n",
       "      <td>-12.231122</td>\n",
       "      <td>-1.751516</td>\n",
       "      <td>UndefinedBallCalled</td>\n",
       "    </tr>\n",
       "    <tr>\n",
       "      <th>1</th>\n",
       "      <td>Fastball</td>\n",
       "      <td>Four-Seam</td>\n",
       "      <td>94.49974</td>\n",
       "      <td>6.87165</td>\n",
       "      <td>-3.133086</td>\n",
       "      <td>-0.492520</td>\n",
       "      <td>2095.787589</td>\n",
       "      <td>190.374426</td>\n",
       "      <td>12:15</td>\n",
       "      <td>5.83655</td>\n",
       "      <td>20.20828</td>\n",
       "      <td>3.49654</td>\n",
       "      <td>-5.365324</td>\n",
       "      <td>0.134391</td>\n",
       "      <td>UndefinedStrikeCalled</td>\n",
       "    </tr>\n",
       "    <tr>\n",
       "      <th>2</th>\n",
       "      <td>Fastball</td>\n",
       "      <td>Four-Seam</td>\n",
       "      <td>94.81021</td>\n",
       "      <td>6.94572</td>\n",
       "      <td>-3.910073</td>\n",
       "      <td>-1.135525</td>\n",
       "      <td>1996.806823</td>\n",
       "      <td>178.803234</td>\n",
       "      <td>12:00</td>\n",
       "      <td>5.67326</td>\n",
       "      <td>22.06875</td>\n",
       "      <td>-0.43740</td>\n",
       "      <td>-5.815582</td>\n",
       "      <td>-1.213668</td>\n",
       "      <td>UndefinedFoulBallNotFieldable</td>\n",
       "    </tr>\n",
       "    <tr>\n",
       "      <th>3</th>\n",
       "      <td>Slider</td>\n",
       "      <td>Slider</td>\n",
       "      <td>86.30865</td>\n",
       "      <td>6.96039</td>\n",
       "      <td>-1.385858</td>\n",
       "      <td>-0.791508</td>\n",
       "      <td>3480.483920</td>\n",
       "      <td>100.930240</td>\n",
       "      <td>9:15</td>\n",
       "      <td>5.43599</td>\n",
       "      <td>2.34610</td>\n",
       "      <td>-6.38485</td>\n",
       "      <td>-7.862841</td>\n",
       "      <td>-1.929632</td>\n",
       "      <td>UndefinedFoulBallNotFieldable</td>\n",
       "    </tr>\n",
       "    <tr>\n",
       "      <th>4</th>\n",
       "      <td>Slider</td>\n",
       "      <td>Slider</td>\n",
       "      <td>87.45870</td>\n",
       "      <td>6.99938</td>\n",
       "      <td>-4.605749</td>\n",
       "      <td>-1.323250</td>\n",
       "      <td>1287.761851</td>\n",
       "      <td>79.042003</td>\n",
       "      <td>8:45</td>\n",
       "      <td>5.28786</td>\n",
       "      <td>0.27646</td>\n",
       "      <td>-4.37162</td>\n",
       "      <td>-11.264591</td>\n",
       "      <td>-2.102031</td>\n",
       "      <td>UndefinedBallCalled</td>\n",
       "    </tr>\n",
       "  </tbody>\n",
       "</table>\n",
       "</div>"
      ],
      "text/plain": [
       "  TaggedPitchType AutoPitchType  RelSpeed  RelHeight  VertRelAngle  \\\n",
       "0          Slider        Slider  86.34831    6.89596     -5.087035   \n",
       "1        Fastball     Four-Seam  94.49974    6.87165     -3.133086   \n",
       "2        Fastball     Four-Seam  94.81021    6.94572     -3.910073   \n",
       "3          Slider        Slider  86.30865    6.96039     -1.385858   \n",
       "4          Slider        Slider  87.45870    6.99938     -4.605749   \n",
       "\n",
       "   HorzRelAngle     SpinRate    SpinAxis   Tilt  Extension  InducedVertBreak  \\\n",
       "0     -0.556059  2514.190308   69.694698   8:15    5.20061          -1.26150   \n",
       "1     -0.492520  2095.787589  190.374426  12:15    5.83655          20.20828   \n",
       "2     -1.135525  1996.806823  178.803234  12:00    5.67326          22.06875   \n",
       "3     -0.791508  3480.483920  100.930240   9:15    5.43599           2.34610   \n",
       "4     -1.323250  1287.761851   79.042003   8:45    5.28786           0.27646   \n",
       "\n",
       "   HorzBreak  VertApprAngle  HorzApprAngle                 TargetVariable  \n",
       "0   -6.71201     -12.231122      -1.751516            UndefinedBallCalled  \n",
       "1    3.49654      -5.365324       0.134391          UndefinedStrikeCalled  \n",
       "2   -0.43740      -5.815582      -1.213668  UndefinedFoulBallNotFieldable  \n",
       "3   -6.38485      -7.862841      -1.929632  UndefinedFoulBallNotFieldable  \n",
       "4   -4.37162     -11.264591      -2.102031            UndefinedBallCalled  "
      ]
     },
     "execution_count": 13,
     "metadata": {},
     "output_type": "execute_result"
    }
   ],
   "source": [
    "data.head(5)"
   ]
  },
  {
   "cell_type": "code",
   "execution_count": 14,
   "metadata": {},
   "outputs": [],
   "source": [
    "# Checking Columns\n",
    "numerical_cols = data.select_dtypes(include=['int64', 'float64']).columns\n",
    "categorical_cols = data.select_dtypes(include=['object']).columns\n"
   ]
  },
  {
   "cell_type": "code",
   "execution_count": 15,
   "metadata": {},
   "outputs": [
    {
     "name": "stdout",
     "output_type": "stream",
     "text": [
      "Index(['RelSpeed', 'RelHeight', 'VertRelAngle', 'HorzRelAngle', 'SpinRate',\n",
      "       'SpinAxis', 'Extension', 'InducedVertBreak', 'HorzBreak',\n",
      "       'VertApprAngle', 'HorzApprAngle'],\n",
      "      dtype='object')\n",
      "Index(['TaggedPitchType', 'AutoPitchType', 'Tilt', 'TargetVariable'], dtype='object')\n"
     ]
    }
   ],
   "source": [
    "print(numerical_cols)\n",
    "print(categorical_cols)"
   ]
  },
  {
   "cell_type": "code",
   "execution_count": 16,
   "metadata": {},
   "outputs": [
    {
     "data": {
      "text/html": [
       "<div>\n",
       "<style scoped>\n",
       "    .dataframe tbody tr th:only-of-type {\n",
       "        vertical-align: middle;\n",
       "    }\n",
       "\n",
       "    .dataframe tbody tr th {\n",
       "        vertical-align: top;\n",
       "    }\n",
       "\n",
       "    .dataframe thead th {\n",
       "        text-align: right;\n",
       "    }\n",
       "</style>\n",
       "<table border=\"1\" class=\"dataframe\">\n",
       "  <thead>\n",
       "    <tr style=\"text-align: right;\">\n",
       "      <th></th>\n",
       "      <th>TaggedPitchType</th>\n",
       "      <th>AutoPitchType</th>\n",
       "      <th>Tilt</th>\n",
       "      <th>TargetVariable</th>\n",
       "    </tr>\n",
       "  </thead>\n",
       "  <tbody>\n",
       "    <tr>\n",
       "      <th>0</th>\n",
       "      <td>Slider</td>\n",
       "      <td>Slider</td>\n",
       "      <td>8:15</td>\n",
       "      <td>UndefinedBallCalled</td>\n",
       "    </tr>\n",
       "    <tr>\n",
       "      <th>1</th>\n",
       "      <td>Fastball</td>\n",
       "      <td>Four-Seam</td>\n",
       "      <td>12:15</td>\n",
       "      <td>UndefinedStrikeCalled</td>\n",
       "    </tr>\n",
       "    <tr>\n",
       "      <th>2</th>\n",
       "      <td>Fastball</td>\n",
       "      <td>Four-Seam</td>\n",
       "      <td>12:00</td>\n",
       "      <td>UndefinedFoulBallNotFieldable</td>\n",
       "    </tr>\n",
       "  </tbody>\n",
       "</table>\n",
       "</div>"
      ],
      "text/plain": [
       "  TaggedPitchType AutoPitchType   Tilt                 TargetVariable\n",
       "0          Slider        Slider   8:15            UndefinedBallCalled\n",
       "1        Fastball     Four-Seam  12:15          UndefinedStrikeCalled\n",
       "2        Fastball     Four-Seam  12:00  UndefinedFoulBallNotFieldable"
      ]
     },
     "execution_count": 16,
     "metadata": {},
     "output_type": "execute_result"
    }
   ],
   "source": [
    "data[categorical_cols].head(3)"
   ]
  },
  {
   "cell_type": "code",
   "execution_count": 17,
   "metadata": {},
   "outputs": [
    {
     "name": "stdout",
     "output_type": "stream",
     "text": [
      "X shape: (1052670, 14)\n",
      "y shape: (1052670,)\n"
     ]
    }
   ],
   "source": [
    "X = data.drop('TargetVariable', axis=1)\n",
    "y = data['TargetVariable']\n",
    "le = LabelEncoder()\n",
    "y = le.fit_transform(y)\n",
    "print(f'X shape: {X.shape}')\n",
    "print(f'y shape: {y.shape}')\n"
   ]
  },
  {
   "cell_type": "code",
   "execution_count": 18,
   "metadata": {},
   "outputs": [
    {
     "name": "stdout",
     "output_type": "stream",
     "text": [
      "X_train shape: (673708, 14)\n",
      "X_val shape: (168428, 14)\n",
      "X_test shape: (210534, 14)\n",
      "y_train shape: (673708,)\n",
      "y_val shape: (168428,)\n",
      "y_test shape: (210534,)\n"
     ]
    }
   ],
   "source": [
    "X_train, X_test, y_train, y_test = train_test_split(X, y, test_size=0.2, random_state=1234)\n",
    "\n",
    "X_train, X_val, y_train, y_val = train_test_split(X_train, y_train, test_size=0.2, random_state=1234)\n",
    "\n",
    "print(f'X_train shape: {X_train.shape}')\n",
    "print(f'X_val shape: {X_val.shape}')\n",
    "print(f'X_test shape: {X_test.shape}')\n",
    "print(f'y_train shape: {y_train.shape}')\n",
    "print(f'y_val shape: {y_val.shape}')\n",
    "print(f'y_test shape: {y_test.shape}')"
   ]
  },
  {
   "cell_type": "code",
   "execution_count": 19,
   "metadata": {},
   "outputs": [],
   "source": [
    "numerical_cols = X.select_dtypes(include=['int64', 'float64']).columns\n",
    "categorical_cols = X.select_dtypes(include=['object']).columns"
   ]
  },
  {
   "cell_type": "code",
   "execution_count": 20,
   "metadata": {},
   "outputs": [],
   "source": [
    "be = BinaryEncoder()\n",
    "for col in categorical_cols:\n",
    "    X_train = X_train.join(be.fit_transform(X_train[col]), how=\"outer\")\n",
    "    X_val = X_val.join(be.fit_transform(X_val[col]), how=\"outer\")\n",
    "    X_test = X_test.join(be.fit_transform(X_test[col]), how=\"outer\")"
   ]
  },
  {
   "cell_type": "code",
   "execution_count": 21,
   "metadata": {},
   "outputs": [],
   "source": [
    "scaler = StandardScaler()\n",
    "\n",
    "#data[numerical_features] = scaler.fit_transform(data[numerical_features]) \n",
    "X_train[numerical_cols] = scaler.fit_transform(X_train[numerical_cols])\n",
    "X_val[numerical_cols] = scaler.fit_transform(X_val[numerical_cols])\n",
    "X_test[numerical_cols] = scaler.fit_transform(X_test[numerical_cols])"
   ]
  },
  {
   "cell_type": "code",
   "execution_count": 22,
   "metadata": {},
   "outputs": [],
   "source": [
    "X_train = X_train.drop(categorical_cols, axis=1)\n",
    "X_val = X_val.drop(categorical_cols, axis=1)\n",
    "X_test = X_test.drop(categorical_cols, axis=1)\n"
   ]
  },
  {
   "cell_type": "code",
   "execution_count": 23,
   "metadata": {},
   "outputs": [
    {
     "name": "stdout",
     "output_type": "stream",
     "text": [
      "train acuracy:  0.3744025601595944\n",
      "validation acuracy:  0.372182772460636\n"
     ]
    }
   ],
   "source": [
    "clf = ensemble.RandomForestClassifier(n_estimators=7, n_jobs=7, random_state=7, max_depth=7)\n",
    "# Fitting\n",
    "clf.fit(X_train, y_train)\n",
    "\n",
    "#Checking Scores\n",
    "print(\"train acuracy: \", clf.score(X_train, y_train))\n",
    "print(\"validation acuracy: \", clf.score(X_val, y_val))"
   ]
  },
  {
   "cell_type": "code",
   "execution_count": 24,
   "metadata": {},
   "outputs": [
    {
     "name": "stdout",
     "output_type": "stream",
     "text": [
      "train acuracy:  0.4172000332488259\n",
      "validation acuracy:  0.3965908281283397\n"
     ]
    }
   ],
   "source": [
    "clf = ensemble.RandomForestClassifier(n_estimators=10, n_jobs=10, random_state=7, max_depth=10)\n",
    "# Fitting\n",
    "clf.fit(X_train, y_train)\n",
    "\n",
    "#Checking Scores\n",
    "print(\"train acuracy: \", clf.score(X_train, y_train))\n",
    "print(\"validation acuracy: \", clf.score(X_val, y_val))"
   ]
  },
  {
   "cell_type": "code",
   "execution_count": 25,
   "metadata": {},
   "outputs": [
    {
     "name": "stdout",
     "output_type": "stream",
     "text": [
      "train acuracy:  0.48870430512922514\n",
      "validation acuracy:  0.4135357541501413\n"
     ]
    }
   ],
   "source": [
    "clf = ensemble.RandomForestClassifier(n_estimators=7, n_jobs=7, random_state=7, max_depth=15)\n",
    "# Fitting\n",
    "clf.fit(X_train, y_train)\n",
    "\n",
    "#Checking Scores\n",
    "print(\"train acuracy: \", clf.score(X_train, y_train))\n",
    "print(\"validation acuracy: \", clf.score(X_val, y_val))"
   ]
  },
  {
   "cell_type": "code",
   "execution_count": 26,
   "metadata": {},
   "outputs": [
    {
     "name": "stdout",
     "output_type": "stream",
     "text": [
      "train acuracy:  0.947342171979552\n",
      "validation acuracy:  0.4628743439333127\n"
     ]
    }
   ],
   "source": [
    "clf = ensemble.RandomForestClassifier(n_estimators=7, n_jobs=7, random_state=7, max_depth=30)\n",
    "# Fitting\n",
    "clf.fit(X_train, y_train)\n",
    "\n",
    "#Checking Scores\n",
    "print(\"train acuracy: \", clf.score(X_train, y_train))\n",
    "print(\"validation acuracy: \", clf.score(X_val, y_val))"
   ]
  },
  {
   "cell_type": "code",
   "execution_count": 27,
   "metadata": {},
   "outputs": [
    {
     "name": "stdout",
     "output_type": "stream",
     "text": [
      "train acuracy:  0.7575626235698552\n",
      "validation acuracy:  0.44597097869712876\n"
     ]
    }
   ],
   "source": [
    "clf = ensemble.RandomForestClassifier(n_estimators=7, n_jobs=7, random_state=7, max_depth=22)\n",
    "# Fitting\n",
    "clf.fit(X_train, y_train)\n",
    "\n",
    "#Checking Scores\n",
    "print(\"train acuracy: \", clf.score(X_train, y_train))\n",
    "print(\"validation acuracy: \", clf.score(X_val, y_val))"
   ]
  },
  {
   "cell_type": "code",
   "execution_count": 28,
   "metadata": {},
   "outputs": [
    {
     "name": "stdout",
     "output_type": "stream",
     "text": [
      "train acuracy:  0.4859241689277847\n",
      "validation acuracy:  0.42451373880827414\n"
     ]
    }
   ],
   "source": [
    "clf = ensemble.RandomForestClassifier(n_estimators=40, n_jobs=7, random_state=7, max_depth=15)\n",
    "# Fitting\n",
    "clf.fit(X_train, y_train)\n",
    "\n",
    "#Checking Scores\n",
    "print(\"train acuracy: \", clf.score(X_train, y_train))\n",
    "print(\"validation acuracy: \", clf.score(X_val, y_val))"
   ]
  },
  {
   "cell_type": "code",
   "execution_count": 29,
   "metadata": {},
   "outputs": [
    {
     "data": {
      "text/plain": [
       "array([ 6,  9, 26, ..., 17, 26, 17])"
      ]
     },
     "execution_count": 29,
     "metadata": {},
     "output_type": "execute_result"
    }
   ],
   "source": [
    "y_train"
   ]
  },
  {
   "cell_type": "code",
   "execution_count": 30,
   "metadata": {},
   "outputs": [
    {
     "data": {
      "text/plain": [
       "0.4127188633651374"
      ]
     },
     "execution_count": 30,
     "metadata": {},
     "output_type": "execute_result"
    }
   ],
   "source": [
    "# create model instance\n",
    "bst = xgb.XGBClassifier(n_estimators=7, max_depth=7, learning_rate=.01, objective='binary:logistic')\n",
    "# fit model\n",
    "bst.fit(X_train, y_train)\n",
    "# make predictions\n",
    "preds = bst.predict(X_test)\n",
    "bst.score(X_train,y_train)"
   ]
  },
  {
   "cell_type": "code",
   "execution_count": 31,
   "metadata": {},
   "outputs": [
    {
     "data": {
      "text/plain": [
       "0.4841637623421423"
      ]
     },
     "execution_count": 31,
     "metadata": {},
     "output_type": "execute_result"
    }
   ],
   "source": [
    "bst = xgb.XGBClassifier(objective='multi:softprob', num_class=28, eval_metric='mlogloss')\n",
    "\n",
    "# fit model\n",
    "bst.fit(X_train, y_train)\n",
    "# make predictions\n",
    "y_pred = bst.predict(X_train)\n",
    "bst.score(X_train,y_train)"
   ]
  },
  {
   "cell_type": "code",
   "execution_count": 32,
   "metadata": {},
   "outputs": [
    {
     "name": "stdout",
     "output_type": "stream",
     "text": [
      "Accuracy: 0.48\n",
      "              precision    recall  f1-score   support\n",
      "\n",
      "           0       1.00      0.64      0.78       165\n",
      "           1       1.00      1.00      1.00         7\n",
      "           2       0.99      0.87      0.92        82\n",
      "           3       0.99      0.93      0.96        73\n",
      "           4       0.99      0.02      0.04      7932\n",
      "           5       0.99      0.03      0.06      3069\n",
      "           6       1.00      0.04      0.07      2853\n",
      "           7       0.99      0.02      0.04      4945\n",
      "           8       0.79      0.93      0.85        28\n",
      "           9       0.28      0.07      0.11     64929\n",
      "          10       0.95      0.03      0.06      2745\n",
      "          11       0.93      0.01      0.02     26716\n",
      "          12       1.00      0.25      0.40       703\n",
      "          13       0.94      0.98      0.96        46\n",
      "          14       0.99      0.50      0.67       167\n",
      "          15       0.98      0.89      0.93       117\n",
      "          16       1.00      0.12      0.21       834\n",
      "          17       0.62      0.86      0.72    251581\n",
      "          18       0.96      0.96      0.96        56\n",
      "          19       0.93      0.13      0.23      6901\n",
      "          20       0.71      0.02      0.04     30507\n",
      "          21       1.00      0.06      0.12      1851\n",
      "          22       0.29      0.13      0.18     70142\n",
      "          23       0.97      0.08      0.14      5867\n",
      "          24       0.82      1.00      0.90        18\n",
      "          25       0.33      0.66      0.44    120056\n",
      "          26       0.34      0.16      0.22     67929\n",
      "          27       0.72      0.67      0.70      3389\n",
      "\n",
      "    accuracy                           0.48    673708\n",
      "   macro avg       0.84      0.43      0.46    673708\n",
      "weighted avg       0.51      0.48      0.41    673708\n",
      "\n"
     ]
    }
   ],
   "source": [
    "# Evaluate the model \n",
    "accuracy = accuracy_score(y_train, y_pred)\n",
    "print(f'Accuracy: {accuracy:.2f}') \n",
    "# Print a detailed classification report\n",
    "print(classification_report(y_train,y_pred))"
   ]
  },
  {
   "cell_type": "code",
   "execution_count": 33,
   "metadata": {},
   "outputs": [],
   "source": [
    "# XGBoost (different learning rate)\n",
    "learning_rate_range = np.arange(0.01, 1, 0.05)\n",
    "test_XG = [] \n",
    "train_XG = []\n",
    "for lr in learning_rate_range:\n",
    "    xgb_classifier = xgb.XGBClassifier(objective='multi:softprob', num_class=28, eval_metric='mlogloss', eta = lr)\n",
    "    xgb_classifier.fit(X_train, y_train)\n",
    "    train_XG.append(xgb_classifier.score(X_train, y_train))\n",
    "    test_XG.append(xgb_classifier.score(X_test, y_test))"
   ]
  },
  {
   "cell_type": "code",
   "execution_count": 38,
   "metadata": {},
   "outputs": [
    {
     "data": {
      "image/png": "[encoded data removed]",
      "text/plain": [
       "<Figure size 1000x700 with 1 Axes>"
      ]
     },
     "metadata": {},
     "output_type": "display_data"
    }
   ],
   "source": [
    "fig = plt.figure(figsize=(10, 7))\n",
    "plt.plot(learning_rate_range, train_XG, c='orange', label='Train')\n",
    "plt.plot(learning_rate_range, test_XG, c='m', label='Test')\n",
    "plt.xlabel('Learning rate')\n",
    "plt.xticks(learning_rate_range)\n",
    "plt.ylabel('Accuracy score')\n",
    "plt.ylim(0, 1)\n",
    "plt.legend(prop={'size': 12}, loc=3)\n",
    "plt.title('Accuracy score vs. Learning rate of XGBoost', size=14)\n",
    "plt.show()"
   ]
  },
  {
   "cell_type": "code",
   "execution_count": 39,
   "metadata": {},
   "outputs": [],
   "source": [
    "from sklearn.svm import SVC"
   ]
  },
  {
   "cell_type": "code",
   "execution_count": null,
   "metadata": {},
   "outputs": [],
   "source": [
    "model = SVC(kernel='linear', C=1.0, random_state=42, decision_function_shape='ovr') \n",
    "# Train the model \n",
    "model.fit(X_train, y_train)\n",
    "# Make predictions on the test set \n",
    "y_pred = model.predict(X_test)\n",
    "# Evaluate the model\n",
    "accuracy = accuracy_score(y_test, y_pred) \n",
    "print(f'Accuracy: {accuracy:.2f}')"
   ]
  }
 ],
 "metadata": {
  "kernelspec": {
   "display_name": "base",
   "language": "python",
   "name": "python3"
  },
  "language_info": {
   "name": "python",
   "version": "3.11.4"
  }
 },
 "nbformat": 4,
 "nbformat_minor": 2
}
