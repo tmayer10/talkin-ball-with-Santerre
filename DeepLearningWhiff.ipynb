{
 "cells": [
  {
   "cell_type": "markdown",
   "metadata": {},
   "source": [
    "# First Baseline Model - Random Forest"
   ]
  },
  {
   "cell_type": "markdown",
   "metadata": {},
   "source": [
    "#### ``Objectives``\n",
    "1. Implement a Baseline Models for run value prediction PRE BATTED-BALL\n",
    "2. Turn to a Random Forest for the another baseline model"
   ]
  },
  {
   "cell_type": "markdown",
   "metadata": {},
   "source": [
    "### Import Libraries"
   ]
  },
  {
   "cell_type": "code",
   "execution_count": 48,
   "metadata": {},
   "outputs": [],
   "source": [
    "import pandas as pd\n",
    "import numpy as np\n",
    "import matplotlib.pyplot as plt\n",
    "import seaborn as sns\n",
    "\n",
    "# decision tree\n",
    "import sklearn\n",
    "from sklearn.model_selection import train_test_split\n",
    "from sklearn.preprocessing import StandardScaler, LabelEncoder\n",
    "from sklearn.linear_model import LogisticRegression\n",
    "from sklearn.metrics import accuracy_score, confusion_matrix, classification_report\n",
    "from sklearn.ensemble import RandomForestRegressor\n",
    "\n",
    "\n",
    "# tensorflow\n",
    "import tensorflow as tf\n",
    "from tensorflow.keras.models import Sequential\n",
    "from tensorflow.keras.layers import Dense, Dropout\n",
    "from tensorflow.keras.optimizers import Adam\n",
    "from tensorflow.keras.layers import Dense, Dropout, BatchNormalization\n",
    "from tensorflow.keras.callbacks import EarlyStopping\n",
    "\n",
    "# misc\n",
    "import imblearn\n",
    "import os\n",
    "import glob\n"
   ]
  },
  {
   "cell_type": "markdown",
   "metadata": {},
   "source": [
    "#### Clear output and stored data:\n",
    "\n"
   ]
  },
  {
   "cell_type": "code",
   "execution_count": 3,
   "metadata": {},
   "outputs": [
    {
     "name": "stdout",
     "output_type": "stream",
     "text": [
      "\u001b[H\u001b[2J"
     ]
    },
    {
     "data": {
      "text/plain": [
       "0"
      ]
     },
     "execution_count": 3,
     "metadata": {},
     "output_type": "execute_result"
    }
   ],
   "source": [
    "os.system('clear') "
   ]
  },
  {
   "cell_type": "markdown",
   "metadata": {},
   "source": [
    "---\n",
    "#### <span style=\"color:chocolate\">  Step 1: Data ingestion </span>"
   ]
  },
  {
   "cell_type": "markdown",
   "metadata": {},
   "source": [
    "I already created the training data in another file:\n",
    " <span style=\"color:gray\">TrackMan data of 2024 spring season</span> function below according to the following guidelines:\n",
    "\n",
    " a) Read all the csv files in the directory and merge them into a single dataframe \\\n",
    " b) Save the dataframe to a csv file"
   ]
  },
  {
   "cell_type": "code",
   "execution_count": 4,
   "metadata": {},
   "outputs": [],
   "source": [
    "# dont need to run this again since already created the training data\n",
    "\n",
    "def load_data(path: str, num_columns=60) -> pd.DataFrame:\n",
    "    \"\"\"\n",
    "    Loads and merges CSV files from the specified directory, excluding files with 'player positioning' in their names.\n",
    "    \n",
    "    Parameters:\n",
    "    path (str): The directory path containing the CSV files.\n",
    "\n",
    "    Returns:\n",
    "    pandas.DataFrame: The merged DataFrame containing data from the selected CSV files.\n",
    "    \"\"\"\n",
    "    try:\n",
    "        # Ensure the directory exists\n",
    "        if not os.path.exists(path):\n",
    "            raise FileNotFoundError(f\"The directory '{path}' does not exist.\")\n",
    "\n",
    "        # Get all files in the directory that end with .csv, excluding those with 'player positioning' in the name\n",
    "        all_files = [\n",
    "            file for file in glob.glob(f\"{path}/*.csv\") if 'player positioning' not in file\n",
    "        ]\n",
    "\n",
    "        # Raise an exception if no valid files are found\n",
    "        if not all_files:\n",
    "            raise ValueError(f\"No valid CSV files found in the directory '{path}'.\")\n",
    "\n",
    "        # Set the indices of the columns to keep\n",
    "        columns_to_keep = list(range(num_columns))  # will set that in the function call but usually 60 will be fine\n",
    "\n",
    "        # Read and merge the filtered files with the specified columns\n",
    "        df_list = [pd.read_csv(filename, usecols=columns_to_keep) for filename in all_files]\n",
    "        merged_df = pd.concat(df_list, ignore_index=True)\n",
    "\n",
    "        # Save the merged DataFrame to a CSV\n",
    "        output_path = \"/Users/tommayer/Desktop/games_test.csv\"\n",
    "        merged_df.to_csv(output_path, index=False)\n",
    "\n",
    "        return merged_df\n",
    "\n",
    "    except FileNotFoundError as fnf_error:\n",
    "        print(f\"Error: {fnf_error}\")\n",
    "    except ValueError as val_error:\n",
    "        print(f\"Error: {val_error}\")\n",
    "    except Exception as e:\n",
    "        print(f\"An unexpected error occurred: {e}\")\n"
   ]
  },
  {
   "cell_type": "markdown",
   "metadata": {},
   "source": [
    "#### NOTE: \n",
    "I don't know if it's smart to load the data and concatenate all rows every time.  I could make it more like appending rows to the dataframe."
   ]
  },
  {
   "cell_type": "code",
   "execution_count": 5,
   "metadata": {},
   "outputs": [],
   "source": [
    "# ONLY COLUMNS with data from pre-batted ball + RunsScored as our target variable\n",
    "required_columns = ['TaggedPitchType', 'AutoPitchType', 'RelSpeed', 'RelHeight', 'VertRelAngle', 'HorzRelAngle', 'PitchCall',\n",
    "                      'SpinRate', 'SpinAxis', 'Tilt', 'Extension','InducedVertBreak', 'HorzBreak', 'VertApprAngle', 'HorzApprAngle']\n",
    "\n",
    "# RunsScored column is gone"
   ]
  },
  {
   "cell_type": "code",
   "execution_count": 6,
   "metadata": {},
   "outputs": [],
   "source": [
    "path = \"/Users/tommayer/Desktop/training_data.csv\"\n",
    "#data = load_data(path)\n",
    "data = pd.read_csv(path, usecols=required_columns)\n",
    "## drastically reduces the number of rows and columns -> way less memory"
   ]
  },
  {
   "cell_type": "markdown",
   "metadata": {},
   "source": [
    "Make new column for Whiffs\n"
   ]
  },
  {
   "cell_type": "code",
   "execution_count": 7,
   "metadata": {},
   "outputs": [],
   "source": [
    "# Create boolean column for Whiffs (True if PitchCall is 'StrikeSwinging', False otherwise)\n",
    "data['Whiff'] = data['PitchCall'] == 'StrikeSwinging'"
   ]
  },
  {
   "cell_type": "code",
   "execution_count": 8,
   "metadata": {},
   "outputs": [],
   "source": [
    "data.drop(columns=['PitchCall'], inplace=True)"
   ]
  },
  {
   "cell_type": "code",
   "execution_count": 9,
   "metadata": {},
   "outputs": [
    {
     "data": {
      "text/html": [
       "<div>\n",
       "<style scoped>\n",
       "    .dataframe tbody tr th:only-of-type {\n",
       "        vertical-align: middle;\n",
       "    }\n",
       "\n",
       "    .dataframe tbody tr th {\n",
       "        vertical-align: top;\n",
       "    }\n",
       "\n",
       "    .dataframe thead th {\n",
       "        text-align: right;\n",
       "    }\n",
       "</style>\n",
       "<table border=\"1\" class=\"dataframe\">\n",
       "  <thead>\n",
       "    <tr style=\"text-align: right;\">\n",
       "      <th></th>\n",
       "      <th>TaggedPitchType</th>\n",
       "      <th>AutoPitchType</th>\n",
       "      <th>RelSpeed</th>\n",
       "      <th>VertRelAngle</th>\n",
       "      <th>HorzRelAngle</th>\n",
       "      <th>SpinRate</th>\n",
       "      <th>SpinAxis</th>\n",
       "      <th>Tilt</th>\n",
       "      <th>RelHeight</th>\n",
       "      <th>Extension</th>\n",
       "      <th>InducedVertBreak</th>\n",
       "      <th>HorzBreak</th>\n",
       "      <th>VertApprAngle</th>\n",
       "      <th>HorzApprAngle</th>\n",
       "      <th>Whiff</th>\n",
       "    </tr>\n",
       "  </thead>\n",
       "  <tbody>\n",
       "    <tr>\n",
       "      <th>0</th>\n",
       "      <td>Slider</td>\n",
       "      <td>Slider</td>\n",
       "      <td>86.34831</td>\n",
       "      <td>-5.087035</td>\n",
       "      <td>-0.556059</td>\n",
       "      <td>2514.190308</td>\n",
       "      <td>69.694698</td>\n",
       "      <td>8:15</td>\n",
       "      <td>6.89596</td>\n",
       "      <td>5.20061</td>\n",
       "      <td>-1.26150</td>\n",
       "      <td>-6.71201</td>\n",
       "      <td>-12.231122</td>\n",
       "      <td>-1.751516</td>\n",
       "      <td>False</td>\n",
       "    </tr>\n",
       "    <tr>\n",
       "      <th>1</th>\n",
       "      <td>Fastball</td>\n",
       "      <td>Four-Seam</td>\n",
       "      <td>94.49974</td>\n",
       "      <td>-3.133086</td>\n",
       "      <td>-0.492520</td>\n",
       "      <td>2095.787589</td>\n",
       "      <td>190.374426</td>\n",
       "      <td>12:15</td>\n",
       "      <td>6.87165</td>\n",
       "      <td>5.83655</td>\n",
       "      <td>20.20828</td>\n",
       "      <td>3.49654</td>\n",
       "      <td>-5.365324</td>\n",
       "      <td>0.134391</td>\n",
       "      <td>False</td>\n",
       "    </tr>\n",
       "    <tr>\n",
       "      <th>2</th>\n",
       "      <td>Fastball</td>\n",
       "      <td>Four-Seam</td>\n",
       "      <td>94.81021</td>\n",
       "      <td>-3.910073</td>\n",
       "      <td>-1.135525</td>\n",
       "      <td>1996.806823</td>\n",
       "      <td>178.803234</td>\n",
       "      <td>12:00</td>\n",
       "      <td>6.94572</td>\n",
       "      <td>5.67326</td>\n",
       "      <td>22.06875</td>\n",
       "      <td>-0.43740</td>\n",
       "      <td>-5.815582</td>\n",
       "      <td>-1.213668</td>\n",
       "      <td>False</td>\n",
       "    </tr>\n",
       "    <tr>\n",
       "      <th>3</th>\n",
       "      <td>Slider</td>\n",
       "      <td>Slider</td>\n",
       "      <td>86.30865</td>\n",
       "      <td>-1.385858</td>\n",
       "      <td>-0.791508</td>\n",
       "      <td>3480.483920</td>\n",
       "      <td>100.930240</td>\n",
       "      <td>9:15</td>\n",
       "      <td>6.96039</td>\n",
       "      <td>5.43599</td>\n",
       "      <td>2.34610</td>\n",
       "      <td>-6.38485</td>\n",
       "      <td>-7.862841</td>\n",
       "      <td>-1.929632</td>\n",
       "      <td>False</td>\n",
       "    </tr>\n",
       "    <tr>\n",
       "      <th>4</th>\n",
       "      <td>Slider</td>\n",
       "      <td>Slider</td>\n",
       "      <td>87.45870</td>\n",
       "      <td>-4.605749</td>\n",
       "      <td>-1.323250</td>\n",
       "      <td>1287.761851</td>\n",
       "      <td>79.042003</td>\n",
       "      <td>8:45</td>\n",
       "      <td>6.99938</td>\n",
       "      <td>5.28786</td>\n",
       "      <td>0.27646</td>\n",
       "      <td>-4.37162</td>\n",
       "      <td>-11.264591</td>\n",
       "      <td>-2.102031</td>\n",
       "      <td>False</td>\n",
       "    </tr>\n",
       "  </tbody>\n",
       "</table>\n",
       "</div>"
      ],
      "text/plain": [
       "  TaggedPitchType AutoPitchType  RelSpeed  VertRelAngle  HorzRelAngle  \\\n",
       "0          Slider        Slider  86.34831     -5.087035     -0.556059   \n",
       "1        Fastball     Four-Seam  94.49974     -3.133086     -0.492520   \n",
       "2        Fastball     Four-Seam  94.81021     -3.910073     -1.135525   \n",
       "3          Slider        Slider  86.30865     -1.385858     -0.791508   \n",
       "4          Slider        Slider  87.45870     -4.605749     -1.323250   \n",
       "\n",
       "      SpinRate    SpinAxis   Tilt  RelHeight  Extension  InducedVertBreak  \\\n",
       "0  2514.190308   69.694698   8:15    6.89596    5.20061          -1.26150   \n",
       "1  2095.787589  190.374426  12:15    6.87165    5.83655          20.20828   \n",
       "2  1996.806823  178.803234  12:00    6.94572    5.67326          22.06875   \n",
       "3  3480.483920  100.930240   9:15    6.96039    5.43599           2.34610   \n",
       "4  1287.761851   79.042003   8:45    6.99938    5.28786           0.27646   \n",
       "\n",
       "   HorzBreak  VertApprAngle  HorzApprAngle  Whiff  \n",
       "0   -6.71201     -12.231122      -1.751516  False  \n",
       "1    3.49654      -5.365324       0.134391  False  \n",
       "2   -0.43740      -5.815582      -1.213668  False  \n",
       "3   -6.38485      -7.862841      -1.929632  False  \n",
       "4   -4.37162     -11.264591      -2.102031  False  "
      ]
     },
     "execution_count": 9,
     "metadata": {},
     "output_type": "execute_result"
    }
   ],
   "source": [
    "# peer at data and get a sense of the shape\n",
    "data.head(5)\n",
    "#print(f'Data shape: {data.shape}')"
   ]
  },
  {
   "cell_type": "markdown",
   "metadata": {},
   "source": [
    "---\n",
    "#### <span style=\"color:chocolate\"> Step 2: Exploratory data analysis (EDA) </span>\n",
    "- check for missing values\n",
    "- check for duplicates\n",
    "- check for outliers\n",
    "- check for class imbalance\n"
   ]
  },
  {
   "cell_type": "markdown",
   "metadata": {},
   "source": [
    "Rows to be dropped if N/A: \n",
    "- our target variables\n",
    "- name, date, location, team??\n"
   ]
  },
  {
   "cell_type": "code",
   "execution_count": 10,
   "metadata": {},
   "outputs": [],
   "source": [
    "new_required_columns = ['TaggedPitchType', 'AutoPitchType', 'RelSpeed', 'RelHeight', 'VertRelAngle', 'HorzRelAngle',\n",
    "                      'SpinRate', 'SpinAxis', 'Tilt', 'Extension','InducedVertBreak', 'HorzBreak', 'VertApprAngle', 'HorzApprAngle']\n"
   ]
  },
  {
   "cell_type": "code",
   "execution_count": 11,
   "metadata": {},
   "outputs": [],
   "source": [
    "# drop rows without certain columns\n",
    "data = data.dropna(subset=new_required_columns)"
   ]
  },
  {
   "cell_type": "code",
   "execution_count": 12,
   "metadata": {},
   "outputs": [
    {
     "name": "stdout",
     "output_type": "stream",
     "text": [
      "Number of rows dropped: 0\n"
     ]
    }
   ],
   "source": [
    "# check how many rows were dropped\n",
    "print(f'Number of rows dropped: {data.shape[0] - len(data)}')\n"
   ]
  },
  {
   "cell_type": "markdown",
   "metadata": {},
   "source": [
    "Check data types:"
   ]
  },
  {
   "cell_type": "code",
   "execution_count": 99,
   "metadata": {},
   "outputs": [
    {
     "name": "stdout",
     "output_type": "stream",
     "text": [
      "TaggedPitchType      object\n",
      "AutoPitchType        object\n",
      "RelSpeed            float64\n",
      "VertRelAngle        float64\n",
      "HorzRelAngle        float64\n",
      "SpinRate            float64\n",
      "SpinAxis            float64\n",
      "Tilt                 object\n",
      "RelHeight           float64\n",
      "Extension           float64\n",
      "InducedVertBreak    float64\n",
      "HorzBreak           float64\n",
      "VertApprAngle       float64\n",
      "HorzApprAngle       float64\n",
      "Whiff                  bool\n",
      "dtype: object\n"
     ]
    }
   ],
   "source": [
    "print(data.dtypes)"
   ]
  },
  {
   "cell_type": "code",
   "execution_count": 13,
   "metadata": {},
   "outputs": [],
   "source": [
    "independent_vars = data.drop(['Whiff'], axis=1)\n",
    "dependent_var = data['Whiff']"
   ]
  },
  {
   "cell_type": "code",
   "execution_count": 14,
   "metadata": {},
   "outputs": [],
   "source": [
    "ind_names = independent_vars.columns\n",
    "# reference this down below so i dont have to list them out there\n",
    "# Get column names by data type\n",
    "categorical_columns = independent_vars.select_dtypes(include=['object']).columns.tolist()\n",
    "numerical_columns = independent_vars.select_dtypes(include=['float64', 'int64']).columns.tolist()\n",
    "\n"
   ]
  },
  {
   "cell_type": "code",
   "execution_count": 15,
   "metadata": {},
   "outputs": [
    {
     "name": "stdout",
     "output_type": "stream",
     "text": [
      "Categorical columns: ['TaggedPitchType', 'AutoPitchType', 'Tilt']\n",
      "Numerical columns: ['RelSpeed', 'VertRelAngle', 'HorzRelAngle', 'SpinRate', 'SpinAxis', 'RelHeight', 'Extension', 'InducedVertBreak', 'HorzBreak', 'VertApprAngle', 'HorzApprAngle']\n"
     ]
    }
   ],
   "source": [
    "print(f'Categorical columns: {categorical_columns}')\n",
    "print(f'Numerical columns: {numerical_columns}')"
   ]
  },
  {
   "cell_type": "markdown",
   "metadata": {},
   "source": [
    "### Feature Engineering:"
   ]
  },
  {
   "cell_type": "markdown",
   "metadata": {},
   "source": [
    "---\n",
    "#### <span style=\"color:chocolate\"> Step 3: Data Preprocessing </span>\n",
    "- drop columns that are not useful?\n",
    "- encode labels \n",
    "- split into training and testing data\n",
    "- standardize data"
   ]
  },
  {
   "cell_type": "markdown",
   "metadata": {},
   "source": [
    "Working with certain data types: \\\n",
    "a) numerical data (float, int)  \\\n",
    "    - scale data \\\n",
    "    - RelSpeed, SpinRate, InducedVertBreak, HorzBreak, ExitSpeed, etc \\\n",
    "    \\\n",
    "b) categorical data (object/string) \\\n",
    "    - encode data (one-hot encoding with sklearn LabelEncoder) \\\n",
    "    - TaggedPitchType, AutoPitchType, PitchCall, KorBB, TaggedHitType, PlayResult\n"
   ]
  },
  {
   "cell_type": "code",
   "execution_count": 16,
   "metadata": {},
   "outputs": [],
   "source": [
    "def preprocess_data(data: pd.DataFrame) -> tuple[pd.DataFrame, pd.DataFrame, pd.DataFrame, pd.Series, pd.Series, pd.Series]:\n",
    "    \"\"\"\n",
    "    Preprocesses the data by identifying column types, encoding categorical data, and scaling numerical data.\n",
    "    Returns train/test/validation splits of features and target.\n",
    "\n",
    "    A series is a 1D array-like or list-like object that contains a single column of data (test and validation sets).\n",
    "    \"\"\"\n",
    "    \n",
    "    # 1. Identify column types\n",
    "    numerical_cols = data.select_dtypes(include=['int64', 'float64']).columns\n",
    "    categorical_cols = data.select_dtypes(include=['object']).columns\n",
    "\n",
    "    # 2. Handle categorical data\n",
    "    # For simple categorical variables, use Label Encoding\n",
    "    \"\"\" for col in ['TaggedPitchType', 'AutoPitchType']:\n",
    "        le = LabelEncoder()\n",
    "        data[f'{col}_encoded'] = le.fit_transform(data[col])\n",
    "        ## Note: label encoding assumes an order to the categories \"\"\"\n",
    "\n",
    "    # For nominal variables with many categories, use One-Hot Encoding\n",
    "    data = pd.get_dummies(data, columns=categorical_columns)\n",
    "\n",
    "    # 3. Scale numerical features\n",
    "    scaler = StandardScaler()\n",
    "    numerical_features = numerical_columns\n",
    "    data[numerical_features] = scaler.fit_transform(data[numerical_features])\n",
    "\n",
    "    # 4. Split into features and target\n",
    "    X = data.drop(['Whiff'], axis=1)\n",
    "    y = data['Whiff']\n",
    "\n",
    "    # 6. Split into train/test/validation sets\n",
    "    X_train, X_test, y_train, y_test = train_test_split(X, y, test_size=0.2, random_state=0)\n",
    "    X_train, X_val, y_train, y_val = train_test_split(X_train, y_train, test_size=0.2, random_state=0)\n",
    "    \n",
    "\n",
    "    print(f'X_train shape: {X_train.shape}')\n",
    "    print(f'X_val shape: {X_val.shape}')\n",
    "    print(f'X_test shape: {X_test.shape}')\n",
    "    print(f'y_train shape: {y_train.shape}')\n",
    "    print(f'y_val shape: {y_val.shape}')\n",
    "    print(f'y_test shape: {y_test.shape}')\n",
    "\n",
    "    return X_train, X_test, X_val, y_train, y_test, y_val"
   ]
  },
  {
   "cell_type": "code",
   "execution_count": 19,
   "metadata": {},
   "outputs": [
    {
     "name": "stdout",
     "output_type": "stream",
     "text": [
      "X_train shape: (673708, 81)\n",
      "X_val shape: (168428, 81)\n",
      "X_test shape: (210534, 81)\n",
      "y_train shape: (673708,)\n",
      "y_val shape: (168428,)\n",
      "y_test shape: (210534,)\n"
     ]
    }
   ],
   "source": [
    "X_train, X_test, X_val, y_train, y_test, y_val = preprocess_data(data)"
   ]
  },
  {
   "cell_type": "markdown",
   "metadata": {},
   "source": [
    "---\n",
    "#### <span style=\"color:chocolate\"> Step 4: Modeling </span>\n",
    "- train a decision tree\n",
    "- train a random forest\n",
    "- train a gradient boosting machine (XGBoost)\n",
    "- compare the three models"
   ]
  },
  {
   "cell_type": "markdown",
   "metadata": {},
   "source": [
    "#### Feedforward Neural Network\n",
    "- First, let's try a feedforward neural network (FNN)\n",
    "- simple architecture with multiple dense layers\n",
    "- experiment with different activation functions and optimizers\n",
    "- Adam is the most popular optimizer for deep learning\n",
    "- will start with Adam, go to SGD for CNN\n",
    "\n",
    "* CNN is good for finding patterns in structured data*\n",
    "* FNN is good for finding patterns in sequential data*\n"
   ]
  },
  {
   "cell_type": "markdown",
   "metadata": {},
   "source": [
    "For whiff prediction, you might want to target:\n",
    "- Loss: < 0.5\n",
    "- AUC-ROC: > 0.7\n",
    "- Precision: > 0.6\n",
    "- Recall: > 0.6\n"
   ]
  },
  {
   "cell_type": "markdown",
   "metadata": {},
   "source": [
    "If validation loss is bouncing while training loss decreases, it's a clear sign that the model is memorizing the training data rather than learning generalizable patterns. The key is to find the right balance of model capacity and regularization."
   ]
  },
  {
   "cell_type": "markdown",
   "metadata": {},
   "source": [
    "#### Recurrent Neural Network\n",
    "- good for sequential data like run value\n",
    "- probably not necessary for this problem since pitches are independent events\n"
   ]
  },
  {
   "cell_type": "code",
   "execution_count": 32,
   "metadata": {},
   "outputs": [],
   "source": [
    "# Convert pandas Series/DataFrames to numpy arrays\n",
    "# Convert pandas Series/DataFrames to numpy arrays with explicit float32 dtype\n",
    "X_train_np = X_train.to_numpy().astype('float32')\n",
    "X_val_np = X_val.to_numpy().astype('float32')\n",
    "y_train_np = y_train.to_numpy().astype('float32')\n",
    "y_val_np = y_val.to_numpy().astype('float32')\n"
   ]
  },
  {
   "cell_type": "code",
   "execution_count": 33,
   "metadata": {},
   "outputs": [],
   "source": [
    "# Compute class weights with numpy arrays\n",
    "class_weights = compute_class_weight('balanced', \n",
    "                                   classes=np.array([False, True]),\n",
    "                                   y=y_train_np)\n",
    "class_weight_dict = {0: class_weights[0], 1: class_weights[1]}"
   ]
  },
  {
   "cell_type": "code",
   "execution_count": 51,
   "metadata": {},
   "outputs": [
    {
     "data": {
      "text/html": [
       "<pre style=\"white-space:pre;overflow-x:auto;line-height:normal;font-family:Menlo,'DejaVu Sans Mono',consolas,'Courier New',monospace\"><span style=\"font-weight: bold\">Model: \"sequential_20\"</span>\n",
       "</pre>\n"
      ],
      "text/plain": [
       "\u001b[1mModel: \"sequential_20\"\u001b[0m\n"
      ]
     },
     "metadata": {},
     "output_type": "display_data"
    },
    {
     "data": {
      "text/html": [
       "<pre style=\"white-space:pre;overflow-x:auto;line-height:normal;font-family:Menlo,'DejaVu Sans Mono',consolas,'Courier New',monospace\">┏━━━━━━━━━━━━━━━━━━━━━━━━━━━━━━━━━┳━━━━━━━━━━━━━━━━━━━━━━━━┳━━━━━━━━━━━━━━━┓\n",
       "┃<span style=\"font-weight: bold\"> Layer (type)                    </span>┃<span style=\"font-weight: bold\"> Output Shape           </span>┃<span style=\"font-weight: bold\">       Param # </span>┃\n",
       "┡━━━━━━━━━━━━━━━━━━━━━━━━━━━━━━━━━╇━━━━━━━━━━━━━━━━━━━━━━━━╇━━━━━━━━━━━━━━━┩\n",
       "│ dense_73 (<span style=\"color: #0087ff; text-decoration-color: #0087ff\">Dense</span>)                │ (<span style=\"color: #00d7ff; text-decoration-color: #00d7ff\">None</span>, <span style=\"color: #00af00; text-decoration-color: #00af00\">32</span>)             │         <span style=\"color: #00af00; text-decoration-color: #00af00\">2,624</span> │\n",
       "├─────────────────────────────────┼────────────────────────┼───────────────┤\n",
       "│ batch_normalization_4           │ (<span style=\"color: #00d7ff; text-decoration-color: #00d7ff\">None</span>, <span style=\"color: #00af00; text-decoration-color: #00af00\">32</span>)             │           <span style=\"color: #00af00; text-decoration-color: #00af00\">128</span> │\n",
       "│ (<span style=\"color: #0087ff; text-decoration-color: #0087ff\">BatchNormalization</span>)            │                        │               │\n",
       "├─────────────────────────────────┼────────────────────────┼───────────────┤\n",
       "│ dropout_40 (<span style=\"color: #0087ff; text-decoration-color: #0087ff\">Dropout</span>)            │ (<span style=\"color: #00d7ff; text-decoration-color: #00d7ff\">None</span>, <span style=\"color: #00af00; text-decoration-color: #00af00\">32</span>)             │             <span style=\"color: #00af00; text-decoration-color: #00af00\">0</span> │\n",
       "├─────────────────────────────────┼────────────────────────┼───────────────┤\n",
       "│ dense_74 (<span style=\"color: #0087ff; text-decoration-color: #0087ff\">Dense</span>)                │ (<span style=\"color: #00d7ff; text-decoration-color: #00d7ff\">None</span>, <span style=\"color: #00af00; text-decoration-color: #00af00\">16</span>)             │           <span style=\"color: #00af00; text-decoration-color: #00af00\">528</span> │\n",
       "├─────────────────────────────────┼────────────────────────┼───────────────┤\n",
       "│ batch_normalization_5           │ (<span style=\"color: #00d7ff; text-decoration-color: #00d7ff\">None</span>, <span style=\"color: #00af00; text-decoration-color: #00af00\">16</span>)             │            <span style=\"color: #00af00; text-decoration-color: #00af00\">64</span> │\n",
       "│ (<span style=\"color: #0087ff; text-decoration-color: #0087ff\">BatchNormalization</span>)            │                        │               │\n",
       "├─────────────────────────────────┼────────────────────────┼───────────────┤\n",
       "│ dropout_41 (<span style=\"color: #0087ff; text-decoration-color: #0087ff\">Dropout</span>)            │ (<span style=\"color: #00d7ff; text-decoration-color: #00d7ff\">None</span>, <span style=\"color: #00af00; text-decoration-color: #00af00\">16</span>)             │             <span style=\"color: #00af00; text-decoration-color: #00af00\">0</span> │\n",
       "├─────────────────────────────────┼────────────────────────┼───────────────┤\n",
       "│ dense_75 (<span style=\"color: #0087ff; text-decoration-color: #0087ff\">Dense</span>)                │ (<span style=\"color: #00d7ff; text-decoration-color: #00d7ff\">None</span>, <span style=\"color: #00af00; text-decoration-color: #00af00\">1</span>)              │            <span style=\"color: #00af00; text-decoration-color: #00af00\">17</span> │\n",
       "└─────────────────────────────────┴────────────────────────┴───────────────┘\n",
       "</pre>\n"
      ],
      "text/plain": [
       "┏━━━━━━━━━━━━━━━━━━━━━━━━━━━━━━━━━┳━━━━━━━━━━━━━━━━━━━━━━━━┳━━━━━━━━━━━━━━━┓\n",
       "┃\u001b[1m \u001b[0m\u001b[1mLayer (type)                   \u001b[0m\u001b[1m \u001b[0m┃\u001b[1m \u001b[0m\u001b[1mOutput Shape          \u001b[0m\u001b[1m \u001b[0m┃\u001b[1m \u001b[0m\u001b[1m      Param #\u001b[0m\u001b[1m \u001b[0m┃\n",
       "┡━━━━━━━━━━━━━━━━━━━━━━━━━━━━━━━━━╇━━━━━━━━━━━━━━━━━━━━━━━━╇━━━━━━━━━━━━━━━┩\n",
       "│ dense_73 (\u001b[38;5;33mDense\u001b[0m)                │ (\u001b[38;5;45mNone\u001b[0m, \u001b[38;5;34m32\u001b[0m)             │         \u001b[38;5;34m2,624\u001b[0m │\n",
       "├─────────────────────────────────┼────────────────────────┼───────────────┤\n",
       "│ batch_normalization_4           │ (\u001b[38;5;45mNone\u001b[0m, \u001b[38;5;34m32\u001b[0m)             │           \u001b[38;5;34m128\u001b[0m │\n",
       "│ (\u001b[38;5;33mBatchNormalization\u001b[0m)            │                        │               │\n",
       "├─────────────────────────────────┼────────────────────────┼───────────────┤\n",
       "│ dropout_40 (\u001b[38;5;33mDropout\u001b[0m)            │ (\u001b[38;5;45mNone\u001b[0m, \u001b[38;5;34m32\u001b[0m)             │             \u001b[38;5;34m0\u001b[0m │\n",
       "├─────────────────────────────────┼────────────────────────┼───────────────┤\n",
       "│ dense_74 (\u001b[38;5;33mDense\u001b[0m)                │ (\u001b[38;5;45mNone\u001b[0m, \u001b[38;5;34m16\u001b[0m)             │           \u001b[38;5;34m528\u001b[0m │\n",
       "├─────────────────────────────────┼────────────────────────┼───────────────┤\n",
       "│ batch_normalization_5           │ (\u001b[38;5;45mNone\u001b[0m, \u001b[38;5;34m16\u001b[0m)             │            \u001b[38;5;34m64\u001b[0m │\n",
       "│ (\u001b[38;5;33mBatchNormalization\u001b[0m)            │                        │               │\n",
       "├─────────────────────────────────┼────────────────────────┼───────────────┤\n",
       "│ dropout_41 (\u001b[38;5;33mDropout\u001b[0m)            │ (\u001b[38;5;45mNone\u001b[0m, \u001b[38;5;34m16\u001b[0m)             │             \u001b[38;5;34m0\u001b[0m │\n",
       "├─────────────────────────────────┼────────────────────────┼───────────────┤\n",
       "│ dense_75 (\u001b[38;5;33mDense\u001b[0m)                │ (\u001b[38;5;45mNone\u001b[0m, \u001b[38;5;34m1\u001b[0m)              │            \u001b[38;5;34m17\u001b[0m │\n",
       "└─────────────────────────────────┴────────────────────────┴───────────────┘\n"
      ]
     },
     "metadata": {},
     "output_type": "display_data"
    },
    {
     "data": {
      "text/html": [
       "<pre style=\"white-space:pre;overflow-x:auto;line-height:normal;font-family:Menlo,'DejaVu Sans Mono',consolas,'Courier New',monospace\"><span style=\"font-weight: bold\"> Total params: </span><span style=\"color: #00af00; text-decoration-color: #00af00\">3,361</span> (13.13 KB)\n",
       "</pre>\n"
      ],
      "text/plain": [
       "\u001b[1m Total params: \u001b[0m\u001b[38;5;34m3,361\u001b[0m (13.13 KB)\n"
      ]
     },
     "metadata": {},
     "output_type": "display_data"
    },
    {
     "data": {
      "text/html": [
       "<pre style=\"white-space:pre;overflow-x:auto;line-height:normal;font-family:Menlo,'DejaVu Sans Mono',consolas,'Courier New',monospace\"><span style=\"font-weight: bold\"> Trainable params: </span><span style=\"color: #00af00; text-decoration-color: #00af00\">3,265</span> (12.75 KB)\n",
       "</pre>\n"
      ],
      "text/plain": [
       "\u001b[1m Trainable params: \u001b[0m\u001b[38;5;34m3,265\u001b[0m (12.75 KB)\n"
      ]
     },
     "metadata": {},
     "output_type": "display_data"
    },
    {
     "data": {
      "text/html": [
       "<pre style=\"white-space:pre;overflow-x:auto;line-height:normal;font-family:Menlo,'DejaVu Sans Mono',consolas,'Courier New',monospace\"><span style=\"font-weight: bold\"> Non-trainable params: </span><span style=\"color: #00af00; text-decoration-color: #00af00\">96</span> (384.00 B)\n",
       "</pre>\n"
      ],
      "text/plain": [
       "\u001b[1m Non-trainable params: \u001b[0m\u001b[38;5;34m96\u001b[0m (384.00 B)\n"
      ]
     },
     "metadata": {},
     "output_type": "display_data"
    },
    {
     "name": "stdout",
     "output_type": "stream",
     "text": [
      "Epoch 1/20\n",
      "\u001b[1m1316/1316\u001b[0m \u001b[32m━━━━━━━━━━━━━━━━━━━━\u001b[0m\u001b[37m\u001b[0m \u001b[1m2s\u001b[0m 788us/step - AUC: 0.5161 - accuracy: 0.5218 - loss: 0.7703 - val_AUC: 0.6243 - val_accuracy: 0.6573 - val_loss: 0.6452\n",
      "Epoch 2/20\n",
      "\u001b[1m1316/1316\u001b[0m \u001b[32m━━━━━━━━━━━━━━━━━━━━\u001b[0m\u001b[37m\u001b[0m \u001b[1m1s\u001b[0m 703us/step - AUC: 0.5751 - accuracy: 0.5599 - loss: 0.7003 - val_AUC: 0.6545 - val_accuracy: 0.6428 - val_loss: 0.6467\n",
      "Epoch 3/20\n",
      "\u001b[1m1316/1316\u001b[0m \u001b[32m━━━━━━━━━━━━━━━━━━━━\u001b[0m\u001b[37m\u001b[0m \u001b[1m1s\u001b[0m 706us/step - AUC: 0.6086 - accuracy: 0.5835 - loss: 0.6773 - val_AUC: 0.6688 - val_accuracy: 0.6348 - val_loss: 0.6470\n",
      "Epoch 4/20\n",
      "\u001b[1m1316/1316\u001b[0m \u001b[32m━━━━━━━━━━━━━━━━━━━━\u001b[0m\u001b[37m\u001b[0m \u001b[1m1s\u001b[0m 706us/step - AUC: 0.6277 - accuracy: 0.5965 - loss: 0.6675 - val_AUC: 0.6797 - val_accuracy: 0.6322 - val_loss: 0.6430\n",
      "Epoch 5/20\n",
      "\u001b[1m1316/1316\u001b[0m \u001b[32m━━━━━━━━━━━━━━━━━━━━\u001b[0m\u001b[37m\u001b[0m \u001b[1m1s\u001b[0m 706us/step - AUC: 0.6455 - accuracy: 0.6036 - loss: 0.6595 - val_AUC: 0.6878 - val_accuracy: 0.6269 - val_loss: 0.6416\n",
      "Epoch 6/20\n",
      "\u001b[1m1316/1316\u001b[0m \u001b[32m━━━━━━━━━━━━━━━━━━━━\u001b[0m\u001b[37m\u001b[0m \u001b[1m1s\u001b[0m 711us/step - AUC: 0.6560 - accuracy: 0.6066 - loss: 0.6559 - val_AUC: 0.6924 - val_accuracy: 0.6346 - val_loss: 0.6341\n",
      "Epoch 7/20\n",
      "\u001b[1m1316/1316\u001b[0m \u001b[32m━━━━━━━━━━━━━━━━━━━━\u001b[0m\u001b[37m\u001b[0m \u001b[1m1s\u001b[0m 693us/step - AUC: 0.6670 - accuracy: 0.6136 - loss: 0.6487 - val_AUC: 0.6958 - val_accuracy: 0.6345 - val_loss: 0.6324\n",
      "Epoch 8/20\n",
      "\u001b[1m1316/1316\u001b[0m \u001b[32m━━━━━━━━━━━━━━━━━━━━\u001b[0m\u001b[37m\u001b[0m \u001b[1m1s\u001b[0m 694us/step - AUC: 0.6711 - accuracy: 0.6172 - loss: 0.6463 - val_AUC: 0.6979 - val_accuracy: 0.6356 - val_loss: 0.6294\n",
      "Epoch 9/20\n",
      "\u001b[1m1316/1316\u001b[0m \u001b[32m━━━━━━━━━━━━━━━━━━━━\u001b[0m\u001b[37m\u001b[0m \u001b[1m1s\u001b[0m 697us/step - AUC: 0.6734 - accuracy: 0.6164 - loss: 0.6461 - val_AUC: 0.6992 - val_accuracy: 0.6415 - val_loss: 0.6264\n",
      "Epoch 10/20\n",
      "\u001b[1m1316/1316\u001b[0m \u001b[32m━━━━━━━━━━━━━━━━━━━━\u001b[0m\u001b[37m\u001b[0m \u001b[1m1s\u001b[0m 730us/step - AUC: 0.6776 - accuracy: 0.6201 - loss: 0.6452 - val_AUC: 0.7000 - val_accuracy: 0.6426 - val_loss: 0.6253\n",
      "Epoch 11/20\n",
      "\u001b[1m1316/1316\u001b[0m \u001b[32m━━━━━━━━━━━━━━━━━━━━\u001b[0m\u001b[37m\u001b[0m \u001b[1m1s\u001b[0m 697us/step - AUC: 0.6784 - accuracy: 0.6225 - loss: 0.6420 - val_AUC: 0.7011 - val_accuracy: 0.6467 - val_loss: 0.6237\n",
      "Epoch 12/20\n",
      "\u001b[1m1316/1316\u001b[0m \u001b[32m━━━━━━━━━━━━━━━━━━━━\u001b[0m\u001b[37m\u001b[0m \u001b[1m1s\u001b[0m 697us/step - AUC: 0.6814 - accuracy: 0.6261 - loss: 0.6424 - val_AUC: 0.7019 - val_accuracy: 0.6470 - val_loss: 0.6216\n",
      "Epoch 13/20\n",
      "\u001b[1m1316/1316\u001b[0m \u001b[32m━━━━━━━━━━━━━━━━━━━━\u001b[0m\u001b[37m\u001b[0m \u001b[1m1s\u001b[0m 693us/step - AUC: 0.6820 - accuracy: 0.6275 - loss: 0.6386 - val_AUC: 0.7027 - val_accuracy: 0.6480 - val_loss: 0.6212\n",
      "Epoch 14/20\n",
      "\u001b[1m1316/1316\u001b[0m \u001b[32m━━━━━━━━━━━━━━━━━━━━\u001b[0m\u001b[37m\u001b[0m \u001b[1m1s\u001b[0m 687us/step - AUC: 0.6847 - accuracy: 0.6301 - loss: 0.6392 - val_AUC: 0.7037 - val_accuracy: 0.6463 - val_loss: 0.6227\n",
      "Epoch 15/20\n",
      "\u001b[1m1316/1316\u001b[0m \u001b[32m━━━━━━━━━━━━━━━━━━━━\u001b[0m\u001b[37m\u001b[0m \u001b[1m1s\u001b[0m 698us/step - AUC: 0.6863 - accuracy: 0.6310 - loss: 0.6369 - val_AUC: 0.7043 - val_accuracy: 0.6472 - val_loss: 0.6231\n",
      "Epoch 16/20\n",
      "\u001b[1m1316/1316\u001b[0m \u001b[32m━━━━━━━━━━━━━━━━━━━━\u001b[0m\u001b[37m\u001b[0m \u001b[1m1s\u001b[0m 690us/step - AUC: 0.6866 - accuracy: 0.6306 - loss: 0.6364 - val_AUC: 0.7050 - val_accuracy: 0.6503 - val_loss: 0.6205\n",
      "Epoch 17/20\n",
      "\u001b[1m1316/1316\u001b[0m \u001b[32m━━━━━━━━━━━━━━━━━━━━\u001b[0m\u001b[37m\u001b[0m \u001b[1m1s\u001b[0m 663us/step - AUC: 0.6891 - accuracy: 0.6329 - loss: 0.6366 - val_AUC: 0.7055 - val_accuracy: 0.6493 - val_loss: 0.6209\n",
      "Epoch 18/20\n",
      "\u001b[1m1316/1316\u001b[0m \u001b[32m━━━━━━━━━━━━━━━━━━━━\u001b[0m\u001b[37m\u001b[0m \u001b[1m1s\u001b[0m 658us/step - AUC: 0.6901 - accuracy: 0.6351 - loss: 0.6369 - val_AUC: 0.7066 - val_accuracy: 0.6485 - val_loss: 0.6202\n",
      "Epoch 19/20\n",
      "\u001b[1m1316/1316\u001b[0m \u001b[32m━━━━━━━━━━━━━━━━━━━━\u001b[0m\u001b[37m\u001b[0m \u001b[1m1s\u001b[0m 661us/step - AUC: 0.6904 - accuracy: 0.6339 - loss: 0.6345 - val_AUC: 0.7069 - val_accuracy: 0.6509 - val_loss: 0.6207\n",
      "Epoch 20/20\n",
      "\u001b[1m1316/1316\u001b[0m \u001b[32m━━━━━━━━━━━━━━━━━━━━\u001b[0m\u001b[37m\u001b[0m \u001b[1m1s\u001b[0m 709us/step - AUC: 0.6910 - accuracy: 0.6367 - loss: 0.6337 - val_AUC: 0.7075 - val_accuracy: 0.6505 - val_loss: 0.6191\n"
     ]
    },
    {
     "data": {
      "image/png": "[encoded data removed]",
      "text/plain": [
       "<Figure size 1200x400 with 2 Axes>"
      ]
     },
     "metadata": {},
     "output_type": "display_data"
    }
   ],
   "source": [
    "# Define the model\n",
    "model = Sequential([\n",
    "    # First layer\n",
    "    Dense(32, activation='relu', input_shape=(X_train.shape[1],)),  # Increased from 16\n",
    "    BatchNormalization(),\n",
    "    Dropout(0.3),\n",
    "    \n",
    "    # Second layer\n",
    "    Dense(16, activation='relu'),  # Increased from 8\n",
    "    BatchNormalization(),\n",
    "    Dropout(0.2),\n",
    "    \n",
    "    # Output layer\n",
    "    Dense(1, activation='sigmoid')  # Changed from tanh to sigmoid\n",
    "])\n",
    "\n",
    "# Compile the model\n",
    "model.compile(\n",
    "    optimizer=Adam(learning_rate=0.0001),\n",
    "    loss='binary_crossentropy',\n",
    "    metrics=['accuracy', 'AUC']  # Added AUC metric\n",
    ")\n",
    "# Add callbacks for better training\n",
    "callbacks = [\n",
    "    tf.keras.callbacks.EarlyStopping(\n",
    "        monitor='val_loss',\n",
    "        patience=5,\n",
    "        restore_best_weights=True\n",
    "    )\n",
    "]\n",
    "\n",
    "# Print model summary\n",
    "model.summary()\n",
    "\n",
    "# Train the model with class weights\n",
    "history = model.fit(\n",
    "    X_train_np, y_train_np,\n",
    "    epochs=20,\n",
    "    batch_size=512,\n",
    "    validation_data=(X_val_np, y_val_np),\n",
    "    class_weight=class_weight_dict,\n",
    "    verbose=1,\n",
    "    callbacks=callbacks\n",
    ")\n",
    "\n",
    "# Plot training history\n",
    "plt.figure(figsize=(12, 4))\n",
    "\n",
    "# plot loss\n",
    "plt.subplot(1, 2, 1)\n",
    "plt.plot(history.history['loss'], label='Training Loss')\n",
    "plt.plot(history.history['val_loss'], label='Validation Loss')\n",
    "plt.title('Model Loss')\n",
    "plt.xlabel('Epoch')\n",
    "plt.ylabel('Loss')\n",
    "plt.legend()\n",
    "\n",
    "# plot accuracy\n",
    "plt.subplot(1, 2, 2)\n",
    "plt.plot(history.history['accuracy'], label='Training Accuracy')\n",
    "plt.plot(history.history['val_accuracy'], label='Validation Accuracy')\n",
    "plt.title('Model Accuracy')\n",
    "plt.xlabel('Epoch')\n",
    "plt.ylabel('Accuracy')\n",
    "plt.legend()\n",
    "\n",
    "plt.tight_layout()\n",
    "plt.show()\n"
   ]
  },
  {
   "cell_type": "markdown",
   "metadata": {},
   "source": [
    "Hidden layers | Hidden sizes | Activation| Optimizer | Learning rate | #Parameters | Training accuracy| Validation accuracy\n",
    "-|-|-|-|-|-|-|-\n",
    " 3 | [128,64,32] | relu | Adam |0.01| 20,865 | .49 | .10\n",
    " 3 | [64,32,16] | relu | Adam |0.01| 7873 | .79 | .89\n",
    " 3 | [64,32] | relu | Adam |0.01| 7873 | .54 | .62\n",
    " digits | [128] | relu | Adam |0.01| 101770 | |\n",
    " digits | [256, 128] | relu | Adam |0.01| 235146 | |\n",
    "-|-|-|-|-|-|-|-\n",
    " fashion | [] | tanh | SGD |0.01| 7850 | |\n",
    " fashion | [] | relu | SGD |0.01| 7850 | |\n",
    " fashion | [] | relu | Adam |0.01| 7850 | |\n",
    " fashion | [128] | relu | Adam |0.01| 101770 | |\n",
    " fashion | [256, 128] | relu | Adam |0.01| 235146 | |"
   ]
  },
  {
   "cell_type": "code",
   "execution_count": null,
   "metadata": {},
   "outputs": [],
   "source": []
  }
 ],
 "metadata": {
  "kernelspec": {
   "display_name": "Python 3",
   "language": "python",
   "name": "python3"
  },
  "language_info": {
   "codemirror_mode": {
    "name": "ipython",
    "version": 3
   },
   "file_extension": ".py",
   "mimetype": "text/x-python",
   "name": "python",
   "nbconvert_exporter": "python",
   "pygments_lexer": "ipython3",
   "version": "3.12.6"
  }
 },
 "nbformat": 4,
 "nbformat_minor": 2
}
