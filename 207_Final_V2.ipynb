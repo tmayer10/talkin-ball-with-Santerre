{
 "cells": [
  {
   "cell_type": "code",
   "execution_count": 1,
   "id": "1306b465",
   "metadata": {},
   "outputs": [],
   "source": [
    "import pandas as pd\n",
    "\n",
    "# Path to your CSV file\n",
    "file_path = \"/home/eduardogh99/datasci207/talkin-ball-with-Santerre/training_data.csv\"\n",
    "\n",
    "chunk_size = 100000  # Number of rows per chunk\n",
    "chunks = pd.read_csv(file_path, chunksize=chunk_size)\n",
    "\n",
    "# Combine chunks into a single DataFrame or process each chunk separately\n",
    "# for chunk in chunks:\n",
    "#     print(chunk.head())  # Display the first few rows of each chunk"
   ]
  },
  {
   "cell_type": "code",
   "execution_count": 2,
   "id": "258ef303",
   "metadata": {},
   "outputs": [
    {
     "name": "stderr",
     "output_type": "stream",
     "text": [
      "/tmp/ipykernel_9441/417918597.py:2: DtypeWarning: Columns (27,92,93) have mixed types. Specify dtype option on import or set low_memory=False.\n",
      "  df = pd.concat(chunks)\n",
      "/tmp/ipykernel_9441/417918597.py:2: DtypeWarning: Columns (27,92,93) have mixed types. Specify dtype option on import or set low_memory=False.\n",
      "  df = pd.concat(chunks)\n",
      "/tmp/ipykernel_9441/417918597.py:2: DtypeWarning: Columns (27,92,93) have mixed types. Specify dtype option on import or set low_memory=False.\n",
      "  df = pd.concat(chunks)\n",
      "/tmp/ipykernel_9441/417918597.py:2: DtypeWarning: Columns (27,92,93) have mixed types. Specify dtype option on import or set low_memory=False.\n",
      "  df = pd.concat(chunks)\n",
      "/tmp/ipykernel_9441/417918597.py:2: DtypeWarning: Columns (27,92,93) have mixed types. Specify dtype option on import or set low_memory=False.\n",
      "  df = pd.concat(chunks)\n",
      "/tmp/ipykernel_9441/417918597.py:2: DtypeWarning: Columns (27,92,93) have mixed types. Specify dtype option on import or set low_memory=False.\n",
      "  df = pd.concat(chunks)\n",
      "/tmp/ipykernel_9441/417918597.py:2: DtypeWarning: Columns (27,92,93) have mixed types. Specify dtype option on import or set low_memory=False.\n",
      "  df = pd.concat(chunks)\n",
      "/tmp/ipykernel_9441/417918597.py:2: DtypeWarning: Columns (27,92,93) have mixed types. Specify dtype option on import or set low_memory=False.\n",
      "  df = pd.concat(chunks)\n",
      "/tmp/ipykernel_9441/417918597.py:2: DtypeWarning: Columns (27,92,93) have mixed types. Specify dtype option on import or set low_memory=False.\n",
      "  df = pd.concat(chunks)\n",
      "/tmp/ipykernel_9441/417918597.py:2: DtypeWarning: Columns (27,92,93) have mixed types. Specify dtype option on import or set low_memory=False.\n",
      "  df = pd.concat(chunks)\n",
      "/tmp/ipykernel_9441/417918597.py:2: DtypeWarning: Columns (27,92,93) have mixed types. Specify dtype option on import or set low_memory=False.\n",
      "  df = pd.concat(chunks)\n"
     ]
    }
   ],
   "source": [
    "# Combine all chunks into a single DataFrame\n",
    "df = pd.concat(chunks)\n",
    "\n",
    "# Now `df` is your full dataset loaded into a single DataFrame\n",
    "#print(df.info())  # Summary of the dataset"
   ]
  },
  {
   "cell_type": "code",
   "execution_count": 3,
   "id": "48a688c1",
   "metadata": {},
   "outputs": [
    {
     "name": "stdout",
     "output_type": "stream",
     "text": [
      "True\n",
      "   PitchNo        Date         Time  PAofInning  PitchofPA    Pitcher  \\\n",
      "0        1  2024-03-02  13:32:53.75         1.0        1.0  Quinn, JT   \n",
      "1        2  2024-03-02  13:33:10.55         1.0        2.0  Quinn, JT   \n",
      "2        3  2024-03-02  13:33:23.01         1.0        3.0  Quinn, JT   \n",
      "3        4  2024-03-02  13:33:44.31         1.0        4.0  Quinn, JT   \n",
      "4        5  2024-03-02  13:34:08.96         1.0        5.0  Quinn, JT   \n",
      "\n",
      "      PitcherId PitcherThrows PitcherTeam       Batter  ...  \\\n",
      "0  1.000234e+09         Right     OLE_REB  Wilmes, Ben  ...   \n",
      "1  1.000234e+09         Right     OLE_REB  Wilmes, Ben  ...   \n",
      "2  1.000234e+09         Right     OLE_REB  Wilmes, Ben  ...   \n",
      "3  1.000234e+09         Right     OLE_REB  Wilmes, Ben  ...   \n",
      "4  1.000234e+09         Right     OLE_REB  Wilmes, Ben  ...   \n",
      "\n",
      "   ThrowTrajectoryZc1 ThrowTrajectoryZc2 PitchReleaseConfidence  \\\n",
      "0                 NaN                NaN                   High   \n",
      "1                 NaN                NaN                   High   \n",
      "2                 NaN                NaN                   High   \n",
      "3                 NaN                NaN                   High   \n",
      "4                 NaN                NaN                   High   \n",
      "\n",
      "  PitchLocationConfidence  PitchMovementConfidence HitLaunchConfidence  \\\n",
      "0                    High                     High                 NaN   \n",
      "1                    High                     High                 NaN   \n",
      "2                    High                     High              Medium   \n",
      "3                    High                     High                High   \n",
      "4                    High                     High                 NaN   \n",
      "\n",
      "   HitLandingConfidence  CatcherThrowCatchConfidence  \\\n",
      "0                   NaN                          NaN   \n",
      "1                   NaN                          NaN   \n",
      "2                   Low                          NaN   \n",
      "3                   Low                          NaN   \n",
      "4                   NaN                          NaN   \n",
      "\n",
      "   CatcherThrowReleaseConfidence CatcherThrowLocationConfidence  \n",
      "0                            NaN                            NaN  \n",
      "1                            NaN                            NaN  \n",
      "2                            NaN                            NaN  \n",
      "3                            NaN                            NaN  \n",
      "4                            NaN                            NaN  \n",
      "\n",
      "[5 rows x 167 columns]\n"
     ]
    }
   ],
   "source": [
    "import os\n",
    "print(os.path.exists(file_path))  # Should print True if the file exists\n",
    "test_df = pd.read_csv(file_path, nrows=10)\n",
    "print(test_df.head())"
   ]
  },
  {
   "cell_type": "code",
   "execution_count": 4,
   "id": "ef562a9a",
   "metadata": {},
   "outputs": [
    {
     "name": "stderr",
     "output_type": "stream",
     "text": [
      "/tmp/ipykernel_9441/2044432792.py:2: DtypeWarning: Columns (27,92,93) have mixed types. Specify dtype option on import or set low_memory=False.\n",
      "  df = pd.concat(chunks, ignore_index=True)  # Combine into a single DataFrame\n",
      "/tmp/ipykernel_9441/2044432792.py:2: DtypeWarning: Columns (27,92,93) have mixed types. Specify dtype option on import or set low_memory=False.\n",
      "  df = pd.concat(chunks, ignore_index=True)  # Combine into a single DataFrame\n",
      "/tmp/ipykernel_9441/2044432792.py:2: DtypeWarning: Columns (27,92,93) have mixed types. Specify dtype option on import or set low_memory=False.\n",
      "  df = pd.concat(chunks, ignore_index=True)  # Combine into a single DataFrame\n",
      "/tmp/ipykernel_9441/2044432792.py:2: DtypeWarning: Columns (27,92,93) have mixed types. Specify dtype option on import or set low_memory=False.\n",
      "  df = pd.concat(chunks, ignore_index=True)  # Combine into a single DataFrame\n",
      "/tmp/ipykernel_9441/2044432792.py:2: DtypeWarning: Columns (27,92,93) have mixed types. Specify dtype option on import or set low_memory=False.\n",
      "  df = pd.concat(chunks, ignore_index=True)  # Combine into a single DataFrame\n",
      "/tmp/ipykernel_9441/2044432792.py:2: DtypeWarning: Columns (27,92,93) have mixed types. Specify dtype option on import or set low_memory=False.\n",
      "  df = pd.concat(chunks, ignore_index=True)  # Combine into a single DataFrame\n",
      "/tmp/ipykernel_9441/2044432792.py:2: DtypeWarning: Columns (27,92,93) have mixed types. Specify dtype option on import or set low_memory=False.\n",
      "  df = pd.concat(chunks, ignore_index=True)  # Combine into a single DataFrame\n",
      "/tmp/ipykernel_9441/2044432792.py:2: DtypeWarning: Columns (27,92,93) have mixed types. Specify dtype option on import or set low_memory=False.\n",
      "  df = pd.concat(chunks, ignore_index=True)  # Combine into a single DataFrame\n",
      "/tmp/ipykernel_9441/2044432792.py:2: DtypeWarning: Columns (27,92,93) have mixed types. Specify dtype option on import or set low_memory=False.\n",
      "  df = pd.concat(chunks, ignore_index=True)  # Combine into a single DataFrame\n",
      "/tmp/ipykernel_9441/2044432792.py:2: DtypeWarning: Columns (27,92,93) have mixed types. Specify dtype option on import or set low_memory=False.\n",
      "  df = pd.concat(chunks, ignore_index=True)  # Combine into a single DataFrame\n",
      "/tmp/ipykernel_9441/2044432792.py:2: DtypeWarning: Columns (27,92,93) have mixed types. Specify dtype option on import or set low_memory=False.\n",
      "  df = pd.concat(chunks, ignore_index=True)  # Combine into a single DataFrame\n"
     ]
    },
    {
     "name": "stdout",
     "output_type": "stream",
     "text": [
      "<class 'pandas.core.frame.DataFrame'>\n",
      "RangeIndex: 1068473 entries, 0 to 1068472\n",
      "Columns: 167 entries, PitchNo to CatcherThrowLocationConfidence\n",
      "dtypes: float64(113), int64(7), object(47)\n",
      "memory usage: 1.3+ GB\n",
      "None\n"
     ]
    }
   ],
   "source": [
    "chunks = pd.read_csv(file_path, chunksize=chunk_size)  # Create a new generator\n",
    "df = pd.concat(chunks, ignore_index=True)  # Combine into a single DataFrame\n",
    "print(df.info())\n"
   ]
  },
  {
   "cell_type": "code",
   "execution_count": 5,
   "id": "7a4a8566",
   "metadata": {},
   "outputs": [
    {
     "name": "stdout",
     "output_type": "stream",
     "text": [
      "Original DataFrame shape: (1068473, 167)\n",
      "New DataFrame shape: (1068473, 23)\n",
      "\n",
      "New DataFrame info:\n",
      "<class 'pandas.core.frame.DataFrame'>\n",
      "RangeIndex: 1068473 entries, 0 to 1068472\n",
      "Data columns (total 23 columns):\n",
      " #   Column            Non-Null Count    Dtype  \n",
      "---  ------            --------------    -----  \n",
      " 0   TaggedPitchType   1068473 non-null  object \n",
      " 1   AutoPitchType     1053452 non-null  object \n",
      " 2   PitchCall         1068473 non-null  object \n",
      " 3   KorBB             1068473 non-null  object \n",
      " 4   TaggedHitType     1068473 non-null  object \n",
      " 5   PlayResult        1068473 non-null  object \n",
      " 6   RunsScored        1068473 non-null  int64  \n",
      " 7   RelSpeed          1060584 non-null  float64\n",
      " 8   VertRelAngle      1060584 non-null  float64\n",
      " 9   HorzRelAngle      1060584 non-null  float64\n",
      " 10  SpinRate          1060067 non-null  float64\n",
      " 11  SpinAxis          1053452 non-null  float64\n",
      " 12  Tilt              1053452 non-null  object \n",
      " 13  RelHeight         1060584 non-null  float64\n",
      " 14  RelSide           1060584 non-null  float64\n",
      " 15  Extension         1060243 non-null  float64\n",
      " 16  InducedVertBreak  1053452 non-null  float64\n",
      " 17  HorzBreak         1053452 non-null  float64\n",
      " 18  VertApprAngle     1060584 non-null  float64\n",
      " 19  HorzApprAngle     1060584 non-null  float64\n",
      " 20  PlateLocHeight    1060584 non-null  float64\n",
      " 21  PlateLocSide      1060584 non-null  float64\n",
      " 22  ExitSpeed         271979 non-null   float64\n",
      "dtypes: float64(15), int64(1), object(7)\n",
      "memory usage: 187.5+ MB\n",
      "None\n"
     ]
    }
   ],
   "source": [
    "# Define required columns\n",
    "required_columns = ['TaggedPitchType', 'AutoPitchType', 'PitchCall', 'KorBB', 'TaggedHitType',\n",
    "                    'PlayResult', 'RunsScored', 'RelSpeed', 'VertRelAngle', 'HorzRelAngle',\n",
    "                    'SpinRate', 'SpinAxis', 'Tilt', 'RelHeight', 'RelSide', 'Extension','InducedVertBreak',\n",
    "                    'HorzBreak', 'VertApprAngle', 'HorzApprAngle','PlateLocHeight','PlateLocSide',\n",
    "                    'ExitSpeed']\n",
    "\n",
    "# Create new dataframe with only required columns\n",
    "df_relevant = df[required_columns]\n",
    "\n",
    "# Print info about the new dataframe\n",
    "print(f\"Original DataFrame shape: {df.shape}\")\n",
    "print(f\"New DataFrame shape: {df_relevant.shape}\")\n",
    "print(\"\\nNew DataFrame info:\")\n",
    "print(df_relevant.info())\n"
   ]
  },
  {
   "cell_type": "code",
   "execution_count": 6,
   "id": "78968d25",
   "metadata": {},
   "outputs": [
    {
     "name": "stdout",
     "output_type": "stream",
     "text": [
      "\n",
      "Unique values in PlayResult:\n",
      "['Undefined' 'Single' 'Out' 'HomeRun' 'Double' 'Error' 'Sacrifice'\n",
      " 'FieldersChoice' 'Triple' 'StolenBase' 'CaughtStealing' 'error']\n",
      "\n",
      "Unique values in PitchCall:\n",
      "['BallCalled' 'StrikeCalled' 'FoulBallNotFieldable' 'StrikeSwinging'\n",
      " 'InPlay' 'HitByPitch' 'FoulBallFieldable' 'FoulBall' 'BallinDirt'\n",
      " 'Undefined' 'BallIntentional' 'StrkeSwinging ']\n"
     ]
    }
   ],
   "source": [
    "# Look at unique values in PlayResult and PitchCall columns\n",
    "print(\"\\nUnique values in PlayResult:\")\n",
    "print(df_relevant['PlayResult'].unique())\n",
    "\n",
    "print(\"\\nUnique values in PitchCall:\")\n",
    "print(df_relevant['PitchCall'].unique())\n"
   ]
  },
  {
   "cell_type": "code",
   "execution_count": 7,
   "id": "33273260",
   "metadata": {},
   "outputs": [
    {
     "name": "stderr",
     "output_type": "stream",
     "text": [
      "/tmp/ipykernel_9441/4039161935.py:29: SettingWithCopyWarning: \n",
      "A value is trying to be set on a copy of a slice from a DataFrame.\n",
      "Try using .loc[row_indexer,col_indexer] = value instead\n",
      "\n",
      "See the caveats in the documentation: https://pandas.pydata.org/pandas-docs/stable/user_guide/indexing.html#returning-a-view-versus-a-copy\n",
      "  df_relevant['PitchResult'] = df_relevant.apply(calculate_pitch_result, axis=1)\n"
     ]
    }
   ],
   "source": [
    "import numpy as np\n",
    "def calculate_pitch_result(row):\n",
    "    if pd.notna(row['PlayResult']):\n",
    "        if row['PlayResult'] == 'Single':\n",
    "            return 'Single'\n",
    "        elif row['PlayResult'] == 'Double':\n",
    "            return 'Double'\n",
    "        elif row['PlayResult'] == 'Triple':\n",
    "            return 'Triple'\n",
    "        elif row['PlayResult'] == 'HomeRun':\n",
    "            return 'HomeRun'\n",
    "        elif row['PlayResult'] == 'Undefined':  # Fixed capitalization\n",
    "            if pd.notna(row['PitchCall']):\n",
    "                if row['PitchCall'] == 'BallCalled':\n",
    "                    return 'Ball'\n",
    "                elif row['PitchCall'] == 'FoulBallNotFieldable':\n",
    "                    return 'FoulBall'\n",
    "                elif row['PitchCall'] == 'FoulBallFieldable':\n",
    "                    return 'FoulBall'\n",
    "                elif row['PitchCall'] == 'FoulBall':\n",
    "                    return 'FoulBall'\n",
    "                elif row['PitchCall'] == 'StrikeSwinging':\n",
    "                    return 'Strike'\n",
    "                elif row['PitchCall'] == 'StrikeCalled':\n",
    "                    return 'Strike'\n",
    "    return np.nan  # Return np.nan for any unaccounted combinations\n",
    "\n",
    "# Apply the updated function\n",
    "df_relevant['PitchResult'] = df_relevant.apply(calculate_pitch_result, axis=1)\n"
   ]
  },
  {
   "cell_type": "code",
   "execution_count": 8,
   "id": "1c4b0f8b",
   "metadata": {},
   "outputs": [
    {
     "name": "stdout",
     "output_type": "stream",
     "text": [
      "Original shape: (1068473, 24)\n",
      "Shape after removing NaN PitchResult: (922496, 24)\n"
     ]
    }
   ],
   "source": [
    "# Remove rows where PitchScore is NaN\n",
    "df_relevant_clean = df_relevant.dropna(subset=['PitchResult'])\n",
    "\n",
    "# Print shape before and after to see how many rows were removed\n",
    "print(f\"Original shape: {df_relevant.shape}\")\n",
    "print(f\"Shape after removing NaN PitchResult: {df_relevant_clean.shape}\")\n"
   ]
  },
  {
   "cell_type": "code",
   "execution_count": 9,
   "id": "ce0a4c9b",
   "metadata": {},
   "outputs": [
    {
     "name": "stdout",
     "output_type": "stream",
     "text": [
      "\n",
      "Numerical columns:\n",
      "['RunsScored', 'RelSpeed', 'VertRelAngle', 'HorzRelAngle', 'SpinRate', 'SpinAxis', 'RelHeight', 'RelSide', 'Extension', 'InducedVertBreak', 'HorzBreak', 'VertApprAngle', 'HorzApprAngle', 'PlateLocHeight', 'PlateLocSide', 'ExitSpeed']\n",
      "\n",
      "Non-numerical columns:\n",
      "['TaggedPitchType', 'AutoPitchType', 'PitchCall', 'KorBB', 'TaggedHitType', 'PlayResult', 'Tilt', 'PitchResult']\n"
     ]
    }
   ],
   "source": [
    "# Get lists of numerical and non-numerical columns\n",
    "numerical_columns = df_relevant_clean.select_dtypes(include=['int64', 'float64']).columns\n",
    "non_numerical_columns = df_relevant_clean.select_dtypes(exclude=['int64', 'float64']).columns\n",
    "\n",
    "print(\"\\nNumerical columns:\")\n",
    "print(numerical_columns.tolist())\n",
    "\n",
    "print(\"\\nNon-numerical columns:\")\n",
    "print(non_numerical_columns.tolist())\n"
   ]
  },
  {
   "cell_type": "code",
   "execution_count": 10,
   "id": "31e67c09",
   "metadata": {},
   "outputs": [
    {
     "name": "stdout",
     "output_type": "stream",
     "text": [
      "\n",
      "Number of NaN values in numerical columns:\n",
      "RelSpeed              5899\n",
      "VertRelAngle          5899\n",
      "HorzRelAngle          5899\n",
      "SpinRate              6391\n",
      "SpinAxis             11946\n",
      "RelHeight             5899\n",
      "RelSide               5899\n",
      "Extension             6189\n",
      "InducedVertBreak     11946\n",
      "HorzBreak            11946\n",
      "VertApprAngle         5899\n",
      "HorzApprAngle         5899\n",
      "PlateLocHeight        5899\n",
      "PlateLocSide          5899\n",
      "ExitSpeed           756338\n",
      "dtype: int64\n",
      "\n",
      "Original shape: (922496, 24)\n",
      "Shape after removing NaN values (except ExitSpeed): (909839, 24)\n"
     ]
    }
   ],
   "source": [
    "# Calculate and display number of NaN values in numerical columns\n",
    "nan_counts = df_relevant_clean[numerical_columns].isna().sum()\n",
    "print(\"\\nNumber of NaN values in numerical columns:\")\n",
    "print(nan_counts[nan_counts > 0])  # Only show columns that have NaN values\n",
    "\n",
    "# Create a new dataset dropping NaN values except for ExitSpeed\n",
    "columns_to_check = [col for col in numerical_columns if col != 'ExitSpeed']\n",
    "df_relevant_no_nans = df_relevant_clean.dropna(subset=columns_to_check)\n",
    "\n",
    "# Print shape before and after to see how many rows were removed\n",
    "print(f\"\\nOriginal shape: {df_relevant_clean.shape}\")\n",
    "print(f\"Shape after removing NaN values (except ExitSpeed): {df_relevant_no_nans.shape}\")\n",
    "\n"
   ]
  },
  {
   "cell_type": "code",
   "execution_count": 11,
   "id": "2e97fcf0",
   "metadata": {},
   "outputs": [
    {
     "name": "stdout",
     "output_type": "stream",
     "text": [
      "\n",
      "Number of NaN values in numerical columns:\n",
      "RelSpeed              5899\n",
      "VertRelAngle          5899\n",
      "HorzRelAngle          5899\n",
      "SpinRate              6391\n",
      "SpinAxis             11946\n",
      "RelHeight             5899\n",
      "RelSide               5899\n",
      "Extension             6189\n",
      "InducedVertBreak     11946\n",
      "HorzBreak            11946\n",
      "VertApprAngle         5899\n",
      "HorzApprAngle         5899\n",
      "PlateLocHeight        5899\n",
      "PlateLocSide          5899\n",
      "ExitSpeed           756338\n",
      "dtype: int64\n",
      "\n",
      "Original shape: (922496, 24)\n",
      "Shape after removing NaN values (except ExitSpeed): (909839, 24)\n"
     ]
    }
   ],
   "source": [
    "# Calculate and display number of NaN values in numerical columns\n",
    "nan_counts = df_relevant_clean[numerical_columns].isna().sum()\n",
    "print(\"\\nNumber of NaN values in numerical columns:\")\n",
    "print(nan_counts[nan_counts > 0])  # Only show columns that have NaN values\n",
    "\n",
    "# Create a new dataset dropping NaN values except for ExitSpeed\n",
    "columns_to_check = [col for col in numerical_columns if col != 'ExitSpeed']\n",
    "df_relevant_no_nans = df_relevant_clean.dropna(subset=columns_to_check)\n",
    "\n",
    "# Print shape before and after to see how many rows were removed\n",
    "print(f\"\\nOriginal shape: {df_relevant_clean.shape}\")\n",
    "print(f\"Shape after removing NaN values (except ExitSpeed): {df_relevant_no_nans.shape}\")"
   ]
  },
  {
   "cell_type": "code",
   "execution_count": 12,
   "id": "9e863ea4",
   "metadata": {},
   "outputs": [],
   "source": [
    "# Import necessary libraries\n",
    "from sklearn.ensemble import RandomForestClassifier\n",
    "from sklearn.model_selection import train_test_split\n",
    "from sklearn.metrics import classification_report, confusion_matrix\n",
    "import numpy as np\n",
    "from sklearn.preprocessing import LabelEncoder\n",
    "\n",
    "# Get numerical columns except ExitSpeed\n",
    "numerical_features = df_relevant_no_nans.select_dtypes(include=['int64', 'float64']).columns.tolist()\n",
    "numerical_features.remove('ExitSpeed')\n",
    "numerical_features.remove('RunsScored')\n",
    "\n",
    "# Prepare features (X) and target (y)\n",
    "X = df_relevant_no_nans[numerical_features]\n",
    "y = df_relevant_no_nans['PitchResult']  # Using PitchCall as the target\n",
    "\n",
    "# Apply Label Encoder\n",
    "le = LabelEncoder()\n",
    "y = le.fit_transform(y)\n",
    "\n",
    "\n",
    "# Split the data\n",
    "X_train, X_test, y_train, y_test = train_test_split(X, y, test_size=0.2, random_state=42)\n",
    "\n"
   ]
  },
  {
   "cell_type": "code",
   "execution_count": 13,
   "id": "9640dad1",
   "metadata": {},
   "outputs": [
    {
     "name": "stdout",
     "output_type": "stream",
     "text": [
      "Classification Report:\n",
      "              precision    recall  f1-score   support\n",
      "\n",
      "           0       0.78      0.87      0.82     78435\n",
      "           1       0.00      0.00      0.00      2566\n",
      "           2       0.00      0.00      0.00     32119\n",
      "           3       0.00      0.00      0.00      1572\n",
      "           4       0.00      0.00      0.00      8437\n",
      "           5       0.48      0.78      0.60     58600\n",
      "           6       0.00      0.00      0.00       239\n",
      "\n",
      "    accuracy                           0.62    181968\n",
      "   macro avg       0.18      0.24      0.20    181968\n",
      "weighted avg       0.49      0.62      0.55    181968\n",
      "\n",
      "\n",
      "Feature Importance:\n",
      "             feature  importance\n",
      "13      PlateLocSide    0.358230\n",
      "12    PlateLocHeight    0.334094\n",
      "10     VertApprAngle    0.093561\n",
      "1       VertRelAngle    0.080572\n",
      "11     HorzApprAngle    0.039264\n",
      "2       HorzRelAngle    0.034816\n",
      "6            RelSide    0.014700\n",
      "8   InducedVertBreak    0.012902\n",
      "5          RelHeight    0.008873\n",
      "0           RelSpeed    0.008554\n",
      "4           SpinAxis    0.008228\n",
      "9          HorzBreak    0.004824\n",
      "3           SpinRate    0.001156\n",
      "7          Extension    0.000226\n"
     ]
    },
    {
     "name": "stderr",
     "output_type": "stream",
     "text": [
      "/home/eduardogh99/anaconda3/lib/python3.11/site-packages/sklearn/metrics/_classification.py:1469: UndefinedMetricWarning: Precision and F-score are ill-defined and being set to 0.0 in labels with no predicted samples. Use `zero_division` parameter to control this behavior.\n",
      "  _warn_prf(average, modifier, msg_start, len(result))\n",
      "/home/eduardogh99/anaconda3/lib/python3.11/site-packages/sklearn/metrics/_classification.py:1469: UndefinedMetricWarning: Precision and F-score are ill-defined and being set to 0.0 in labels with no predicted samples. Use `zero_division` parameter to control this behavior.\n",
      "  _warn_prf(average, modifier, msg_start, len(result))\n",
      "/home/eduardogh99/anaconda3/lib/python3.11/site-packages/sklearn/metrics/_classification.py:1469: UndefinedMetricWarning: Precision and F-score are ill-defined and being set to 0.0 in labels with no predicted samples. Use `zero_division` parameter to control this behavior.\n",
      "  _warn_prf(average, modifier, msg_start, len(result))\n"
     ]
    }
   ],
   "source": [
    "# Initialize and train the model\n",
    "rf_model = RandomForestClassifier(n_estimators=7, n_jobs=7, random_state=7, max_depth=7)\n",
    "rf_model.fit(X_train, y_train)\n",
    "\n",
    "# Make predictions\n",
    "y_pred = rf_model.predict(X_test)\n",
    "\n",
    "# Print model performance\n",
    "print(\"Classification Report:\")\n",
    "print(classification_report(y_test, y_pred))\n",
    "\n",
    "# Print feature importance\n",
    "feature_importance = pd.DataFrame({\n",
    "    'feature': numerical_features,\n",
    "    'importance': rf_model.feature_importances_\n",
    "})\n",
    "print(\"\\nFeature Importance:\")\n",
    "print(feature_importance.sort_values('importance', ascending=False))"
   ]
  },
  {
   "cell_type": "code",
   "execution_count": 14,
   "id": "a28a25f7",
   "metadata": {},
   "outputs": [
    {
     "name": "stdout",
     "output_type": "stream",
     "text": [
      "[LightGBM] [Info] Auto-choosing col-wise multi-threading, the overhead of testing was 0.038010 seconds.\n",
      "You can set `force_col_wise=true` to remove the overhead.\n",
      "[LightGBM] [Info] Total Bins 3570\n",
      "[LightGBM] [Info] Number of data points in the train set: 727871, number of used features: 14\n",
      "[LightGBM] [Info] Start training from score -0.840928\n",
      "[LightGBM] [Info] Start training from score -4.296983\n",
      "[LightGBM] [Info] Start training from score -1.733876\n",
      "[LightGBM] [Info] Start training from score -4.779543\n",
      "[LightGBM] [Info] Start training from score -3.076938\n",
      "[LightGBM] [Info] Start training from score -1.131603\n",
      "[LightGBM] [Info] Start training from score -6.525273\n",
      "LightGBM Classification Report:\n",
      "              precision    recall  f1-score   support\n",
      "\n",
      "           0       0.76      0.91      0.83     78435\n",
      "           1       0.00      0.00      0.00      2566\n",
      "           2       0.00      0.00      0.00     32119\n",
      "           3       0.24      0.01      0.01      1572\n",
      "           4       0.00      0.00      0.00      8437\n",
      "           5       0.50      0.74      0.59     58600\n",
      "           6       0.04      0.03      0.03       239\n",
      "\n",
      "    accuracy                           0.63    181968\n",
      "   macro avg       0.22      0.24      0.21    181968\n",
      "weighted avg       0.49      0.63      0.55    181968\n",
      "\n"
     ]
    },
    {
     "name": "stderr",
     "output_type": "stream",
     "text": [
      "/home/eduardogh99/anaconda3/lib/python3.11/site-packages/sklearn/metrics/_classification.py:1469: UndefinedMetricWarning: Precision and F-score are ill-defined and being set to 0.0 in labels with no predicted samples. Use `zero_division` parameter to control this behavior.\n",
      "  _warn_prf(average, modifier, msg_start, len(result))\n",
      "/home/eduardogh99/anaconda3/lib/python3.11/site-packages/sklearn/metrics/_classification.py:1469: UndefinedMetricWarning: Precision and F-score are ill-defined and being set to 0.0 in labels with no predicted samples. Use `zero_division` parameter to control this behavior.\n",
      "  _warn_prf(average, modifier, msg_start, len(result))\n",
      "/home/eduardogh99/anaconda3/lib/python3.11/site-packages/sklearn/metrics/_classification.py:1469: UndefinedMetricWarning: Precision and F-score are ill-defined and being set to 0.0 in labels with no predicted samples. Use `zero_division` parameter to control this behavior.\n",
      "  _warn_prf(average, modifier, msg_start, len(result))\n"
     ]
    }
   ],
   "source": [
    "from lightgbm import LGBMClassifier\n",
    "\n",
    "lgb_model = LGBMClassifier(\n",
    "    n_estimators=7,\n",
    "    learning_rate=0.1,\n",
    "    random_state=42,\n",
    "    n_jobs=7\n",
    ")\n",
    "\n",
    "lgb_model.fit(X_train, y_train)\n",
    "y_pred = lgb_model.predict(X_test)\n",
    "print(\"LightGBM Classification Report:\")\n",
    "print(classification_report(y_test, y_pred))"
   ]
  },
  {
   "cell_type": "code",
   "execution_count": 15,
   "id": "b42e2b9a",
   "metadata": {},
   "outputs": [],
   "source": [
    "import xgboost as xgb\n",
    "from sklearn.metrics import accuracy_score, classification_report"
   ]
  },
  {
   "cell_type": "code",
   "execution_count": 16,
   "id": "a10a88f1",
   "metadata": {},
   "outputs": [
    {
     "name": "stdout",
     "output_type": "stream",
     "text": [
      "Accuracy: 0.66\n",
      "              precision    recall  f1-score   support\n",
      "\n",
      "           0       0.80      0.90      0.85    313938\n",
      "           1       1.00      0.01      0.02      9906\n",
      "           2       0.48      0.26      0.34    128541\n",
      "           3       1.00      0.01      0.02      6114\n",
      "           4       0.98      0.00      0.01     33555\n",
      "           5       0.54      0.70      0.61    234750\n",
      "           6       1.00      0.06      0.11      1067\n",
      "\n",
      "    accuracy                           0.66    727871\n",
      "   macro avg       0.83      0.28      0.28    727871\n",
      "weighted avg       0.67      0.66      0.62    727871\n",
      "\n"
     ]
    }
   ],
   "source": [
    "bst = xgb.XGBClassifier(objective='multi:softprob', num_class=7, eval_metric='mlogloss')\n",
    "\n",
    "# fit model\n",
    "bst.fit(X_train, y_train)\n",
    "# make predictions\n",
    "y_pred = bst.predict(X_train)\n",
    "bst.score(X_train,y_train)\n",
    "# Evaluate the model \n",
    "accuracy = accuracy_score(y_train, y_pred)\n",
    "print(f'Accuracy: {accuracy:.2f}') \n",
    "# Print a detailed classification report\n",
    "print(classification_report(y_train,y_pred))"
   ]
  },
  {
   "cell_type": "code",
   "execution_count": 17,
   "id": "9069f70c",
   "metadata": {},
   "outputs": [],
   "source": [
    "# XGBoost (different learning rate)\n",
    "import numpy as np\n",
    "learning_rate_range = np.arange(0.01, 1, 0.05)\n",
    "test_XG = [] \n",
    "train_XG = []\n",
    "for lr in learning_rate_range:\n",
    "    xgb_classifier = xgb.XGBClassifier(objective='multi:softprob', num_class=7, eval_metric='mlogloss', eta = lr)\n",
    "    xgb_classifier.fit(X_train, y_train)\n",
    "    train_XG.append(xgb_classifier.score(X_train, y_train))\n",
    "    test_XG.append(xgb_classifier.score(X_test, y_test))"
   ]
  },
  {
   "cell_type": "code",
   "execution_count": 18,
   "id": "4fc0987a",
   "metadata": {},
   "outputs": [
    {
     "data": {
      "image/png": "[encoded data removed]",
      "text/plain": [
       "<Figure size 1000x700 with 1 Axes>"
      ]
     },
     "metadata": {},
     "output_type": "display_data"
    }
   ],
   "source": [
    "import matplotlib.pyplot as plt\n",
    "fig = plt.figure(figsize=(10, 7))\n",
    "plt.plot(learning_rate_range, train_XG, c='orange', label='Train')\n",
    "plt.plot(learning_rate_range, test_XG, c='m', label='Test')\n",
    "plt.xlabel('Learning rate')\n",
    "plt.xticks(learning_rate_range)\n",
    "plt.ylabel('Accuracy score')\n",
    "plt.ylim(0, 1)\n",
    "plt.legend(prop={'size': 12}, loc=3)\n",
    "plt.title('Accuracy score vs. Learning rate of XGBoost', size=14)\n",
    "plt.show()"
   ]
  },
  {
   "cell_type": "code",
   "execution_count": 19,
   "id": "b96c61e4",
   "metadata": {},
   "outputs": [],
   "source": [
    "learning_rate_range = np.arange(0.01, 1, 0.05)\n",
    "test_XG = [] \n",
    "train_XG = []\n",
    "for lr in learning_rate_range:\n",
    "    xgb_classifier = xgb.XGBClassifier(objective='multi:softmax', num_class=7, eval_metric='mlogloss', eta = lr)\n",
    "    xgb_classifier.fit(X_train, y_train)\n",
    "    train_XG.append(xgb_classifier.score(X_train, y_train))\n",
    "    test_XG.append(xgb_classifier.score(X_test, y_test))"
   ]
  },
  {
   "cell_type": "code",
   "execution_count": 20,
   "id": "5c28ddda",
   "metadata": {},
   "outputs": [
    {
     "data": {
      "image/png": "[encoded data removed]",
      "text/plain": [
       "<Figure size 1000x700 with 1 Axes>"
      ]
     },
     "metadata": {},
     "output_type": "display_data"
    }
   ],
   "source": [
    "fig = plt.figure(figsize=(10, 7))\n",
    "plt.plot(learning_rate_range, train_XG, c='orange', label='Train')\n",
    "plt.plot(learning_rate_range, test_XG, c='m', label='Test')\n",
    "plt.xlabel('Learning rate')\n",
    "plt.xticks(learning_rate_range)\n",
    "plt.ylabel('Accuracy score')\n",
    "plt.ylim(0, 1)\n",
    "plt.legend(prop={'size': 12}, loc=3)\n",
    "plt.title('Accuracy score vs. Learning rate of XGBoost', size=14)\n",
    "plt.show()"
   ]
  },
  {
   "cell_type": "code",
   "execution_count": 21,
   "id": "ef95a6d0",
   "metadata": {},
   "outputs": [],
   "source": [
    "depth_range = np.arange(1, 10, 1)\n",
    "test_XG = [] \n",
    "train_XG = []\n",
    "for dp in depth_range:\n",
    "    xgb_classifier = xgb.XGBClassifier(objective='multi:softmax',\n",
    "    num_class=7,\n",
    "    eval_metric='mlogloss',\n",
    "    max_depth = dp,\n",
    "    min_child_weight = 1,\n",
    "    gamma = 0.01,\n",
    "    eta=.05)\n",
    "    xgb_classifier.fit(X_train, y_train)\n",
    "    train_XG.append(xgb_classifier.score(X_train, y_train))\n",
    "    test_XG.append(xgb_classifier.score(X_test, y_test))"
   ]
  },
  {
   "cell_type": "code",
   "execution_count": 22,
   "id": "04a47ceb",
   "metadata": {},
   "outputs": [
    {
     "name": "stdout",
     "output_type": "stream",
     "text": [
      "[0.6274619713356194, 0.6297206102171811, 0.632023212872593, 0.6333750989184912, 0.6383649872505056, 0.6411896597203904, 0.6432010023740438, 0.6450474808757584, 0.6476688208915853]\n",
      "[0.6280165029242819, 0.630691427464482, 0.6327961960292414, 0.6342291422518551, 0.6391970555222011, 0.6422456726535334, 0.6448024443891843, 0.6480736284314116, 0.6528821728025983]\n"
     ]
    }
   ],
   "source": [
    "print(test_XG)\n",
    "print(train_XG)"
   ]
  },
  {
   "cell_type": "code",
   "execution_count": null,
   "id": "e0dd2075",
   "metadata": {},
   "outputs": [
    {
     "data": {
      "image/png": "[encoded data removed]",
      "text/plain": [
       "<Figure size 1000x700 with 1 Axes>"
      ]
     },
     "metadata": {},
     "output_type": "display_data"
    },
    {
     "ename": "",
     "evalue": "",
     "output_type": "error",
     "traceback": [
      "\u001b[1;31mThe Kernel crashed while executing code in the current cell or a previous cell. \n",
      "\u001b[1;31mPlease review the code in the cell(s) to identify a possible cause of the failure. \n",
      "\u001b[1;31mClick <a href='https://aka.ms/vscodeJupyterKernelCrash'>here</a> for more info. \n",
      "\u001b[1;31mView Jupyter <a href='command:jupyter.viewOutput'>log</a> for further details."
     ]
    }
   ],
   "source": [
    "fig = plt.figure(figsize=(10, 7))\n",
    "plt.plot(depth_range, train_XG, c='orange', label='Train')\n",
    "plt.plot(depth_range, test_XG, c='m', label='Test')\n",
    "plt.xlabel('Depth')\n",
    "plt.xticks(depth_range)\n",
    "plt.ylabel('Accuracy score')\n",
    "plt.ylim(0, 1)\n",
    "plt.legend(prop={'size': 12}, loc=3)\n",
    "plt.title('Accuracy score vs. Learning rate of XGBoost', size=14)\n",
    "plt.show()"
   ]
  },
  {
   "cell_type": "code",
   "execution_count": null,
   "id": "59d4ee0e",
   "metadata": {},
   "outputs": [],
   "source": [
    "depth_range = np.arange(10, 25, 1)\n",
    "test_XG = [] \n",
    "train_XG = []\n",
    "for dp in depth_range:\n",
    "    xgb_classifier = xgb.XGBClassifier(objective='multi:softmax',\n",
    "    num_class=7,\n",
    "    eval_metric='mlogloss',\n",
    "    max_depth = dp,\n",
    "    min_child_weight = 1,\n",
    "    gamma = 0.01,\n",
    "    eta=.05)\n",
    "    xgb_classifier.fit(X_train, y_train)\n",
    "    train_XG.append(xgb_classifier.score(X_train, y_train))\n",
    "    test_XG.append(xgb_classifier.score(X_test, y_test))"
   ]
  }
 ],
 "metadata": {
  "kernelspec": {
   "display_name": "base",
   "language": "python",
   "name": "python3"
  },
  "language_info": {
   "codemirror_mode": {
    "name": "ipython",
    "version": 3
   },
   "file_extension": ".py",
   "mimetype": "text/x-python",
   "name": "python",
   "nbconvert_exporter": "python",
   "pygments_lexer": "ipython3",
   "version": "3.11.4"
  }
 },
 "nbformat": 4,
 "nbformat_minor": 5
}
