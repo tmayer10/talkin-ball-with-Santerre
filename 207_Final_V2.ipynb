{
 "cells": [
  {
   "cell_type": "code",
   "execution_count": 1,
   "id": "1306b465",
   "metadata": {},
   "outputs": [],
   "source": [
    "import pandas as pd\n",
    "\n",
    "# Path to your CSV file\n",
    "file_path = \"/Users/thomasclaiborne/Downloads/training_data.csv\"\n",
    "\n",
    "chunk_size = 100000  # Number of rows per chunk\n",
    "chunks = pd.read_csv(file_path, chunksize=chunk_size)\n",
    "\n",
    "# Combine chunks into a single DataFrame or process each chunk separately\n",
    "# for chunk in chunks:\n",
    "#     print(chunk.head())  # Display the first few rows of each chunk"
   ]
  },
  {
   "cell_type": "code",
   "execution_count": 2,
   "id": "258ef303",
   "metadata": {},
   "outputs": [
    {
     "name": "stderr",
     "output_type": "stream",
     "text": [
      "/var/folders/4r/yb6kq92n7nv16sy9y4wfcjww0000gp/T/ipykernel_33676/417918597.py:2: DtypeWarning: Columns (27,92,93) have mixed types. Specify dtype option on import or set low_memory=False.\n",
      "  df = pd.concat(chunks)\n",
      "/var/folders/4r/yb6kq92n7nv16sy9y4wfcjww0000gp/T/ipykernel_33676/417918597.py:2: DtypeWarning: Columns (27,92,93) have mixed types. Specify dtype option on import or set low_memory=False.\n",
      "  df = pd.concat(chunks)\n",
      "/var/folders/4r/yb6kq92n7nv16sy9y4wfcjww0000gp/T/ipykernel_33676/417918597.py:2: DtypeWarning: Columns (27,92,93) have mixed types. Specify dtype option on import or set low_memory=False.\n",
      "  df = pd.concat(chunks)\n",
      "/var/folders/4r/yb6kq92n7nv16sy9y4wfcjww0000gp/T/ipykernel_33676/417918597.py:2: DtypeWarning: Columns (27,92,93) have mixed types. Specify dtype option on import or set low_memory=False.\n",
      "  df = pd.concat(chunks)\n",
      "/var/folders/4r/yb6kq92n7nv16sy9y4wfcjww0000gp/T/ipykernel_33676/417918597.py:2: DtypeWarning: Columns (27,92,93) have mixed types. Specify dtype option on import or set low_memory=False.\n",
      "  df = pd.concat(chunks)\n",
      "/var/folders/4r/yb6kq92n7nv16sy9y4wfcjww0000gp/T/ipykernel_33676/417918597.py:2: DtypeWarning: Columns (27,92,93) have mixed types. Specify dtype option on import or set low_memory=False.\n",
      "  df = pd.concat(chunks)\n",
      "/var/folders/4r/yb6kq92n7nv16sy9y4wfcjww0000gp/T/ipykernel_33676/417918597.py:2: DtypeWarning: Columns (27,92,93) have mixed types. Specify dtype option on import or set low_memory=False.\n",
      "  df = pd.concat(chunks)\n",
      "/var/folders/4r/yb6kq92n7nv16sy9y4wfcjww0000gp/T/ipykernel_33676/417918597.py:2: DtypeWarning: Columns (27,92,93) have mixed types. Specify dtype option on import or set low_memory=False.\n",
      "  df = pd.concat(chunks)\n",
      "/var/folders/4r/yb6kq92n7nv16sy9y4wfcjww0000gp/T/ipykernel_33676/417918597.py:2: DtypeWarning: Columns (27,92,93) have mixed types. Specify dtype option on import or set low_memory=False.\n",
      "  df = pd.concat(chunks)\n",
      "/var/folders/4r/yb6kq92n7nv16sy9y4wfcjww0000gp/T/ipykernel_33676/417918597.py:2: DtypeWarning: Columns (27,92,93) have mixed types. Specify dtype option on import or set low_memory=False.\n",
      "  df = pd.concat(chunks)\n",
      "/var/folders/4r/yb6kq92n7nv16sy9y4wfcjww0000gp/T/ipykernel_33676/417918597.py:2: DtypeWarning: Columns (27,92,93) have mixed types. Specify dtype option on import or set low_memory=False.\n",
      "  df = pd.concat(chunks)\n"
     ]
    }
   ],
   "source": [
    "# Combine all chunks into a single DataFrame\n",
    "df = pd.concat(chunks)\n",
    "\n",
    "# Now `df` is your full dataset loaded into a single DataFrame\n",
    "#print(df.info())  # Summary of the dataset"
   ]
  },
  {
   "cell_type": "code",
   "execution_count": 11,
   "id": "48a688c1",
   "metadata": {},
   "outputs": [
    {
     "name": "stdout",
     "output_type": "stream",
     "text": [
      "True\n",
      "   PitchNo        Date         Time  PAofInning  PitchofPA    Pitcher  \\\n",
      "0        1  2024-03-02  13:32:53.75         1.0        1.0  Quinn, JT   \n",
      "1        2  2024-03-02  13:33:10.55         1.0        2.0  Quinn, JT   \n",
      "2        3  2024-03-02  13:33:23.01         1.0        3.0  Quinn, JT   \n",
      "3        4  2024-03-02  13:33:44.31         1.0        4.0  Quinn, JT   \n",
      "4        5  2024-03-02  13:34:08.96         1.0        5.0  Quinn, JT   \n",
      "\n",
      "      PitcherId PitcherThrows PitcherTeam       Batter  ...  \\\n",
      "0  1.000234e+09         Right     OLE_REB  Wilmes, Ben  ...   \n",
      "1  1.000234e+09         Right     OLE_REB  Wilmes, Ben  ...   \n",
      "2  1.000234e+09         Right     OLE_REB  Wilmes, Ben  ...   \n",
      "3  1.000234e+09         Right     OLE_REB  Wilmes, Ben  ...   \n",
      "4  1.000234e+09         Right     OLE_REB  Wilmes, Ben  ...   \n",
      "\n",
      "   ThrowTrajectoryZc1 ThrowTrajectoryZc2 PitchReleaseConfidence  \\\n",
      "0                 NaN                NaN                   High   \n",
      "1                 NaN                NaN                   High   \n",
      "2                 NaN                NaN                   High   \n",
      "3                 NaN                NaN                   High   \n",
      "4                 NaN                NaN                   High   \n",
      "\n",
      "  PitchLocationConfidence  PitchMovementConfidence HitLaunchConfidence  \\\n",
      "0                    High                     High                 NaN   \n",
      "1                    High                     High                 NaN   \n",
      "2                    High                     High              Medium   \n",
      "3                    High                     High                High   \n",
      "4                    High                     High                 NaN   \n",
      "\n",
      "   HitLandingConfidence  CatcherThrowCatchConfidence  \\\n",
      "0                   NaN                          NaN   \n",
      "1                   NaN                          NaN   \n",
      "2                   Low                          NaN   \n",
      "3                   Low                          NaN   \n",
      "4                   NaN                          NaN   \n",
      "\n",
      "   CatcherThrowReleaseConfidence CatcherThrowLocationConfidence  \n",
      "0                            NaN                            NaN  \n",
      "1                            NaN                            NaN  \n",
      "2                            NaN                            NaN  \n",
      "3                            NaN                            NaN  \n",
      "4                            NaN                            NaN  \n",
      "\n",
      "[5 rows x 167 columns]\n"
     ]
    }
   ],
   "source": [
    "import os\n",
    "print(os.path.exists(file_path))  # Should print True if the file exists\n",
    "test_df = pd.read_csv(file_path, nrows=10)\n",
    "print(test_df.head())"
   ]
  },
  {
   "cell_type": "code",
   "execution_count": 13,
   "id": "ef562a9a",
   "metadata": {},
   "outputs": [
    {
     "name": "stderr",
     "output_type": "stream",
     "text": [
      "/var/folders/4r/yb6kq92n7nv16sy9y4wfcjww0000gp/T/ipykernel_12356/2044432792.py:2: DtypeWarning: Columns (27,92,93) have mixed types. Specify dtype option on import or set low_memory=False.\n",
      "  df = pd.concat(chunks, ignore_index=True)  # Combine into a single DataFrame\n",
      "/var/folders/4r/yb6kq92n7nv16sy9y4wfcjww0000gp/T/ipykernel_12356/2044432792.py:2: DtypeWarning: Columns (27,92,93) have mixed types. Specify dtype option on import or set low_memory=False.\n",
      "  df = pd.concat(chunks, ignore_index=True)  # Combine into a single DataFrame\n",
      "/var/folders/4r/yb6kq92n7nv16sy9y4wfcjww0000gp/T/ipykernel_12356/2044432792.py:2: DtypeWarning: Columns (27,92,93) have mixed types. Specify dtype option on import or set low_memory=False.\n",
      "  df = pd.concat(chunks, ignore_index=True)  # Combine into a single DataFrame\n",
      "/var/folders/4r/yb6kq92n7nv16sy9y4wfcjww0000gp/T/ipykernel_12356/2044432792.py:2: DtypeWarning: Columns (27,92,93) have mixed types. Specify dtype option on import or set low_memory=False.\n",
      "  df = pd.concat(chunks, ignore_index=True)  # Combine into a single DataFrame\n",
      "/var/folders/4r/yb6kq92n7nv16sy9y4wfcjww0000gp/T/ipykernel_12356/2044432792.py:2: DtypeWarning: Columns (27,92,93) have mixed types. Specify dtype option on import or set low_memory=False.\n",
      "  df = pd.concat(chunks, ignore_index=True)  # Combine into a single DataFrame\n",
      "/var/folders/4r/yb6kq92n7nv16sy9y4wfcjww0000gp/T/ipykernel_12356/2044432792.py:2: DtypeWarning: Columns (27,92,93) have mixed types. Specify dtype option on import or set low_memory=False.\n",
      "  df = pd.concat(chunks, ignore_index=True)  # Combine into a single DataFrame\n",
      "/var/folders/4r/yb6kq92n7nv16sy9y4wfcjww0000gp/T/ipykernel_12356/2044432792.py:2: DtypeWarning: Columns (27,92,93) have mixed types. Specify dtype option on import or set low_memory=False.\n",
      "  df = pd.concat(chunks, ignore_index=True)  # Combine into a single DataFrame\n",
      "/var/folders/4r/yb6kq92n7nv16sy9y4wfcjww0000gp/T/ipykernel_12356/2044432792.py:2: DtypeWarning: Columns (27,92,93) have mixed types. Specify dtype option on import or set low_memory=False.\n",
      "  df = pd.concat(chunks, ignore_index=True)  # Combine into a single DataFrame\n",
      "/var/folders/4r/yb6kq92n7nv16sy9y4wfcjww0000gp/T/ipykernel_12356/2044432792.py:2: DtypeWarning: Columns (27,92,93) have mixed types. Specify dtype option on import or set low_memory=False.\n",
      "  df = pd.concat(chunks, ignore_index=True)  # Combine into a single DataFrame\n",
      "/var/folders/4r/yb6kq92n7nv16sy9y4wfcjww0000gp/T/ipykernel_12356/2044432792.py:2: DtypeWarning: Columns (27,92,93) have mixed types. Specify dtype option on import or set low_memory=False.\n",
      "  df = pd.concat(chunks, ignore_index=True)  # Combine into a single DataFrame\n",
      "/var/folders/4r/yb6kq92n7nv16sy9y4wfcjww0000gp/T/ipykernel_12356/2044432792.py:2: DtypeWarning: Columns (27,92,93) have mixed types. Specify dtype option on import or set low_memory=False.\n",
      "  df = pd.concat(chunks, ignore_index=True)  # Combine into a single DataFrame\n"
     ]
    },
    {
     "name": "stdout",
     "output_type": "stream",
     "text": [
      "<class 'pandas.core.frame.DataFrame'>\n",
      "RangeIndex: 1068473 entries, 0 to 1068472\n",
      "Columns: 167 entries, PitchNo to CatcherThrowLocationConfidence\n",
      "dtypes: float64(113), int64(7), object(47)\n",
      "memory usage: 1.3+ GB\n",
      "None\n"
     ]
    }
   ],
   "source": [
    "chunks = pd.read_csv(file_path, chunksize=chunk_size)  # Create a new generator\n",
    "df = pd.concat(chunks, ignore_index=True)  # Combine into a single DataFrame\n",
    "print(df.info())\n"
   ]
  },
  {
   "cell_type": "code",
   "execution_count": 4,
   "id": "7a4a8566",
   "metadata": {},
   "outputs": [
    {
     "name": "stdout",
     "output_type": "stream",
     "text": [
      "Original DataFrame shape: (1068473, 167)\n",
      "New DataFrame shape: (1068473, 23)\n",
      "\n",
      "New DataFrame info:\n",
      "<class 'pandas.core.frame.DataFrame'>\n",
      "RangeIndex: 1068473 entries, 0 to 1068472\n",
      "Data columns (total 23 columns):\n",
      " #   Column            Non-Null Count    Dtype  \n",
      "---  ------            --------------    -----  \n",
      " 0   TaggedPitchType   1068473 non-null  object \n",
      " 1   AutoPitchType     1053452 non-null  object \n",
      " 2   PitchCall         1068473 non-null  object \n",
      " 3   KorBB             1068473 non-null  object \n",
      " 4   TaggedHitType     1068473 non-null  object \n",
      " 5   PlayResult        1068473 non-null  object \n",
      " 6   RunsScored        1068473 non-null  int64  \n",
      " 7   RelSpeed          1060584 non-null  float64\n",
      " 8   VertRelAngle      1060584 non-null  float64\n",
      " 9   HorzRelAngle      1060584 non-null  float64\n",
      " 10  SpinRate          1060067 non-null  float64\n",
      " 11  SpinAxis          1053452 non-null  float64\n",
      " 12  Tilt              1053452 non-null  object \n",
      " 13  RelHeight         1060584 non-null  float64\n",
      " 14  RelSide           1060584 non-null  float64\n",
      " 15  Extension         1060243 non-null  float64\n",
      " 16  InducedVertBreak  1053452 non-null  float64\n",
      " 17  HorzBreak         1053452 non-null  float64\n",
      " 18  VertApprAngle     1060584 non-null  float64\n",
      " 19  HorzApprAngle     1060584 non-null  float64\n",
      " 20  PlateLocHeight    1060584 non-null  float64\n",
      " 21  PlateLocSide      1060584 non-null  float64\n",
      " 22  ExitSpeed         271979 non-null   float64\n",
      "dtypes: float64(15), int64(1), object(7)\n",
      "memory usage: 187.5+ MB\n",
      "None\n"
     ]
    }
   ],
   "source": [
    "# Define required columns\n",
    "required_columns = ['TaggedPitchType', 'AutoPitchType', 'PitchCall', 'KorBB', 'TaggedHitType',\n",
    "                    'PlayResult', 'RunsScored', 'RelSpeed', 'VertRelAngle', 'HorzRelAngle',\n",
    "                    'SpinRate', 'SpinAxis', 'Tilt', 'RelHeight', 'RelSide', 'Extension','InducedVertBreak',\n",
    "                    'HorzBreak', 'VertApprAngle', 'HorzApprAngle','PlateLocHeight','PlateLocSide',\n",
    "                    'ExitSpeed']\n",
    "\n",
    "# Create new dataframe with only required columns\n",
    "df_relevant = df[required_columns]\n",
    "\n",
    "# Print info about the new dataframe\n",
    "print(f\"Original DataFrame shape: {df.shape}\")\n",
    "print(f\"New DataFrame shape: {df_relevant.shape}\")\n",
    "print(\"\\nNew DataFrame info:\")\n",
    "print(df_relevant.info())\n"
   ]
  },
  {
   "cell_type": "code",
   "execution_count": 10,
   "id": "78968d25",
   "metadata": {},
   "outputs": [
    {
     "name": "stdout",
     "output_type": "stream",
     "text": [
      "\n",
      "Unique values in PlayResult:\n",
      "['Undefined' 'Single' 'Out' 'HomeRun' 'Double' 'Error' 'Sacrifice'\n",
      " 'FieldersChoice' 'Triple' 'StolenBase' 'CaughtStealing' 'error']\n",
      "\n",
      "Unique values in PitchCall:\n",
      "['BallCalled' 'StrikeCalled' 'FoulBallNotFieldable' 'StrikeSwinging'\n",
      " 'InPlay' 'HitByPitch' 'FoulBallFieldable' 'FoulBall' 'BallinDirt'\n",
      " 'Undefined' 'BallIntentional' 'StrkeSwinging ']\n"
     ]
    }
   ],
   "source": [
    "# Look at unique values in PlayResult and PitchCall columns\n",
    "print(\"\\nUnique values in PlayResult:\")\n",
    "print(df_relevant['PlayResult'].unique())\n",
    "\n",
    "print(\"\\nUnique values in PitchCall:\")\n",
    "print(df_relevant['PitchCall'].unique())\n"
   ]
  },
  {
   "cell_type": "code",
   "execution_count": 8,
   "id": "33273260",
   "metadata": {},
   "outputs": [
    {
     "name": "stderr",
     "output_type": "stream",
     "text": [
      "/var/folders/4r/yb6kq92n7nv16sy9y4wfcjww0000gp/T/ipykernel_33676/4039161935.py:29: SettingWithCopyWarning: \n",
      "A value is trying to be set on a copy of a slice from a DataFrame.\n",
      "Try using .loc[row_indexer,col_indexer] = value instead\n",
      "\n",
      "See the caveats in the documentation: https://pandas.pydata.org/pandas-docs/stable/user_guide/indexing.html#returning-a-view-versus-a-copy\n",
      "  df_relevant['PitchResult'] = df_relevant.apply(calculate_pitch_result, axis=1)\n"
     ]
    }
   ],
   "source": [
    "import numpy as np\n",
    "def calculate_pitch_result(row):\n",
    "    if pd.notna(row['PlayResult']):\n",
    "        if row['PlayResult'] == 'Single':\n",
    "            return 'Single'\n",
    "        elif row['PlayResult'] == 'Double':\n",
    "            return 'Double'\n",
    "        elif row['PlayResult'] == 'Triple':\n",
    "            return 'Triple'\n",
    "        elif row['PlayResult'] == 'HomeRun':\n",
    "            return 'HomeRun'\n",
    "        elif row['PlayResult'] == 'Undefined':  # Fixed capitalization\n",
    "            if pd.notna(row['PitchCall']):\n",
    "                if row['PitchCall'] == 'BallCalled':\n",
    "                    return 'Ball'\n",
    "                elif row['PitchCall'] == 'FoulBallNotFieldable':\n",
    "                    return 'FoulBall'\n",
    "                elif row['PitchCall'] == 'FoulBallFieldable':\n",
    "                    return 'FoulBall'\n",
    "                elif row['PitchCall'] == 'FoulBall':\n",
    "                    return 'FoulBall'\n",
    "                elif row['PitchCall'] == 'StrikeSwinging':\n",
    "                    return 'Strike'\n",
    "                elif row['PitchCall'] == 'StrikeCalled':\n",
    "                    return 'Strike'\n",
    "    return np.nan  # Return np.nan for any unaccounted combinations\n",
    "\n",
    "# Apply the updated function\n",
    "df_relevant['PitchResult'] = df_relevant.apply(calculate_pitch_result, axis=1)\n"
   ]
  },
  {
   "cell_type": "code",
   "execution_count": 9,
   "id": "1c4b0f8b",
   "metadata": {},
   "outputs": [
    {
     "name": "stdout",
     "output_type": "stream",
     "text": [
      "Original shape: (1068473, 24)\n",
      "Shape after removing NaN PitchResult: (922496, 24)\n"
     ]
    }
   ],
   "source": [
    "# Remove rows where PitchScore is NaN\n",
    "df_relevant_clean = df_relevant.dropna(subset=['PitchResult'])\n",
    "\n",
    "# Print shape before and after to see how many rows were removed\n",
    "print(f\"Original shape: {df_relevant.shape}\")\n",
    "print(f\"Shape after removing NaN PitchResult: {df_relevant_clean.shape}\")\n"
   ]
  },
  {
   "cell_type": "code",
   "execution_count": 13,
   "id": "ce0a4c9b",
   "metadata": {},
   "outputs": [
    {
     "name": "stdout",
     "output_type": "stream",
     "text": [
      "\n",
      "Numerical columns:\n",
      "['RunsScored', 'RelSpeed', 'VertRelAngle', 'HorzRelAngle', 'SpinRate', 'SpinAxis', 'RelHeight', 'RelSide', 'Extension', 'InducedVertBreak', 'HorzBreak', 'VertApprAngle', 'HorzApprAngle', 'PlateLocHeight', 'PlateLocSide', 'ExitSpeed']\n",
      "\n",
      "Non-numerical columns:\n",
      "['TaggedPitchType', 'AutoPitchType', 'PitchCall', 'KorBB', 'TaggedHitType', 'PlayResult', 'Tilt', 'PitchResult']\n"
     ]
    }
   ],
   "source": [
    "# Get lists of numerical and non-numerical columns\n",
    "numerical_columns = df_relevant_clean.select_dtypes(include=['int64', 'float64']).columns\n",
    "non_numerical_columns = df_relevant_clean.select_dtypes(exclude=['int64', 'float64']).columns\n",
    "\n",
    "print(\"\\nNumerical columns:\")\n",
    "print(numerical_columns.tolist())\n",
    "\n",
    "print(\"\\nNon-numerical columns:\")\n",
    "print(non_numerical_columns.tolist())\n"
   ]
  },
  {
   "cell_type": "code",
   "execution_count": 16,
   "id": "31e67c09",
   "metadata": {},
   "outputs": [
    {
     "name": "stdout",
     "output_type": "stream",
     "text": [
      "\n",
      "Number of NaN values in numerical columns:\n",
      "RelSpeed              5899\n",
      "VertRelAngle          5899\n",
      "HorzRelAngle          5899\n",
      "SpinRate              6391\n",
      "SpinAxis             11946\n",
      "RelHeight             5899\n",
      "RelSide               5899\n",
      "Extension             6189\n",
      "InducedVertBreak     11946\n",
      "HorzBreak            11946\n",
      "VertApprAngle         5899\n",
      "HorzApprAngle         5899\n",
      "PlateLocHeight        5899\n",
      "PlateLocSide          5899\n",
      "ExitSpeed           756338\n",
      "dtype: int64\n",
      "\n",
      "Original shape: (922496, 24)\n",
      "Shape after removing NaN values (except ExitSpeed): (909839, 24)\n"
     ]
    }
   ],
   "source": [
    "# Calculate and display number of NaN values in numerical columns\n",
    "nan_counts = df_relevant_clean[numerical_columns].isna().sum()\n",
    "print(\"\\nNumber of NaN values in numerical columns:\")\n",
    "print(nan_counts[nan_counts > 0])  # Only show columns that have NaN values\n",
    "\n",
    "# Create a new dataset dropping NaN values except for ExitSpeed\n",
    "columns_to_check = [col for col in numerical_columns if col != 'ExitSpeed']\n",
    "df_relevant_no_nans = df_relevant_clean.dropna(subset=columns_to_check)\n",
    "\n",
    "# Print shape before and after to see how many rows were removed\n",
    "print(f\"\\nOriginal shape: {df_relevant_clean.shape}\")\n",
    "print(f\"Shape after removing NaN values (except ExitSpeed): {df_relevant_no_nans.shape}\")\n",
    "\n"
   ]
  },
  {
   "cell_type": "code",
   "execution_count": 20,
   "id": "9e863ea4",
   "metadata": {},
   "outputs": [],
   "source": [
    "# Import necessary libraries\n",
    "from sklearn.ensemble import RandomForestClassifier\n",
    "from sklearn.model_selection import train_test_split\n",
    "from sklearn.metrics import classification_report, confusion_matrix\n",
    "import numpy as np\n",
    "\n",
    "# Get numerical columns except ExitSpeed\n",
    "numerical_features = df_relevant_clean.select_dtypes(include=['int64', 'float64']).columns.tolist()\n",
    "numerical_features.remove('ExitSpeed')\n",
    "numerical_features.remove('RunsScored')\n",
    "\n",
    "# Prepare features (X) and target (y)\n",
    "X = df_relevant_clean[numerical_features]\n",
    "y = df_relevant_clean['PitchResult']  # Using PitchCall as the target\n",
    "\n",
    "# Split the data\n",
    "X_train, X_test, y_train, y_test = train_test_split(X, y, test_size=0.2, random_state=42)\n",
    "\n"
   ]
  },
  {
   "cell_type": "code",
   "execution_count": 21,
   "id": "9640dad1",
   "metadata": {},
   "outputs": [
    {
     "name": "stdout",
     "output_type": "stream",
     "text": [
      "Classification Report:\n",
      "              precision    recall  f1-score   support\n",
      "\n",
      "        Ball       0.93      0.97      0.95     79495\n",
      "      Double       0.98      0.72      0.83      2558\n",
      "    FoulBall       0.90      0.80      0.85     32625\n",
      "     HomeRun       1.00      0.73      0.85      1526\n",
      "      Single       0.99      0.71      0.83      8553\n",
      "      Strike       0.85      0.90      0.88     59481\n",
      "      Triple       0.98      0.71      0.82       262\n",
      "\n",
      "    accuracy                           0.90    184500\n",
      "   macro avg       0.95      0.79      0.86    184500\n",
      "weighted avg       0.90      0.90      0.90    184500\n",
      "\n",
      "\n",
      "Feature Importance:\n",
      "             feature  importance\n",
      "13      PlateLocSide    0.173021\n",
      "12    PlateLocHeight    0.160260\n",
      "10     VertApprAngle    0.068707\n",
      "1       VertRelAngle    0.065082\n",
      "2       HorzRelAngle    0.057597\n",
      "11     HorzApprAngle    0.056124\n",
      "6            RelSide    0.054999\n",
      "5          RelHeight    0.054677\n",
      "0           RelSpeed    0.052815\n",
      "8   InducedVertBreak    0.052583\n",
      "7          Extension    0.052131\n",
      "3           SpinRate    0.052012\n",
      "9          HorzBreak    0.050353\n",
      "4           SpinAxis    0.049640\n"
     ]
    }
   ],
   "source": [
    "# Initialize and train the model\n",
    "rf_model = RandomForestClassifier(n_estimators=100, random_state=42, n_jobs=-1)\n",
    "rf_model.fit(X_train, y_train)\n",
    "\n",
    "# Make predictions\n",
    "y_pred = rf_model.predict(X_test)\n",
    "\n",
    "# Print model performance\n",
    "print(\"Classification Report:\")\n",
    "print(classification_report(y_test, y_pred))\n",
    "\n",
    "# Print feature importance\n",
    "feature_importance = pd.DataFrame({\n",
    "    'feature': numerical_features,\n",
    "    'importance': rf_model.feature_importances_\n",
    "})\n",
    "print(\"\\nFeature Importance:\")\n",
    "print(feature_importance.sort_values('importance', ascending=False))"
   ]
  },
  {
   "cell_type": "code",
   "execution_count": 33,
   "id": "c0369428",
   "metadata": {},
   "outputs": [
    {
     "name": "stdout",
     "output_type": "stream",
     "text": [
      "Defaulting to user installation because normal site-packages is not writeable\n",
      "Collecting lightgbm\n",
      "  Downloading lightgbm-4.5.0-py3-none-macosx_12_0_arm64.whl (1.6 MB)\n",
      "\u001b[K     |████████████████████████████████| 1.6 MB 5.1 MB/s eta 0:00:01\n",
      "\u001b[?25hRequirement already satisfied: numpy>=1.17.0 in /Users/thomasclaiborne/Library/Python/3.9/lib/python/site-packages (from lightgbm) (2.0.2)\n",
      "Requirement already satisfied: scipy in /Users/thomasclaiborne/Library/Python/3.9/lib/python/site-packages (from lightgbm) (1.13.1)\n",
      "Installing collected packages: lightgbm\n",
      "Successfully installed lightgbm-4.5.0\n",
      "\u001b[33mWARNING: You are using pip version 21.2.4; however, version 24.3.1 is available.\n",
      "You should consider upgrading via the '/Library/Developer/CommandLineTools/usr/bin/python3 -m pip install --upgrade pip' command.\u001b[0m\n",
      "Note: you may need to restart the kernel to use updated packages.\n"
     ]
    }
   ],
   "source": [
    "%pip install lightgbm\n",
    "\n"
   ]
  },
  {
   "cell_type": "code",
   "execution_count": 34,
   "id": "a28a25f7",
   "metadata": {},
   "outputs": [
    {
     "ename": "OSError",
     "evalue": "dlopen(/Users/thomasclaiborne/Library/Python/3.9/lib/python/site-packages/lightgbm/lib/lib_lightgbm.dylib, 0x0006): Library not loaded: @rpath/libomp.dylib\n  Referenced from: <D3923ACB-D836-32D3-A031-CF91999FDAFC> /Users/thomasclaiborne/Library/Python/3.9/lib/python/site-packages/lightgbm/lib/lib_lightgbm.dylib\n  Reason: tried: '/opt/homebrew/opt/libomp/lib/libomp.dylib' (no such file), '/System/Volumes/Preboot/Cryptexes/OS/opt/homebrew/opt/libomp/lib/libomp.dylib' (no such file), '/opt/local/lib/libomp/libomp.dylib' (no such file), '/System/Volumes/Preboot/Cryptexes/OS/opt/local/lib/libomp/libomp.dylib' (no such file), '/opt/homebrew/opt/libomp/lib/libomp.dylib' (no such file), '/System/Volumes/Preboot/Cryptexes/OS/opt/homebrew/opt/libomp/lib/libomp.dylib' (no such file), '/opt/local/lib/libomp/libomp.dylib' (no such file), '/System/Volumes/Preboot/Cryptexes/OS/opt/local/lib/libomp/libomp.dylib' (no such file)",
     "output_type": "error",
     "traceback": [
      "\u001b[0;31m---------------------------------------------------------------------------\u001b[0m",
      "\u001b[0;31mOSError\u001b[0m                                   Traceback (most recent call last)",
      "Cell \u001b[0;32mIn[34], line 1\u001b[0m\n\u001b[0;32m----> 1\u001b[0m \u001b[38;5;28;01mfrom\u001b[39;00m \u001b[38;5;21;01mlightgbm\u001b[39;00m \u001b[38;5;28;01mimport\u001b[39;00m LGBMClassifier\n\u001b[1;32m      3\u001b[0m lgb_model \u001b[38;5;241m=\u001b[39m LGBMClassifier(\n\u001b[1;32m      4\u001b[0m     n_estimators\u001b[38;5;241m=\u001b[39m\u001b[38;5;241m100\u001b[39m,\n\u001b[1;32m      5\u001b[0m     learning_rate\u001b[38;5;241m=\u001b[39m\u001b[38;5;241m0.1\u001b[39m,\n\u001b[1;32m      6\u001b[0m     random_state\u001b[38;5;241m=\u001b[39m\u001b[38;5;241m42\u001b[39m,\n\u001b[1;32m      7\u001b[0m     n_jobs\u001b[38;5;241m=\u001b[39m\u001b[38;5;241m-\u001b[39m\u001b[38;5;241m1\u001b[39m\n\u001b[1;32m      8\u001b[0m )\n\u001b[1;32m     10\u001b[0m lgb_model\u001b[38;5;241m.\u001b[39mfit(X_train, y_train)\n",
      "File \u001b[0;32m~/Library/Python/3.9/lib/python/site-packages/lightgbm/__init__.py:9\u001b[0m\n\u001b[1;32m      2\u001b[0m \u001b[38;5;124;03m\"\"\"LightGBM, Light Gradient Boosting Machine.\u001b[39;00m\n\u001b[1;32m      3\u001b[0m \n\u001b[1;32m      4\u001b[0m \u001b[38;5;124;03mContributors: https://github.com/microsoft/LightGBM/graphs/contributors.\u001b[39;00m\n\u001b[1;32m      5\u001b[0m \u001b[38;5;124;03m\"\"\"\u001b[39;00m\n\u001b[1;32m      7\u001b[0m \u001b[38;5;28;01mfrom\u001b[39;00m \u001b[38;5;21;01mpathlib\u001b[39;00m \u001b[38;5;28;01mimport\u001b[39;00m Path\n\u001b[0;32m----> 9\u001b[0m \u001b[38;5;28;01mfrom\u001b[39;00m \u001b[38;5;21;01m.\u001b[39;00m\u001b[38;5;21;01mbasic\u001b[39;00m \u001b[38;5;28;01mimport\u001b[39;00m Booster, Dataset, Sequence, register_logger\n\u001b[1;32m     10\u001b[0m \u001b[38;5;28;01mfrom\u001b[39;00m \u001b[38;5;21;01m.\u001b[39;00m\u001b[38;5;21;01mcallback\u001b[39;00m \u001b[38;5;28;01mimport\u001b[39;00m EarlyStopException, early_stopping, log_evaluation, record_evaluation, reset_parameter\n\u001b[1;32m     11\u001b[0m \u001b[38;5;28;01mfrom\u001b[39;00m \u001b[38;5;21;01m.\u001b[39;00m\u001b[38;5;21;01mengine\u001b[39;00m \u001b[38;5;28;01mimport\u001b[39;00m CVBooster, cv, train\n",
      "File \u001b[0;32m~/Library/Python/3.9/lib/python/site-packages/lightgbm/basic.py:281\u001b[0m\n\u001b[1;32m    279\u001b[0m     _LIB \u001b[38;5;241m=\u001b[39m Mock(ctypes\u001b[38;5;241m.\u001b[39mCDLL)  \u001b[38;5;66;03m# type: ignore\u001b[39;00m\n\u001b[1;32m    280\u001b[0m \u001b[38;5;28;01melse\u001b[39;00m:\n\u001b[0;32m--> 281\u001b[0m     _LIB \u001b[38;5;241m=\u001b[39m \u001b[43m_load_lib\u001b[49m\u001b[43m(\u001b[49m\u001b[43m)\u001b[49m\n\u001b[1;32m    284\u001b[0m _NUMERIC_TYPES \u001b[38;5;241m=\u001b[39m (\u001b[38;5;28mint\u001b[39m, \u001b[38;5;28mfloat\u001b[39m, \u001b[38;5;28mbool\u001b[39m)\n\u001b[1;32m    287\u001b[0m \u001b[38;5;28;01mdef\u001b[39;00m \u001b[38;5;21m_safe_call\u001b[39m(ret: \u001b[38;5;28mint\u001b[39m) \u001b[38;5;241m-\u001b[39m\u001b[38;5;241m>\u001b[39m \u001b[38;5;28;01mNone\u001b[39;00m:\n",
      "File \u001b[0;32m~/Library/Python/3.9/lib/python/site-packages/lightgbm/basic.py:265\u001b[0m, in \u001b[0;36m_load_lib\u001b[0;34m()\u001b[0m\n\u001b[1;32m    263\u001b[0m \u001b[38;5;250m\u001b[39m\u001b[38;5;124;03m\"\"\"Load LightGBM library.\"\"\"\u001b[39;00m\n\u001b[1;32m    264\u001b[0m lib_path \u001b[38;5;241m=\u001b[39m find_lib_path()\n\u001b[0;32m--> 265\u001b[0m lib \u001b[38;5;241m=\u001b[39m \u001b[43mctypes\u001b[49m\u001b[38;5;241;43m.\u001b[39;49m\u001b[43mcdll\u001b[49m\u001b[38;5;241;43m.\u001b[39;49m\u001b[43mLoadLibrary\u001b[49m\u001b[43m(\u001b[49m\u001b[43mlib_path\u001b[49m\u001b[43m[\u001b[49m\u001b[38;5;241;43m0\u001b[39;49m\u001b[43m]\u001b[49m\u001b[43m)\u001b[49m\n\u001b[1;32m    266\u001b[0m lib\u001b[38;5;241m.\u001b[39mLGBM_GetLastError\u001b[38;5;241m.\u001b[39mrestype \u001b[38;5;241m=\u001b[39m ctypes\u001b[38;5;241m.\u001b[39mc_char_p\n\u001b[1;32m    267\u001b[0m callback \u001b[38;5;241m=\u001b[39m ctypes\u001b[38;5;241m.\u001b[39mCFUNCTYPE(\u001b[38;5;28;01mNone\u001b[39;00m, ctypes\u001b[38;5;241m.\u001b[39mc_char_p)\n",
      "File \u001b[0;32m/Library/Developer/CommandLineTools/Library/Frameworks/Python3.framework/Versions/3.9/lib/python3.9/ctypes/__init__.py:444\u001b[0m, in \u001b[0;36mLibraryLoader.LoadLibrary\u001b[0;34m(self, name)\u001b[0m\n\u001b[1;32m    443\u001b[0m \u001b[38;5;28;01mdef\u001b[39;00m \u001b[38;5;21mLoadLibrary\u001b[39m(\u001b[38;5;28mself\u001b[39m, name):\n\u001b[0;32m--> 444\u001b[0m     \u001b[38;5;28;01mreturn\u001b[39;00m \u001b[38;5;28;43mself\u001b[39;49m\u001b[38;5;241;43m.\u001b[39;49m\u001b[43m_dlltype\u001b[49m\u001b[43m(\u001b[49m\u001b[43mname\u001b[49m\u001b[43m)\u001b[49m\n",
      "File \u001b[0;32m/Library/Developer/CommandLineTools/Library/Frameworks/Python3.framework/Versions/3.9/lib/python3.9/ctypes/__init__.py:366\u001b[0m, in \u001b[0;36mCDLL.__init__\u001b[0;34m(self, name, mode, handle, use_errno, use_last_error, winmode)\u001b[0m\n\u001b[1;32m    363\u001b[0m \u001b[38;5;28mself\u001b[39m\u001b[38;5;241m.\u001b[39m_FuncPtr \u001b[38;5;241m=\u001b[39m _FuncPtr\n\u001b[1;32m    365\u001b[0m \u001b[38;5;28;01mif\u001b[39;00m handle \u001b[38;5;129;01mis\u001b[39;00m \u001b[38;5;28;01mNone\u001b[39;00m:\n\u001b[0;32m--> 366\u001b[0m     \u001b[38;5;28mself\u001b[39m\u001b[38;5;241m.\u001b[39m_handle \u001b[38;5;241m=\u001b[39m \u001b[43m_dlopen\u001b[49m\u001b[43m(\u001b[49m\u001b[38;5;28;43mself\u001b[39;49m\u001b[38;5;241;43m.\u001b[39;49m\u001b[43m_name\u001b[49m\u001b[43m,\u001b[49m\u001b[43m \u001b[49m\u001b[43mmode\u001b[49m\u001b[43m)\u001b[49m\n\u001b[1;32m    367\u001b[0m \u001b[38;5;28;01melse\u001b[39;00m:\n\u001b[1;32m    368\u001b[0m     \u001b[38;5;28mself\u001b[39m\u001b[38;5;241m.\u001b[39m_handle \u001b[38;5;241m=\u001b[39m handle\n",
      "\u001b[0;31mOSError\u001b[0m: dlopen(/Users/thomasclaiborne/Library/Python/3.9/lib/python/site-packages/lightgbm/lib/lib_lightgbm.dylib, 0x0006): Library not loaded: @rpath/libomp.dylib\n  Referenced from: <D3923ACB-D836-32D3-A031-CF91999FDAFC> /Users/thomasclaiborne/Library/Python/3.9/lib/python/site-packages/lightgbm/lib/lib_lightgbm.dylib\n  Reason: tried: '/opt/homebrew/opt/libomp/lib/libomp.dylib' (no such file), '/System/Volumes/Preboot/Cryptexes/OS/opt/homebrew/opt/libomp/lib/libomp.dylib' (no such file), '/opt/local/lib/libomp/libomp.dylib' (no such file), '/System/Volumes/Preboot/Cryptexes/OS/opt/local/lib/libomp/libomp.dylib' (no such file), '/opt/homebrew/opt/libomp/lib/libomp.dylib' (no such file), '/System/Volumes/Preboot/Cryptexes/OS/opt/homebrew/opt/libomp/lib/libomp.dylib' (no such file), '/opt/local/lib/libomp/libomp.dylib' (no such file), '/System/Volumes/Preboot/Cryptexes/OS/opt/local/lib/libomp/libomp.dylib' (no such file)"
     ]
    }
   ],
   "source": [
    "from lightgbm import LGBMClassifier\n",
    "\n",
    "lgb_model = LGBMClassifier(\n",
    "    n_estimators=100,\n",
    "    learning_rate=0.1,\n",
    "    random_state=42,\n",
    "    n_jobs=-1\n",
    ")\n",
    "\n",
    "lgb_model.fit(X_train, y_train)\n",
    "y_pred = lgb_model.predict(X_test)\n",
    "print(\"LightGBM Classification Report:\")\n",
    "print(classification_report(y_test, y_pred))"
   ]
  },
  {
   "cell_type": "code",
   "execution_count": null,
   "id": "a10a88f1",
   "metadata": {},
   "outputs": [],
   "source": []
  }
 ],
 "metadata": {
  "kernelspec": {
   "display_name": "Python 3 (ipykernel)",
   "language": "python",
   "name": "python3"
  },
  "language_info": {
   "codemirror_mode": {
    "name": "ipython",
    "version": 3
   },
   "file_extension": ".py",
   "mimetype": "text/x-python",
   "name": "python",
   "nbconvert_exporter": "python",
   "pygments_lexer": "ipython3",
   "version": "3.9.6"
  }
 },
 "nbformat": 4,
 "nbformat_minor": 5
}
