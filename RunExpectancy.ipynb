{
 "cells": [
  {
   "cell_type": "markdown",
   "metadata": {},
   "source": [
    "# First Baseline Model - Random Forest"
   ]
  },
  {
   "cell_type": "markdown",
   "metadata": {},
   "source": [
    "#### ``Objectives``\n",
    "1. Implement a Baseline MOdels for run value prediction PRE BATTED-BALL\n",
    "2. Turn to a Random Forest for the another baseline model\n",
    "\n",
    "**TO DO:**\n",
    "- add count\n",
    "- add times faced\n"
   ]
  },
  {
   "cell_type": "markdown",
   "metadata": {},
   "source": [
    "### Import Libraries"
   ]
  },
  {
   "cell_type": "code",
   "execution_count": 5,
   "metadata": {},
   "outputs": [],
   "source": [
    "import pandas as pd\n",
    "import numpy as np\n",
    "import matplotlib.pyplot as plt\n",
    "import seaborn as sns\n",
    "\n",
    "# decision tree\n",
    "import sklearn\n",
    "from sklearn.model_selection import train_test_split\n",
    "from sklearn.preprocessing import StandardScaler, LabelEncoder\n",
    "from sklearn.linear_model import LogisticRegression\n",
    "from sklearn.metrics import accuracy_score, confusion_matrix, classification_report\n",
    "from sklearn.ensemble import RandomForestRegressor\n",
    "\n",
    "\n",
    "# random forest\n",
    "\n",
    "# misc\n",
    "import os\n",
    "import glob\n"
   ]
  },
  {
   "cell_type": "markdown",
   "metadata": {},
   "source": [
    "#### Clear output and stored data:\n",
    "\n"
   ]
  },
  {
   "cell_type": "code",
   "execution_count": 6,
   "metadata": {},
   "outputs": [
    {
     "name": "stdout",
     "output_type": "stream",
     "text": [
      "\u001b[H\u001b[2J"
     ]
    },
    {
     "data": {
      "text/plain": [
       "0"
      ]
     },
     "execution_count": 6,
     "metadata": {},
     "output_type": "execute_result"
    }
   ],
   "source": [
    "os.system('clear') "
   ]
  },
  {
   "cell_type": "markdown",
   "metadata": {},
   "source": [
    "---\n",
    "#### <span style=\"color:chocolate\">  Step 1: Data ingestion </span>"
   ]
  },
  {
   "cell_type": "markdown",
   "metadata": {},
   "source": [
    "I already created the training data in another file:\n",
    " <span style=\"color:gray\">TrackMan data of 2024 spring season</span> function below according to the following guidelines:\n",
    "\n",
    " a) Read all the csv files in the directory and merge them into a single dataframe \\\n",
    " b) Save the dataframe to a csv file"
   ]
  },
  {
   "cell_type": "code",
   "execution_count": 35,
   "metadata": {},
   "outputs": [],
   "source": [
    "# dont need to run this again since already created the training data\n",
    "\n",
    "def load_data(path: str, num_columns=60) -> pd.DataFrame:\n",
    "    \"\"\"\n",
    "    Loads and merges CSV files from the specified directory, excluding files with 'player positioning' in their names.\n",
    "    \n",
    "    Parameters:\n",
    "    path (str): The directory path containing the CSV files.\n",
    "\n",
    "    Returns:\n",
    "    pandas.DataFrame: The merged DataFrame containing data from the selected CSV files.\n",
    "    \"\"\"\n",
    "    try:\n",
    "        # Ensure the directory exists\n",
    "        if not os.path.exists(path):\n",
    "            raise FileNotFoundError(f\"The directory '{path}' does not exist.\")\n",
    "\n",
    "        # Get all files in the directory that end with .csv, excluding those with 'player positioning' in the name\n",
    "        all_files = [\n",
    "            file for file in glob.glob(f\"{path}/*.csv\") if 'player positioning' not in file\n",
    "        ]\n",
    "\n",
    "        # Raise an exception if no valid files are found\n",
    "        if not all_files:\n",
    "            raise ValueError(f\"No valid CSV files found in the directory '{path}'.\")\n",
    "\n",
    "        # Set the indices of the columns to keep\n",
    "        columns_to_keep = list(range(num_columns))  # will set that in the function call but usually 60 will be fine\n",
    "\n",
    "        # Read and merge the filtered files with the specified columns\n",
    "        df_list = [pd.read_csv(filename, usecols=columns_to_keep) for filename in all_files]\n",
    "        merged_df = pd.concat(df_list, ignore_index=True)\n",
    "\n",
    "        # Save the merged DataFrame to a CSV\n",
    "        output_path = \"/Users/tommayer/Desktop/games_test.csv\"\n",
    "        merged_df.to_csv(output_path, index=False)\n",
    "\n",
    "        return merged_df\n",
    "\n",
    "    except FileNotFoundError as fnf_error:\n",
    "        print(f\"Error: {fnf_error}\")\n",
    "    except ValueError as val_error:\n",
    "        print(f\"Error: {val_error}\")\n",
    "    except Exception as e:\n",
    "        print(f\"An unexpected error occurred: {e}\")\n"
   ]
  },
  {
   "cell_type": "markdown",
   "metadata": {},
   "source": [
    "#### NOTE: \n",
    "I don't know if it's smart to load the data and concatenate all rows every time.  I could make it more like appending rows to the dataframe."
   ]
  },
  {
   "cell_type": "code",
   "execution_count": 9,
   "metadata": {},
   "outputs": [],
   "source": [
    "# ONLY COLUMNS with data from pre-batted ball + RunsScored as our target variable\n",
    "required_columns = ['TaggedPitchType', 'AutoPitchType', 'RunsScored', 'RelSpeed', 'RelHeight', 'VertRelAngle',\n",
    "                     'HorzRelAngle','SpinRate', 'SpinAxis', 'Tilt', 'Extension','InducedVertBreak', 'HorzBreak',\n",
    "                       'VertApprAngle', 'HorzApprAngle', 'GameID', 'Inning', 'Top/Bottom']"
   ]
  },
  {
   "cell_type": "code",
   "execution_count": 10,
   "metadata": {},
   "outputs": [],
   "source": [
    "path = \"/Users/tommayer/Desktop/training_data.csv\"\n",
    "#data = load_data(path)\n",
    "data = pd.read_csv(path, usecols=required_columns)\n",
    "## drastically reduces the number of rows and columns -> way less memory"
   ]
  },
  {
   "cell_type": "code",
   "execution_count": 11,
   "metadata": {},
   "outputs": [
    {
     "data": {
      "text/html": [
       "<div>\n",
       "<style scoped>\n",
       "    .dataframe tbody tr th:only-of-type {\n",
       "        vertical-align: middle;\n",
       "    }\n",
       "\n",
       "    .dataframe tbody tr th {\n",
       "        vertical-align: top;\n",
       "    }\n",
       "\n",
       "    .dataframe thead th {\n",
       "        text-align: right;\n",
       "    }\n",
       "</style>\n",
       "<table border=\"1\" class=\"dataframe\">\n",
       "  <thead>\n",
       "    <tr style=\"text-align: right;\">\n",
       "      <th></th>\n",
       "      <th>Inning</th>\n",
       "      <th>Top/Bottom</th>\n",
       "      <th>TaggedPitchType</th>\n",
       "      <th>AutoPitchType</th>\n",
       "      <th>RunsScored</th>\n",
       "      <th>RelSpeed</th>\n",
       "      <th>VertRelAngle</th>\n",
       "      <th>HorzRelAngle</th>\n",
       "      <th>SpinRate</th>\n",
       "      <th>SpinAxis</th>\n",
       "      <th>Tilt</th>\n",
       "      <th>RelHeight</th>\n",
       "      <th>Extension</th>\n",
       "      <th>InducedVertBreak</th>\n",
       "      <th>HorzBreak</th>\n",
       "      <th>VertApprAngle</th>\n",
       "      <th>HorzApprAngle</th>\n",
       "      <th>GameID</th>\n",
       "    </tr>\n",
       "  </thead>\n",
       "  <tbody>\n",
       "    <tr>\n",
       "      <th>0</th>\n",
       "      <td>1</td>\n",
       "      <td>Top</td>\n",
       "      <td>Slider</td>\n",
       "      <td>Slider</td>\n",
       "      <td>0</td>\n",
       "      <td>86.34831</td>\n",
       "      <td>-5.087035</td>\n",
       "      <td>-0.556059</td>\n",
       "      <td>2514.190308</td>\n",
       "      <td>69.694698</td>\n",
       "      <td>8:15</td>\n",
       "      <td>6.89596</td>\n",
       "      <td>5.20061</td>\n",
       "      <td>-1.26150</td>\n",
       "      <td>-6.71201</td>\n",
       "      <td>-12.231122</td>\n",
       "      <td>-1.751516</td>\n",
       "      <td>20240302-OleMiss-1</td>\n",
       "    </tr>\n",
       "    <tr>\n",
       "      <th>1</th>\n",
       "      <td>1</td>\n",
       "      <td>Top</td>\n",
       "      <td>Fastball</td>\n",
       "      <td>Four-Seam</td>\n",
       "      <td>0</td>\n",
       "      <td>94.49974</td>\n",
       "      <td>-3.133086</td>\n",
       "      <td>-0.492520</td>\n",
       "      <td>2095.787589</td>\n",
       "      <td>190.374426</td>\n",
       "      <td>12:15</td>\n",
       "      <td>6.87165</td>\n",
       "      <td>5.83655</td>\n",
       "      <td>20.20828</td>\n",
       "      <td>3.49654</td>\n",
       "      <td>-5.365324</td>\n",
       "      <td>0.134391</td>\n",
       "      <td>20240302-OleMiss-1</td>\n",
       "    </tr>\n",
       "    <tr>\n",
       "      <th>2</th>\n",
       "      <td>1</td>\n",
       "      <td>Top</td>\n",
       "      <td>Fastball</td>\n",
       "      <td>Four-Seam</td>\n",
       "      <td>0</td>\n",
       "      <td>94.81021</td>\n",
       "      <td>-3.910073</td>\n",
       "      <td>-1.135525</td>\n",
       "      <td>1996.806823</td>\n",
       "      <td>178.803234</td>\n",
       "      <td>12:00</td>\n",
       "      <td>6.94572</td>\n",
       "      <td>5.67326</td>\n",
       "      <td>22.06875</td>\n",
       "      <td>-0.43740</td>\n",
       "      <td>-5.815582</td>\n",
       "      <td>-1.213668</td>\n",
       "      <td>20240302-OleMiss-1</td>\n",
       "    </tr>\n",
       "    <tr>\n",
       "      <th>3</th>\n",
       "      <td>1</td>\n",
       "      <td>Top</td>\n",
       "      <td>Slider</td>\n",
       "      <td>Slider</td>\n",
       "      <td>0</td>\n",
       "      <td>86.30865</td>\n",
       "      <td>-1.385858</td>\n",
       "      <td>-0.791508</td>\n",
       "      <td>3480.483920</td>\n",
       "      <td>100.930240</td>\n",
       "      <td>9:15</td>\n",
       "      <td>6.96039</td>\n",
       "      <td>5.43599</td>\n",
       "      <td>2.34610</td>\n",
       "      <td>-6.38485</td>\n",
       "      <td>-7.862841</td>\n",
       "      <td>-1.929632</td>\n",
       "      <td>20240302-OleMiss-1</td>\n",
       "    </tr>\n",
       "    <tr>\n",
       "      <th>4</th>\n",
       "      <td>1</td>\n",
       "      <td>Top</td>\n",
       "      <td>Slider</td>\n",
       "      <td>Slider</td>\n",
       "      <td>0</td>\n",
       "      <td>87.45870</td>\n",
       "      <td>-4.605749</td>\n",
       "      <td>-1.323250</td>\n",
       "      <td>1287.761851</td>\n",
       "      <td>79.042003</td>\n",
       "      <td>8:45</td>\n",
       "      <td>6.99938</td>\n",
       "      <td>5.28786</td>\n",
       "      <td>0.27646</td>\n",
       "      <td>-4.37162</td>\n",
       "      <td>-11.264591</td>\n",
       "      <td>-2.102031</td>\n",
       "      <td>20240302-OleMiss-1</td>\n",
       "    </tr>\n",
       "  </tbody>\n",
       "</table>\n",
       "</div>"
      ],
      "text/plain": [
       "   Inning Top/Bottom TaggedPitchType AutoPitchType  RunsScored  RelSpeed  \\\n",
       "0       1        Top          Slider        Slider           0  86.34831   \n",
       "1       1        Top        Fastball     Four-Seam           0  94.49974   \n",
       "2       1        Top        Fastball     Four-Seam           0  94.81021   \n",
       "3       1        Top          Slider        Slider           0  86.30865   \n",
       "4       1        Top          Slider        Slider           0  87.45870   \n",
       "\n",
       "   VertRelAngle  HorzRelAngle     SpinRate    SpinAxis   Tilt  RelHeight  \\\n",
       "0     -5.087035     -0.556059  2514.190308   69.694698   8:15    6.89596   \n",
       "1     -3.133086     -0.492520  2095.787589  190.374426  12:15    6.87165   \n",
       "2     -3.910073     -1.135525  1996.806823  178.803234  12:00    6.94572   \n",
       "3     -1.385858     -0.791508  3480.483920  100.930240   9:15    6.96039   \n",
       "4     -4.605749     -1.323250  1287.761851   79.042003   8:45    6.99938   \n",
       "\n",
       "   Extension  InducedVertBreak  HorzBreak  VertApprAngle  HorzApprAngle  \\\n",
       "0    5.20061          -1.26150   -6.71201     -12.231122      -1.751516   \n",
       "1    5.83655          20.20828    3.49654      -5.365324       0.134391   \n",
       "2    5.67326          22.06875   -0.43740      -5.815582      -1.213668   \n",
       "3    5.43599           2.34610   -6.38485      -7.862841      -1.929632   \n",
       "4    5.28786           0.27646   -4.37162     -11.264591      -2.102031   \n",
       "\n",
       "               GameID  \n",
       "0  20240302-OleMiss-1  \n",
       "1  20240302-OleMiss-1  \n",
       "2  20240302-OleMiss-1  \n",
       "3  20240302-OleMiss-1  \n",
       "4  20240302-OleMiss-1  "
      ]
     },
     "execution_count": 11,
     "metadata": {},
     "output_type": "execute_result"
    }
   ],
   "source": [
    "# peer at data and get a sense of the shape\n",
    "data.head(5)\n",
    "#print(f'Data shape: {data.shape}')"
   ]
  },
  {
   "cell_type": "markdown",
   "metadata": {},
   "source": [
    "---\n",
    "#### <span style=\"color:chocolate\"> Step 2: Exploratory data analysis (EDA) </span>\n",
    "- check for missing values\n",
    "- check for duplicates\n",
    "- check for outliers\n",
    "- check for class imbalance\n"
   ]
  },
  {
   "cell_type": "markdown",
   "metadata": {},
   "source": [
    "Rows to be dropped if N/A: \n",
    "- our target variables\n",
    "- name, date, location, team??\n"
   ]
  },
  {
   "cell_type": "code",
   "execution_count": 12,
   "metadata": {},
   "outputs": [
    {
     "data": {
      "image/png": "[encoded data removed]",
      "text/plain": [
       "<Figure size 1000x600 with 1 Axes>"
      ]
     },
     "metadata": {},
     "output_type": "display_data"
    }
   ],
   "source": [
    "import matplotlib.pyplot as plt\n",
    "import seaborn as sns\n",
    "\n",
    "# Plot the distribution of the target variable\n",
    "plt.figure(figsize=(10, 6))\n",
    "sns.histplot(data['RunsScored'], bins=30, kde=True)\n",
    "plt.title('Distribution of RunsScored')\n",
    "plt.xlabel('RunsScored')\n",
    "plt.ylabel('Frequency')\n",
    "plt.show()"
   ]
  },
  {
   "cell_type": "code",
   "execution_count": 13,
   "metadata": {},
   "outputs": [],
   "source": [
    "# drop rows without certain columns\n",
    "data = data.dropna(subset=required_columns)"
   ]
  },
  {
   "cell_type": "code",
   "execution_count": 14,
   "metadata": {},
   "outputs": [
    {
     "name": "stdout",
     "output_type": "stream",
     "text": [
      "Number of rows dropped: 0\n"
     ]
    }
   ],
   "source": [
    "# check how many rows were dropped\n",
    "print(f'Number of rows dropped: {data.shape[0] - len(data)}')\n"
   ]
  },
  {
   "cell_type": "markdown",
   "metadata": {},
   "source": [
    "Check data types:"
   ]
  },
  {
   "cell_type": "code",
   "execution_count": 15,
   "metadata": {},
   "outputs": [
    {
     "name": "stdout",
     "output_type": "stream",
     "text": [
      "Inning                int64\n",
      "Top/Bottom           object\n",
      "TaggedPitchType      object\n",
      "AutoPitchType        object\n",
      "RunsScored            int64\n",
      "RelSpeed            float64\n",
      "VertRelAngle        float64\n",
      "HorzRelAngle        float64\n",
      "SpinRate            float64\n",
      "SpinAxis            float64\n",
      "Tilt                 object\n",
      "RelHeight           float64\n",
      "Extension           float64\n",
      "InducedVertBreak    float64\n",
      "HorzBreak           float64\n",
      "VertApprAngle       float64\n",
      "HorzApprAngle       float64\n",
      "GameID               object\n",
      "dtype: object\n"
     ]
    }
   ],
   "source": [
    "print(data.dtypes)"
   ]
  },
  {
   "cell_type": "code",
   "execution_count": 16,
   "metadata": {},
   "outputs": [],
   "source": [
    "independent_vars = data.drop(['RunsScored'], axis=1)\n",
    "dependent_var = data['RunsScored']"
   ]
  },
  {
   "cell_type": "code",
   "execution_count": 17,
   "metadata": {},
   "outputs": [],
   "source": [
    "# reference this down below so i dont have to list them out there\n",
    "# Get column names by data type\n",
    "categorical_columns = independent_vars.select_dtypes(include=['object']).columns.tolist()\n",
    "numerical_columns = independent_vars.select_dtypes(include=['float64', 'int64']).columns.tolist()\n",
    "\n"
   ]
  },
  {
   "cell_type": "code",
   "execution_count": 18,
   "metadata": {},
   "outputs": [
    {
     "name": "stdout",
     "output_type": "stream",
     "text": [
      "Categorical columns: ['Top/Bottom', 'TaggedPitchType', 'AutoPitchType', 'Tilt', 'GameID']\n",
      "Numerical columns: ['Inning', 'RelSpeed', 'VertRelAngle', 'HorzRelAngle', 'SpinRate', 'SpinAxis', 'RelHeight', 'Extension', 'InducedVertBreak', 'HorzBreak', 'VertApprAngle', 'HorzApprAngle']\n"
     ]
    }
   ],
   "source": [
    "print(f'Categorical columns: {categorical_columns}')\n",
    "print(f'Numerical columns: {numerical_columns}')"
   ]
  },
  {
   "cell_type": "markdown",
   "metadata": {},
   "source": [
    "Need to leave 'Top/Bottom', 'Inning', 'GameID' in the dataframe but not use them as features"
   ]
  },
  {
   "cell_type": "markdown",
   "metadata": {},
   "source": [
    "### Feature Engineering:"
   ]
  },
  {
   "cell_type": "code",
   "execution_count": 45,
   "metadata": {},
   "outputs": [],
   "source": [
    "# Add interaction terms between key features\n",
    "\"\"\"\n",
    "data['SpeedSpin'] = data['RelSpeed'] * data['SpinRate']\n",
    "data['BreakComposite'] = data['InducedVertBreak'] * data['HorzBreak']\n",
    "\n",
    "# Add polynomial features for important numerical variables\n",
    "data['RelSpeed_Squared'] = data['RelSpeed'] ** 2\n",
    "data['SpinRate_Squared'] = data['SpinRate'] ** 2 \"\"\""
   ]
  },
  {
   "cell_type": "markdown",
   "metadata": {},
   "source": [
    "### New Target Variable: Run Expectancy"
   ]
  },
  {
   "cell_type": "markdown",
   "metadata": {},
   "source": [
    "run_value = (RE_before - RE_after) + runs_scored_on_play"
   ]
  },
  {
   "cell_type": "markdown",
   "metadata": {},
   "source": [
    "---\n",
    "#### <span style=\"color:chocolate\"> Step 3: Data Preprocessing </span>\n",
    "- drop columns that are not useful?\n",
    "- encode labels \n",
    "- split into training and testing data\n",
    "- standardize data"
   ]
  },
  {
   "cell_type": "markdown",
   "metadata": {},
   "source": [
    "Working with certain data types: \\\n",
    "a) numerical data (float, int)  \\\n",
    "    - scale data \\\n",
    "    - RelSpeed, SpinRate, InducedVertBreak, HorzBreak, ExitSpeed, etc \\\n",
    "    \\\n",
    "b) categorical data (object/string) \\\n",
    "    - encode data (one-hot encoding with sklearn LabelEncoder) \\\n",
    "    - TaggedPitchType, AutoPitchType, PitchCall, KorBB, TaggedHitType, PlayResult\n"
   ]
  },
  {
   "cell_type": "code",
   "execution_count": 19,
   "metadata": {},
   "outputs": [],
   "source": [
    "def preprocess_data(data: pd.DataFrame) -> tuple[pd.DataFrame, pd.DataFrame, pd.DataFrame, pd.Series, pd.Series, pd.Series]:\n",
    "    \"\"\"\n",
    "    Preprocesses the data by identifying column types, encoding categorical data, and scaling numerical data.\n",
    "    Returns train/test/validation splits of features and target.\n",
    "    \"\"\"\n",
    "    \n",
    "    # 1. Separate metadata columns we want to keep but not use as features\n",
    "    metadata_cols = ['Top/Bottom', 'Inning', 'GameID']\n",
    "    \n",
    "    # 2. Identify column types (excluding metadata columns)\n",
    "    feature_cols = [col for col in data.columns if col not in metadata_cols + ['RunsScored']]\n",
    "    numerical_cols = data[feature_cols].select_dtypes(include=['int64', 'float64']).columns\n",
    "    categorical_cols = data[feature_cols].select_dtypes(include=['object']).columns\n",
    "\n",
    "    # 3. Create a copy of the data for feature engineering\n",
    "    features_df = data[feature_cols].copy()\n",
    "    \n",
    "    # 4. Handle categorical data\n",
    "    features_df = pd.get_dummies(features_df, columns=categorical_columns)\n",
    "\n",
    "    # 5. Scale numerical features\n",
    "    scaler = StandardScaler()\n",
    "    numerical_features = numerical_columns\n",
    "    features_df[numerical_features] = scaler.fit_transform(features_df[numerical_features])\n",
    "    \n",
    "    # 6. Add back metadata columns\n",
    "    features_df = pd.concat([features_df, data[metadata_cols]], axis=1)\n",
    "\n",
    "    # 7. Split into features and target\n",
    "    X = features_df\n",
    "    y = data['RunsScored']\n",
    "\n",
    "    # 8. Split into train/test/validation sets\n",
    "    X_train, X_test, y_train, y_test = train_test_split(X, y, test_size=0.2, random_state=0)\n",
    "    X_train, X_val, y_train, y_val = train_test_split(X_train, y_train, test_size=0.2, random_state=0)\n",
    "    \n",
    "    print(f'X_train shape: {X_train.shape}')\n",
    "    print(f'X_val shape: {X_val.shape}')\n",
    "    print(f'X_test shape: {X_test.shape}')\n",
    "    print(f'y_train shape: {y_train.shape}')\n",
    "    print(f'y_val shape: {y_val.shape}')\n",
    "    print(f'y_test shape: {y_test.shape}')\n",
    "\n",
    "    return X_train, X_test, X_val, y_train, y_test, y_val"
   ]
  },
  {
   "cell_type": "code",
   "execution_count": 20,
   "metadata": {},
   "outputs": [
    {
     "ename": "KeyError",
     "evalue": "\"['Top/Bottom', 'GameID'] not in index\"",
     "output_type": "error",
     "traceback": [
      "\u001b[0;31m---------------------------------------------------------------------------\u001b[0m",
      "\u001b[0;31mKeyError\u001b[0m                                  Traceback (most recent call last)",
      "Cell \u001b[0;32mIn[20], line 1\u001b[0m\n\u001b[0;32m----> 1\u001b[0m X_train, X_test, X_val, y_train, y_test, y_val \u001b[38;5;241m=\u001b[39m \u001b[43mpreprocess_data\u001b[49m\u001b[43m(\u001b[49m\u001b[43mdata\u001b[49m\u001b[43m)\u001b[49m\n",
      "Cell \u001b[0;32mIn[19], line 19\u001b[0m, in \u001b[0;36mpreprocess_data\u001b[0;34m(data)\u001b[0m\n\u001b[1;32m     16\u001b[0m features_df \u001b[38;5;241m=\u001b[39m data[feature_cols]\u001b[38;5;241m.\u001b[39mcopy()\n\u001b[1;32m     18\u001b[0m \u001b[38;5;66;03m# 4. Handle categorical data\u001b[39;00m\n\u001b[0;32m---> 19\u001b[0m features_df \u001b[38;5;241m=\u001b[39m \u001b[43mpd\u001b[49m\u001b[38;5;241;43m.\u001b[39;49m\u001b[43mget_dummies\u001b[49m\u001b[43m(\u001b[49m\u001b[43mfeatures_df\u001b[49m\u001b[43m,\u001b[49m\u001b[43m \u001b[49m\u001b[43mcolumns\u001b[49m\u001b[38;5;241;43m=\u001b[39;49m\u001b[43mcategorical_columns\u001b[49m\u001b[43m)\u001b[49m\n\u001b[1;32m     21\u001b[0m \u001b[38;5;66;03m# 5. Scale numerical features\u001b[39;00m\n\u001b[1;32m     22\u001b[0m scaler \u001b[38;5;241m=\u001b[39m StandardScaler()\n",
      "File \u001b[0;32m~/.pyenv/versions/3.12.6/lib/python3.12/site-packages/pandas/core/reshape/encoding.py:169\u001b[0m, in \u001b[0;36mget_dummies\u001b[0;34m(data, prefix, prefix_sep, dummy_na, columns, sparse, drop_first, dtype)\u001b[0m\n\u001b[1;32m    167\u001b[0m     \u001b[38;5;28;01mraise\u001b[39;00m \u001b[38;5;167;01mTypeError\u001b[39;00m(\u001b[38;5;124m\"\u001b[39m\u001b[38;5;124mInput must be a list-like for parameter `columns`\u001b[39m\u001b[38;5;124m\"\u001b[39m)\n\u001b[1;32m    168\u001b[0m \u001b[38;5;28;01melse\u001b[39;00m:\n\u001b[0;32m--> 169\u001b[0m     data_to_encode \u001b[38;5;241m=\u001b[39m \u001b[43mdata\u001b[49m\u001b[43m[\u001b[49m\u001b[43mcolumns\u001b[49m\u001b[43m]\u001b[49m\n\u001b[1;32m    171\u001b[0m \u001b[38;5;66;03m# validate prefixes and separator to avoid silently dropping cols\u001b[39;00m\n\u001b[1;32m    172\u001b[0m \u001b[38;5;28;01mdef\u001b[39;00m \u001b[38;5;21mcheck_len\u001b[39m(item, name: \u001b[38;5;28mstr\u001b[39m):\n",
      "File \u001b[0;32m~/.pyenv/versions/3.12.6/lib/python3.12/site-packages/pandas/core/frame.py:4108\u001b[0m, in \u001b[0;36mDataFrame.__getitem__\u001b[0;34m(self, key)\u001b[0m\n\u001b[1;32m   4106\u001b[0m     \u001b[38;5;28;01mif\u001b[39;00m is_iterator(key):\n\u001b[1;32m   4107\u001b[0m         key \u001b[38;5;241m=\u001b[39m \u001b[38;5;28mlist\u001b[39m(key)\n\u001b[0;32m-> 4108\u001b[0m     indexer \u001b[38;5;241m=\u001b[39m \u001b[38;5;28;43mself\u001b[39;49m\u001b[38;5;241;43m.\u001b[39;49m\u001b[43mcolumns\u001b[49m\u001b[38;5;241;43m.\u001b[39;49m\u001b[43m_get_indexer_strict\u001b[49m\u001b[43m(\u001b[49m\u001b[43mkey\u001b[49m\u001b[43m,\u001b[49m\u001b[43m \u001b[49m\u001b[38;5;124;43m\"\u001b[39;49m\u001b[38;5;124;43mcolumns\u001b[39;49m\u001b[38;5;124;43m\"\u001b[39;49m\u001b[43m)\u001b[49m[\u001b[38;5;241m1\u001b[39m]\n\u001b[1;32m   4110\u001b[0m \u001b[38;5;66;03m# take() does not accept boolean indexers\u001b[39;00m\n\u001b[1;32m   4111\u001b[0m \u001b[38;5;28;01mif\u001b[39;00m \u001b[38;5;28mgetattr\u001b[39m(indexer, \u001b[38;5;124m\"\u001b[39m\u001b[38;5;124mdtype\u001b[39m\u001b[38;5;124m\"\u001b[39m, \u001b[38;5;28;01mNone\u001b[39;00m) \u001b[38;5;241m==\u001b[39m \u001b[38;5;28mbool\u001b[39m:\n",
      "File \u001b[0;32m~/.pyenv/versions/3.12.6/lib/python3.12/site-packages/pandas/core/indexes/base.py:6200\u001b[0m, in \u001b[0;36mIndex._get_indexer_strict\u001b[0;34m(self, key, axis_name)\u001b[0m\n\u001b[1;32m   6197\u001b[0m \u001b[38;5;28;01melse\u001b[39;00m:\n\u001b[1;32m   6198\u001b[0m     keyarr, indexer, new_indexer \u001b[38;5;241m=\u001b[39m \u001b[38;5;28mself\u001b[39m\u001b[38;5;241m.\u001b[39m_reindex_non_unique(keyarr)\n\u001b[0;32m-> 6200\u001b[0m \u001b[38;5;28;43mself\u001b[39;49m\u001b[38;5;241;43m.\u001b[39;49m\u001b[43m_raise_if_missing\u001b[49m\u001b[43m(\u001b[49m\u001b[43mkeyarr\u001b[49m\u001b[43m,\u001b[49m\u001b[43m \u001b[49m\u001b[43mindexer\u001b[49m\u001b[43m,\u001b[49m\u001b[43m \u001b[49m\u001b[43maxis_name\u001b[49m\u001b[43m)\u001b[49m\n\u001b[1;32m   6202\u001b[0m keyarr \u001b[38;5;241m=\u001b[39m \u001b[38;5;28mself\u001b[39m\u001b[38;5;241m.\u001b[39mtake(indexer)\n\u001b[1;32m   6203\u001b[0m \u001b[38;5;28;01mif\u001b[39;00m \u001b[38;5;28misinstance\u001b[39m(key, Index):\n\u001b[1;32m   6204\u001b[0m     \u001b[38;5;66;03m# GH 42790 - Preserve name from an Index\u001b[39;00m\n",
      "File \u001b[0;32m~/.pyenv/versions/3.12.6/lib/python3.12/site-packages/pandas/core/indexes/base.py:6252\u001b[0m, in \u001b[0;36mIndex._raise_if_missing\u001b[0;34m(self, key, indexer, axis_name)\u001b[0m\n\u001b[1;32m   6249\u001b[0m     \u001b[38;5;28;01mraise\u001b[39;00m \u001b[38;5;167;01mKeyError\u001b[39;00m(\u001b[38;5;124mf\u001b[39m\u001b[38;5;124m\"\u001b[39m\u001b[38;5;124mNone of [\u001b[39m\u001b[38;5;132;01m{\u001b[39;00mkey\u001b[38;5;132;01m}\u001b[39;00m\u001b[38;5;124m] are in the [\u001b[39m\u001b[38;5;132;01m{\u001b[39;00maxis_name\u001b[38;5;132;01m}\u001b[39;00m\u001b[38;5;124m]\u001b[39m\u001b[38;5;124m\"\u001b[39m)\n\u001b[1;32m   6251\u001b[0m not_found \u001b[38;5;241m=\u001b[39m \u001b[38;5;28mlist\u001b[39m(ensure_index(key)[missing_mask\u001b[38;5;241m.\u001b[39mnonzero()[\u001b[38;5;241m0\u001b[39m]]\u001b[38;5;241m.\u001b[39munique())\n\u001b[0;32m-> 6252\u001b[0m \u001b[38;5;28;01mraise\u001b[39;00m \u001b[38;5;167;01mKeyError\u001b[39;00m(\u001b[38;5;124mf\u001b[39m\u001b[38;5;124m\"\u001b[39m\u001b[38;5;132;01m{\u001b[39;00mnot_found\u001b[38;5;132;01m}\u001b[39;00m\u001b[38;5;124m not in index\u001b[39m\u001b[38;5;124m\"\u001b[39m)\n",
      "\u001b[0;31mKeyError\u001b[0m: \"['Top/Bottom', 'GameID'] not in index\""
     ]
    }
   ],
   "source": [
    "X_train, X_test, X_val, y_train, y_test, y_val = preprocess_data(data)"
   ]
  },
  {
   "cell_type": "code",
   "execution_count": null,
   "metadata": {},
   "outputs": [],
   "source": [
    "def calculate_future_runs(group):\n",
    "    # Sum runs scored after each pitch until end of inning (RE_after)\n",
    "    # RE_before = runs scored before the pitch\n",
    "    group['future_runs'] = group['RunsScored'].iloc[::-1].cumsum().iloc[::-1] - group['RunsScored']\n",
    "    return group\n",
    "\n",
    "# Group by game and inning to respect boundaries\n",
    "data = data.groupby(['GameID', 'InningID', 'Top/Bottom']).apply(calculate_future_runs)"
   ]
  },
  {
   "cell_type": "code",
   "execution_count": 48,
   "metadata": {},
   "outputs": [],
   "source": [
    "from sklearn.utils.class_weight import compute_class_weight\n",
    "\n",
    "class_weights = compute_class_weight('balanced', \n",
    "                                    classes=np.unique(y_train), \n",
    "                                    y=y_train)\n",
    "class_weight_dict = dict(zip(np.unique(y_train), class_weights))"
   ]
  },
  {
   "cell_type": "code",
   "execution_count": 49,
   "metadata": {},
   "outputs": [],
   "source": [
    "from sklearn.ensemble import RandomForestRegressor\n",
    "from sklearn.utils.class_weight import compute_sample_weight\n",
    "\n",
    "# Compute sample weights based on class frequencies\n",
    "sample_weights = compute_sample_weight('balanced', y_train)"
   ]
  },
  {
   "cell_type": "markdown",
   "metadata": {},
   "source": [
    "---\n",
    "#### <span style=\"color:chocolate\"> Step 4: Modeling </span>\n",
    "- train a decision tree\n",
    "- train a random forest\n",
    "- train a gradient boosting machine (XGBoost)\n",
    "- compare the three models"
   ]
  },
  {
   "cell_type": "markdown",
   "metadata": {},
   "source": [
    "# Run Expectancy Model\n",
    "**Notes**\n",
    "- GOAL: train the model to predict the number of runs scored in the rest of the inning after each pitch\n",
    "- we will use this to calculate the run value of each pitch\n",
    "- BIG IDEA: \n",
    "    - train a model to predict the number of runs scored in the rest of the inning after each pitch \n",
    "    - then, we can use this model to calculate the run value of each pitch\n",
    "    - this will take into account the run expectancy of the game, inning, and base/out state (but we dont have the bases state)\n",
    "\n"
   ]
  },
  {
   "cell_type": "code",
   "execution_count": null,
   "metadata": {},
   "outputs": [],
   "source": [
    "def train_run_expectancy_model(data):\n",
    "    \"\"\"\n",
    "    Train model to predict runs scored in remainder of inning\n",
    "    \"\"\"\n",
    "    # Features that could predict run expectancy\n",
    "    features = [\n",
    "        'RelSpeed', 'RelHeight', 'VertRelAngle', 'HorzRelAngle',\n",
    "        'SpinRate', 'SpinAxis', 'InducedVertBreak', 'HorzBreak',\n",
    "        'VertApprAngle', 'HorzApprAngle',\n",
    "        # Add dummy variables for pitch types\n",
    "        # the star is a list comprehension that creates a list of all the columns that start with 'TaggedPitchType_'\n",
    "        *[col for col in data.columns if col.startswith('TaggedPitchType_')]\n",
    "    ]\n",
    "    \n",
    "    X = data[features]\n",
    "    y = data['future_runs']  # Target is runs scored in remainder of inning\n",
    "    \n",
    "    # Split respecting game boundaries\n",
    "    game_ids = data['GameID'].unique()\n",
    "    train_games, test_games = train_test_split(game_ids, test_size=0.2, random_state=1)\n",
    "    \n",
    "    X_train = X[data['GameID'].isin(train_games)]\n",
    "    X_test = X[data['GameID'].isin(test_games)]\n",
    "    y_train = y[data['GameID'].isin(train_games)]\n",
    "    y_test = y[data['GameID'].isin(test_games)]\n",
    "    \n",
    "    model = GradientBoostingRegressor(\n",
    "        n_estimators=100,\n",
    "        learning_rate=0.1,\n",
    "        max_depth=3,\n",
    "        random_state=42\n",
    "    )\n",
    "    \n",
    "    model.fit(X_train, y_train)\n",
    "    \n",
    "    return model, X_test, y_test\n",
    "\n",
    "def calculate_pitch_run_values(data, model):\n",
    "    \"\"\"\n",
    "    Calculate run value for each pitch\n",
    "    \"\"\"\n",
    "    # Group by game and inning\n",
    "    def process_inning(group):\n",
    "        # Get features for prediction\n",
    "        features = [\n",
    "            'RelSpeed', 'RelHeight', 'VertRelAngle', 'HorzRelAngle',\n",
    "            'SpinRate', 'SpinAxis', 'InducedVertBreak', 'HorzBreak',\n",
    "            'VertApprAngle', 'HorzApprAngle',\n",
    "            *[col for col in group.columns if col.startswith('TaggedPitchType_')]\n",
    "        ]\n",
    "        \n",
    "        # Calculate run expectancy before and after each pitch\n",
    "        re_before = model.predict(group[features])\n",
    "        re_after = np.roll(re_before, -1)  # Shift predictions up by one\n",
    "        re_after[-1] = 0  # Last pitch in inning has 0 future run expectancy\n",
    "        \n",
    "        # Calculate run value\n",
    "        run_value = re_before - re_after + group['RunsScored']\n",
    "        \n",
    "        return run_value\n",
    "    \n",
    "    data['run_value'] = data.groupby(['GameID', 'InningID', 'InningHalf']).apply(process_inning)\n",
    "    \n",
    "    return data\n",
    "\n",
    "# Usage example:\n",
    "def analyze_run_values():\n",
    "    # Prepare data\n",
    "    data = prepare_run_expectancy_data(data)\n",
    "    \n",
    "    # Train model\n",
    "    model, X_test, y_test = train_run_expectancy_model(data)\n",
    "    \n",
    "    # Calculate run values\n",
    "    data = calculate_pitch_run_values(data, model)\n",
    "    \n",
    "    # Analyze results\n",
    "    print(\"\\nAverage Run Values by Pitch Type:\")\n",
    "    print(data.groupby('TaggedPitchType')['run_value'].mean().sort_values(ascending=False))\n",
    "    \n",
    "    # Visualize\n",
    "    plt.figure(figsize=(10, 6))\n",
    "    sns.boxplot(x='TaggedPitchType', y='run_value', data=data)\n",
    "    plt.title('Run Values by Pitch Type')\n",
    "    plt.xticks(rotation=45)\n",
    "    plt.tight_layout()\n",
    "    plt.show()"
   ]
  },
  {
   "cell_type": "code",
   "execution_count": null,
   "metadata": {},
   "outputs": [],
   "source": []
  }
 ],
 "metadata": {
  "kernelspec": {
   "display_name": "Python 3",
   "language": "python",
   "name": "python3"
  },
  "language_info": {
   "codemirror_mode": {
    "name": "ipython",
    "version": 3
   },
   "file_extension": ".py",
   "mimetype": "text/x-python",
   "name": "python",
   "nbconvert_exporter": "python",
   "pygments_lexer": "ipython3",
   "version": "3.12.6"
  }
 },
 "nbformat": 4,
 "nbformat_minor": 2
}
