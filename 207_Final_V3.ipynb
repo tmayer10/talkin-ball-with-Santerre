{
 "cells": [
  {
   "cell_type": "code",
   "execution_count": 35,
   "id": "1306b465",
   "metadata": {},
   "outputs": [],
   "source": [
    "import pandas as pd\n",
    "\n",
    "# Path to your CSV file\n",
    "file_path = \"/Users/thomasclaiborne/Downloads/training_data.csv\"\n",
    "\n",
    "chunk_size = 100000  # Number of rows per chunk\n",
    "chunks = pd.read_csv(file_path, chunksize=chunk_size)\n",
    "\n"
   ]
  },
  {
   "cell_type": "code",
   "execution_count": 36,
   "id": "258ef303",
   "metadata": {},
   "outputs": [
    {
     "name": "stderr",
     "output_type": "stream",
     "text": [
      "/var/folders/4r/yb6kq92n7nv16sy9y4wfcjww0000gp/T/ipykernel_33676/1543202016.py:2: DtypeWarning: Columns (27,92,93) have mixed types. Specify dtype option on import or set low_memory=False.\n",
      "  df = pd.concat(chunks)\n",
      "/var/folders/4r/yb6kq92n7nv16sy9y4wfcjww0000gp/T/ipykernel_33676/1543202016.py:2: DtypeWarning: Columns (27,92,93) have mixed types. Specify dtype option on import or set low_memory=False.\n",
      "  df = pd.concat(chunks)\n",
      "/var/folders/4r/yb6kq92n7nv16sy9y4wfcjww0000gp/T/ipykernel_33676/1543202016.py:2: DtypeWarning: Columns (27,92,93) have mixed types. Specify dtype option on import or set low_memory=False.\n",
      "  df = pd.concat(chunks)\n",
      "/var/folders/4r/yb6kq92n7nv16sy9y4wfcjww0000gp/T/ipykernel_33676/1543202016.py:2: DtypeWarning: Columns (27,92,93) have mixed types. Specify dtype option on import or set low_memory=False.\n",
      "  df = pd.concat(chunks)\n",
      "/var/folders/4r/yb6kq92n7nv16sy9y4wfcjww0000gp/T/ipykernel_33676/1543202016.py:2: DtypeWarning: Columns (27,92,93) have mixed types. Specify dtype option on import or set low_memory=False.\n",
      "  df = pd.concat(chunks)\n",
      "/var/folders/4r/yb6kq92n7nv16sy9y4wfcjww0000gp/T/ipykernel_33676/1543202016.py:2: DtypeWarning: Columns (27,92,93) have mixed types. Specify dtype option on import or set low_memory=False.\n",
      "  df = pd.concat(chunks)\n",
      "/var/folders/4r/yb6kq92n7nv16sy9y4wfcjww0000gp/T/ipykernel_33676/1543202016.py:2: DtypeWarning: Columns (27,92,93) have mixed types. Specify dtype option on import or set low_memory=False.\n",
      "  df = pd.concat(chunks)\n",
      "/var/folders/4r/yb6kq92n7nv16sy9y4wfcjww0000gp/T/ipykernel_33676/1543202016.py:2: DtypeWarning: Columns (27,92,93) have mixed types. Specify dtype option on import or set low_memory=False.\n",
      "  df = pd.concat(chunks)\n",
      "/var/folders/4r/yb6kq92n7nv16sy9y4wfcjww0000gp/T/ipykernel_33676/1543202016.py:2: DtypeWarning: Columns (27,92,93) have mixed types. Specify dtype option on import or set low_memory=False.\n",
      "  df = pd.concat(chunks)\n",
      "/var/folders/4r/yb6kq92n7nv16sy9y4wfcjww0000gp/T/ipykernel_33676/1543202016.py:2: DtypeWarning: Columns (27,92,93) have mixed types. Specify dtype option on import or set low_memory=False.\n",
      "  df = pd.concat(chunks)\n",
      "/var/folders/4r/yb6kq92n7nv16sy9y4wfcjww0000gp/T/ipykernel_33676/1543202016.py:2: DtypeWarning: Columns (27,92,93) have mixed types. Specify dtype option on import or set low_memory=False.\n",
      "  df = pd.concat(chunks)\n"
     ]
    }
   ],
   "source": [
    "# Combine all chunks into a single DataFrame\n",
    "df = pd.concat(chunks)\n"
   ]
  },
  {
   "cell_type": "code",
   "execution_count": 37,
   "id": "7a4a8566",
   "metadata": {},
   "outputs": [
    {
     "name": "stdout",
     "output_type": "stream",
     "text": [
      "Original DataFrame shape: (1068473, 167)\n",
      "New DataFrame shape: (1068473, 23)\n",
      "\n",
      "New DataFrame info:\n",
      "<class 'pandas.core.frame.DataFrame'>\n",
      "RangeIndex: 1068473 entries, 0 to 1068472\n",
      "Data columns (total 23 columns):\n",
      " #   Column            Non-Null Count    Dtype  \n",
      "---  ------            --------------    -----  \n",
      " 0   TaggedPitchType   1068473 non-null  object \n",
      " 1   AutoPitchType     1053452 non-null  object \n",
      " 2   PitchCall         1068473 non-null  object \n",
      " 3   KorBB             1068473 non-null  object \n",
      " 4   TaggedHitType     1068473 non-null  object \n",
      " 5   PlayResult        1068473 non-null  object \n",
      " 6   RunsScored        1068473 non-null  int64  \n",
      " 7   RelSpeed          1060584 non-null  float64\n",
      " 8   VertRelAngle      1060584 non-null  float64\n",
      " 9   HorzRelAngle      1060584 non-null  float64\n",
      " 10  SpinRate          1060067 non-null  float64\n",
      " 11  SpinAxis          1053452 non-null  float64\n",
      " 12  Tilt              1053452 non-null  object \n",
      " 13  RelHeight         1060584 non-null  float64\n",
      " 14  RelSide           1060584 non-null  float64\n",
      " 15  Extension         1060243 non-null  float64\n",
      " 16  InducedVertBreak  1053452 non-null  float64\n",
      " 17  HorzBreak         1053452 non-null  float64\n",
      " 18  VertApprAngle     1060584 non-null  float64\n",
      " 19  HorzApprAngle     1060584 non-null  float64\n",
      " 20  PlateLocHeight    1060584 non-null  float64\n",
      " 21  PlateLocSide      1060584 non-null  float64\n",
      " 22  ExitSpeed         271979 non-null   float64\n",
      "dtypes: float64(15), int64(1), object(7)\n",
      "memory usage: 187.5+ MB\n",
      "None\n"
     ]
    }
   ],
   "source": [
    "# Define required columns\n",
    "required_columns = ['TaggedPitchType', 'AutoPitchType', 'PitchCall', 'KorBB', 'TaggedHitType',\n",
    "                    'PlayResult', 'RunsScored', 'RelSpeed', 'VertRelAngle', 'HorzRelAngle',\n",
    "                    'SpinRate', 'SpinAxis', 'Tilt', 'RelHeight', 'RelSide', 'Extension','InducedVertBreak',\n",
    "                    'HorzBreak', 'VertApprAngle', 'HorzApprAngle','PlateLocHeight','PlateLocSide',\n",
    "                    'ExitSpeed']\n",
    "\n",
    "# Create new dataframe with only required columns\n",
    "df_relevant = df[required_columns]\n",
    "\n",
    "# Print info about the new dataframe\n",
    "print(f\"Original DataFrame shape: {df.shape}\")\n",
    "print(f\"New DataFrame shape: {df_relevant.shape}\")\n",
    "print(\"\\nNew DataFrame info:\")\n",
    "print(df_relevant.info())\n"
   ]
  },
  {
   "cell_type": "code",
   "execution_count": 38,
   "id": "78968d25",
   "metadata": {},
   "outputs": [
    {
     "name": "stdout",
     "output_type": "stream",
     "text": [
      "\n",
      "Unique values in PlayResult:\n",
      "['Undefined' 'Single' 'Out' 'HomeRun' 'Double' 'Error' 'Sacrifice'\n",
      " 'FieldersChoice' 'Triple' 'StolenBase' 'CaughtStealing' 'error']\n",
      "\n",
      "Unique values in PitchCall:\n",
      "['BallCalled' 'StrikeCalled' 'FoulBallNotFieldable' 'StrikeSwinging'\n",
      " 'InPlay' 'HitByPitch' 'FoulBallFieldable' 'FoulBall' 'BallinDirt'\n",
      " 'Undefined' 'BallIntentional' 'StrkeSwinging ']\n"
     ]
    }
   ],
   "source": [
    "# Look at unique values in PlayResult and PitchCall columns\n",
    "print(\"\\nUnique values in PlayResult:\")\n",
    "print(df_relevant['PlayResult'].unique())\n",
    "\n",
    "print(\"\\nUnique values in PitchCall:\")\n",
    "print(df_relevant['PitchCall'].unique())\n"
   ]
  },
  {
   "cell_type": "code",
   "execution_count": 39,
   "id": "33273260",
   "metadata": {},
   "outputs": [
    {
     "name": "stderr",
     "output_type": "stream",
     "text": [
      "/var/folders/4r/yb6kq92n7nv16sy9y4wfcjww0000gp/T/ipykernel_33676/4039161935.py:29: SettingWithCopyWarning: \n",
      "A value is trying to be set on a copy of a slice from a DataFrame.\n",
      "Try using .loc[row_indexer,col_indexer] = value instead\n",
      "\n",
      "See the caveats in the documentation: https://pandas.pydata.org/pandas-docs/stable/user_guide/indexing.html#returning-a-view-versus-a-copy\n",
      "  df_relevant['PitchResult'] = df_relevant.apply(calculate_pitch_result, axis=1)\n"
     ]
    }
   ],
   "source": [
    "import numpy as np\n",
    "def calculate_pitch_result(row):\n",
    "    if pd.notna(row['PlayResult']):\n",
    "        if row['PlayResult'] == 'Single':\n",
    "            return 'Single'\n",
    "        elif row['PlayResult'] == 'Double':\n",
    "            return 'Double'\n",
    "        elif row['PlayResult'] == 'Triple':\n",
    "            return 'Triple'\n",
    "        elif row['PlayResult'] == 'HomeRun':\n",
    "            return 'HomeRun'\n",
    "        elif row['PlayResult'] == 'Undefined':  # Fixed capitalization\n",
    "            if pd.notna(row['PitchCall']):\n",
    "                if row['PitchCall'] == 'BallCalled':\n",
    "                    return 'Ball'\n",
    "                elif row['PitchCall'] == 'FoulBallNotFieldable':\n",
    "                    return 'FoulBall'\n",
    "                elif row['PitchCall'] == 'FoulBallFieldable':\n",
    "                    return 'FoulBall'\n",
    "                elif row['PitchCall'] == 'FoulBall':\n",
    "                    return 'FoulBall'\n",
    "                elif row['PitchCall'] == 'StrikeSwinging':\n",
    "                    return 'Strike'\n",
    "                elif row['PitchCall'] == 'StrikeCalled':\n",
    "                    return 'Strike'\n",
    "    return np.nan  # Return np.nan for any unaccounted combinations\n",
    "\n",
    "# Apply the updated function\n",
    "df_relevant['PitchResult'] = df_relevant.apply(calculate_pitch_result, axis=1)\n"
   ]
  },
  {
   "cell_type": "code",
   "execution_count": 40,
   "id": "1c4b0f8b",
   "metadata": {},
   "outputs": [
    {
     "name": "stdout",
     "output_type": "stream",
     "text": [
      "Original shape: (1068473, 24)\n",
      "Shape after removing NaN PitchResult: (922496, 24)\n"
     ]
    }
   ],
   "source": [
    "# Remove rows where PitchResult is NaN\n",
    "df_relevant_clean = df_relevant.dropna(subset=['PitchResult'])\n",
    "\n",
    "# Print shape before and after to see how many rows were removed\n",
    "print(f\"Original shape: {df_relevant.shape}\")\n",
    "print(f\"Shape after removing NaN PitchResult: {df_relevant_clean.shape}\")\n"
   ]
  },
  {
   "cell_type": "code",
   "execution_count": 41,
   "id": "ce0a4c9b",
   "metadata": {},
   "outputs": [
    {
     "name": "stdout",
     "output_type": "stream",
     "text": [
      "\n",
      "Numerical columns:\n",
      "['RunsScored', 'RelSpeed', 'VertRelAngle', 'HorzRelAngle', 'SpinRate', 'SpinAxis', 'RelHeight', 'RelSide', 'Extension', 'InducedVertBreak', 'HorzBreak', 'VertApprAngle', 'HorzApprAngle', 'PlateLocHeight', 'PlateLocSide', 'ExitSpeed']\n",
      "\n",
      "Non-numerical columns:\n",
      "['TaggedPitchType', 'AutoPitchType', 'PitchCall', 'KorBB', 'TaggedHitType', 'PlayResult', 'Tilt', 'PitchResult']\n"
     ]
    }
   ],
   "source": [
    "# Get lists of numerical and non-numerical columns\n",
    "numerical_columns = df_relevant_clean.select_dtypes(include=['int64', 'float64']).columns\n",
    "non_numerical_columns = df_relevant_clean.select_dtypes(exclude=['int64', 'float64']).columns\n",
    "\n",
    "print(\"\\nNumerical columns:\")\n",
    "print(numerical_columns.tolist())\n",
    "\n",
    "print(\"\\nNon-numerical columns:\")\n",
    "print(non_numerical_columns.tolist())\n"
   ]
  },
  {
   "cell_type": "code",
   "execution_count": 42,
   "id": "31e67c09",
   "metadata": {},
   "outputs": [
    {
     "name": "stdout",
     "output_type": "stream",
     "text": [
      "\n",
      "Number of NaN values in numerical columns:\n",
      "RelSpeed              5899\n",
      "VertRelAngle          5899\n",
      "HorzRelAngle          5899\n",
      "SpinRate              6391\n",
      "SpinAxis             11946\n",
      "RelHeight             5899\n",
      "RelSide               5899\n",
      "Extension             6189\n",
      "InducedVertBreak     11946\n",
      "HorzBreak            11946\n",
      "VertApprAngle         5899\n",
      "HorzApprAngle         5899\n",
      "PlateLocHeight        5899\n",
      "PlateLocSide          5899\n",
      "ExitSpeed           756338\n",
      "dtype: int64\n",
      "\n",
      "Original shape: (922496, 24)\n",
      "Shape after removing NaN values (except ExitSpeed): (909839, 24)\n"
     ]
    }
   ],
   "source": [
    "# Calculate and display number of NaN values in numerical columns\n",
    "nan_counts = df_relevant_clean[numerical_columns].isna().sum()\n",
    "print(\"\\nNumber of NaN values in numerical columns:\")\n",
    "print(nan_counts[nan_counts > 0])  # Only show columns that have NaN values\n",
    "\n",
    "# Create a new dataset dropping NaN values except for ExitSpeed\n",
    "columns_to_check = [col for col in numerical_columns if col != 'ExitSpeed']\n",
    "df_relevant_no_nans = df_relevant_clean.dropna(subset=columns_to_check)\n",
    "\n",
    "# Print shape before and after to see how many rows were removed\n",
    "print(f\"\\nOriginal shape: {df_relevant_clean.shape}\")\n",
    "print(f\"Shape after removing NaN values (except ExitSpeed): {df_relevant_no_nans.shape}\")\n",
    "\n"
   ]
  },
  {
   "cell_type": "code",
   "execution_count": 20,
   "id": "9e863ea4",
   "metadata": {},
   "outputs": [],
   "source": [
    "# Import necessary libraries\n",
    "from sklearn.ensemble import RandomForestClassifier\n",
    "from sklearn.model_selection import train_test_split\n",
    "from sklearn.metrics import classification_report, confusion_matrix\n",
    "import numpy as np\n",
    "\n",
    "# Get numerical columns except ExitSpeed\n",
    "numerical_features = df_relevant_clean.select_dtypes(include=['int64', 'float64']).columns.tolist()\n",
    "numerical_features.remove('ExitSpeed')\n",
    "numerical_features.remove('RunsScored')\n",
    "\n",
    "# Prepare features (X) and target (y)\n",
    "X = df_relevant_clean[numerical_features]\n",
    "y = df_relevant_clean['PitchResult']  # Using PitchCall as the target\n",
    "\n",
    "# Split the data\n",
    "X_train, X_test, y_train, y_test = train_test_split(X, y, test_size=0.2, random_state=42)\n",
    "\n"
   ]
  },
  {
   "cell_type": "code",
   "execution_count": 21,
   "id": "9640dad1",
   "metadata": {},
   "outputs": [
    {
     "name": "stdout",
     "output_type": "stream",
     "text": [
      "Classification Report:\n",
      "              precision    recall  f1-score   support\n",
      "\n",
      "        Ball       0.93      0.97      0.95     79495\n",
      "      Double       0.98      0.72      0.83      2558\n",
      "    FoulBall       0.90      0.80      0.85     32625\n",
      "     HomeRun       1.00      0.73      0.85      1526\n",
      "      Single       0.99      0.71      0.83      8553\n",
      "      Strike       0.85      0.90      0.88     59481\n",
      "      Triple       0.98      0.71      0.82       262\n",
      "\n",
      "    accuracy                           0.90    184500\n",
      "   macro avg       0.95      0.79      0.86    184500\n",
      "weighted avg       0.90      0.90      0.90    184500\n",
      "\n",
      "\n",
      "Feature Importance:\n",
      "             feature  importance\n",
      "13      PlateLocSide    0.173021\n",
      "12    PlateLocHeight    0.160260\n",
      "10     VertApprAngle    0.068707\n",
      "1       VertRelAngle    0.065082\n",
      "2       HorzRelAngle    0.057597\n",
      "11     HorzApprAngle    0.056124\n",
      "6            RelSide    0.054999\n",
      "5          RelHeight    0.054677\n",
      "0           RelSpeed    0.052815\n",
      "8   InducedVertBreak    0.052583\n",
      "7          Extension    0.052131\n",
      "3           SpinRate    0.052012\n",
      "9          HorzBreak    0.050353\n",
      "4           SpinAxis    0.049640\n"
     ]
    }
   ],
   "source": [
    "# Initialize and train the model\n",
    "rf_model = RandomForestClassifier(n_estimators=100, random_state=42, n_jobs=-1)\n",
    "rf_model.fit(X_train, y_train)\n",
    "\n",
    "# Make predictions\n",
    "y_pred = rf_model.predict(X_test)\n",
    "\n",
    "# Print model performance\n",
    "print(\"Classification Report:\")\n",
    "print(classification_report(y_test, y_pred))\n",
    "\n",
    "# Print feature importance\n",
    "feature_importance = pd.DataFrame({\n",
    "    'feature': numerical_features,\n",
    "    'importance': rf_model.feature_importances_\n",
    "})\n",
    "print(\"\\nFeature Importance:\")\n",
    "print(feature_importance.sort_values('importance', ascending=False))"
   ]
  },
  {
   "cell_type": "code",
   "execution_count": 43,
   "id": "a28a25f7",
   "metadata": {},
   "outputs": [
    {
     "name": "stdout",
     "output_type": "stream",
     "text": [
      "Maximum tree depth: 70\n",
      "Minimum tree depth: 52\n",
      "Average tree depth: 60.02\n"
     ]
    }
   ],
   "source": [
    "# Get the depths of all trees in the Random Forest\n",
    "tree_depths = [estimator.tree_.max_depth for estimator in rf_model.estimators_]\n",
    "\n",
    "# Print the maximum, minimum, and average depth of the trees\n",
    "print(f\"Maximum tree depth: {max(tree_depths)}\")\n",
    "print(f\"Minimum tree depth: {min(tree_depths)}\")\n",
    "print(f\"Average tree depth: {np.mean(tree_depths):.2f}\")\n"
   ]
  },
  {
   "cell_type": "code",
   "execution_count": 44,
   "id": "a10a88f1",
   "metadata": {},
   "outputs": [
    {
     "name": "stdout",
     "output_type": "stream",
     "text": [
      "Training Accuracy: 1.00\n",
      "Test Accuracy: 0.90\n"
     ]
    }
   ],
   "source": [
    "from sklearn.metrics import accuracy_score\n",
    "\n",
    "# Training accuracy\n",
    "y_train_pred = rf_model.predict(X_train)\n",
    "training_accuracy = accuracy_score(y_train, y_train_pred)\n",
    "print(f\"Training Accuracy: {training_accuracy:.2f}\")\n",
    "\n",
    "# Test accuracy (you already computed this indirectly, but re-confirming here)\n",
    "y_test_pred = rf_model.predict(X_test)\n",
    "test_accuracy = accuracy_score(y_test, y_test_pred)\n",
    "print(f\"Test Accuracy: {test_accuracy:.2f}\")\n",
    "\n"
   ]
  },
  {
   "cell_type": "code",
   "execution_count": 50,
   "id": "d99723e6",
   "metadata": {},
   "outputs": [
    {
     "name": "stdout",
     "output_type": "stream",
     "text": [
      "Training Accuracy (with limited depth): 0.95\n",
      "Test Accuracy (with limited depth): 0.85\n"
     ]
    }
   ],
   "source": [
    "# Reinitialize the Random Forest model with a limited tree depth\n",
    "rf_model = RandomForestClassifier(\n",
    "    n_estimators=100,\n",
    "    max_depth=27,  # Start with 15 as a reasonable value\n",
    "    random_state=42,\n",
    "    n_jobs=-1\n",
    ")\n",
    "\n",
    "# Retrain the model\n",
    "rf_model.fit(X_train, y_train)\n",
    "\n",
    "# Recompute training and test accuracies\n",
    "y_train_pred = rf_model.predict(X_train)\n",
    "training_accuracy = accuracy_score(y_train, y_train_pred)\n",
    "print(f\"Training Accuracy (with limited depth): {training_accuracy:.2f}\")\n",
    "\n",
    "y_test_pred = rf_model.predict(X_test)\n",
    "test_accuracy = accuracy_score(y_test, y_test_pred)\n",
    "print(f\"Test Accuracy (with limited depth): {test_accuracy:.2f}\")\n"
   ]
  },
  {
   "cell_type": "markdown",
   "id": "42d7f97b",
   "metadata": {},
   "source": [
    "# Model Performance\n",
    "\n",
    "| Model Configuration       | Training Accuracy | Test Accuracy |\n",
    "|---------------------------|-------------------|---------------|\n",
    "| Original (max_depth=None: 50 to 70) | **100%**          | **90%**       |\n",
    "| Limited Depth (max_depth=15) | **67%**          | **65%**       |\n",
    "| Limited Depth (max_depth=20) | **79%**          | **72%**       |\n",
    "| Limited Depth (max_depth=25) | **92%**          | **82%**       |\n",
    "| Limited Depth (max_depth=27) | **95%**          | **85%**       |\n",
    "| Limited Depth (max_depth=30) | **98%**          | **88%**       |\n"
   ]
  },
  {
   "cell_type": "code",
   "execution_count": null,
   "id": "1d8221d6",
   "metadata": {},
   "outputs": [],
   "source": []
  }
 ],
 "metadata": {
  "kernelspec": {
   "display_name": "Python 3 (ipykernel)",
   "language": "python",
   "name": "python3"
  },
  "language_info": {
   "codemirror_mode": {
    "name": "ipython",
    "version": 3
   },
   "file_extension": ".py",
   "mimetype": "text/x-python",
   "name": "python",
   "nbconvert_exporter": "python",
   "pygments_lexer": "ipython3",
   "version": "3.9.6"
  }
 },
 "nbformat": 4,
 "nbformat_minor": 5
}
